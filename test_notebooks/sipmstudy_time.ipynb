{
 "cells": [
  {
   "cell_type": "code",
   "execution_count": 1,
   "metadata": {},
   "outputs": [],
   "source": [
    "import pandas as pd\n",
    "import matplotlib.pyplot as plt\n",
    "import numpy as np\n",
    "\n",
    "from invisible_cities.core.core_functions  import shift_to_bin_centers\n",
    "from invisible_cities.core                 import fit_functions as fitf"
   ]
  },
  {
   "cell_type": "code",
   "execution_count": 2,
   "metadata": {},
   "outputs": [],
   "source": [
    "def hist(*args, **kwargs):\n",
    "    \"\"\"\n",
    "    Create a figure and then the histogram\n",
    "    \"\"\"\n",
    "    create_new_figure(kwargs)\n",
    "\n",
    "    y, x, p = plt.hist(*args, **kwargs)\n",
    "    return y, shift_to_bin_centers(x), p\n",
    "\n",
    "\n",
    "def hist2d(*args, **kwargs):\n",
    "    \"\"\"\n",
    "    Create a figure and then the histogram\n",
    "    \"\"\"\n",
    "    create_new_figure(kwargs)\n",
    "\n",
    "    z, x, y, p = plt.hist2d(*args, **kwargs)\n",
    "    return z, shift_to_bin_centers(x), shift_to_bin_centers(y), p\n",
    "\n",
    "def hist2d_profile(x, y, z, nbinx, nbiny, xrange, yrange, **kwargs):\n",
    "    \"\"\"\n",
    "    Create a profile 2d of the data and plot it as an histogram.\n",
    "    \"\"\"\n",
    "    x, y, z, ze = fitf.profileXY(x, y, z, nbinx, nbiny, xrange, yrange)\n",
    "    plot_output = display_matrix(x, y, z, **kwargs)\n",
    "    return ((x, y, z, ze), *plot_output)\n",
    "\n",
    "def display_matrix(x, y, z, mask=None, **kwargs):\n",
    "    \"\"\"\n",
    "    Display the matrix z using the coordinates x and y as the bin centers.\n",
    "    \"\"\"\n",
    "    nx = x = np.size(x)\n",
    "    ny = np.size(y)\n",
    "\n",
    "    dx = (np.max(x) - np.min(x)) / nx\n",
    "    dy = (np.max(y) - np.min(y)) / ny\n",
    "\n",
    "    x_binning = np.linspace(np.min(x) - dx, np.max(x) + dx, nx + 1)\n",
    "    y_binning = np.linspace(np.min(y) - dy, np.max(y) + dy, ny + 1)\n",
    "\n",
    "    x_ = np.repeat(x, ny)\n",
    "    y_ = np.tile  (y, nx)\n",
    "    z_ = z.flatten()\n",
    "\n",
    "    if mask is None:\n",
    "        mask = np.ones_like(z_, dtype=bool)\n",
    "    else:\n",
    "        mask = mask.flatten()\n",
    "    h  = hist2d(x_[mask], y_[mask], (x_binning,\n",
    "                                     y_binning),\n",
    "                weights = z_[mask],\n",
    "                **kwargs)\n",
    "    return h, plt.colorbar()\n",
    "\n",
    "def create_new_figure(kwargs):\n",
    "    if kwargs.setdefault(\"new_figure\", True):\n",
    "        plt.figure()\n",
    "    del kwargs[\"new_figure\"]\n",
    "\n",
    "def labels(xlabel, ylabel, title=\"\"):\n",
    "    \"\"\"\n",
    "    Set x and y labels.\n",
    "    \"\"\"\n",
    "    plt.xlabel(xlabel)\n",
    "    plt.ylabel(ylabel)\n",
    "    plt.title ( title)"
   ]
  },
  {
   "cell_type": "code",
   "execution_count": 3,
   "metadata": {},
   "outputs": [],
   "source": [
    "file_name = \"flex.kr83m.1.s3mmp15mm.nexus.h5\"\n",
    "this_dir = \"/Users/taylorcontreras/Development/Research/Odyssey_sipmstudy/\""
   ]
  },
  {
   "cell_type": "code",
   "execution_count": 4,
   "metadata": {},
   "outputs": [
    {
     "data": {
      "text/plain": [
       "(array([ 2.,  1.,  7.,  5.,  3.,  7.,  6.,  7.,  8., 13., 10., 15.,  9.,\n",
       "         6.,  1.]),\n",
       " array([ 4.        ,  5.06666667,  6.13333333,  7.2       ,  8.26666667,\n",
       "         9.33333333, 10.4       , 11.46666667, 12.53333333, 13.6       ,\n",
       "        14.66666667, 15.73333333, 16.8       , 17.86666667, 18.93333333,\n",
       "        20.        ]),\n",
       " <a list of 15 Patch objects>)"
      ]
     },
     "execution_count": 4,
     "metadata": {},
     "output_type": "execute_result"
    },
    {
     "data": {
      "image/png": "[encoded data removed]",
      "text/plain": [
       "<Figure size 432x288 with 1 Axes>"
      ]
     },
     "metadata": {
      "needs_background": "light"
     },
     "output_type": "display_data"
    }
   ],
   "source": [
    "# Get all sensor responses and all the sensor positions\n",
    "sns_response = pd.read_hdf(this_dir+file_name, 'MC/sns_response')\n",
    "sns_positions = pd.read_hdf(this_dir+file_name, 'MC/sns_positions')\n",
    "sns_response_sorted = sns_response.sort_values(by=['sensor_id'])\n",
    "sipm_response = sns_response_sorted.loc[sns_response_sorted[\"sensor_id\"] >999]\n",
    "sipm_response = sipm_response.loc[sipm_response[\"time_bin\"] >0]\n",
    "pmt_response = sns_response_sorted.loc[sns_response_sorted[\"sensor_id\"] < 60]\n",
    "pmt_response = pmt_response.loc[pmt_response[\"time_bin\"] >0]\n",
    "\n",
    "pmt_time_binning = .025 # microseconds (25ns)\n",
    "sipm_time_binning = 1.0 # microseconds\n",
    "\n",
    "times_sipm = sipm_response.groupby(['event_id']).apply(lambda group: group['time_bin'].max() - group['time_bin'].min())\n",
    "plt.hist(times_sipm*sipm_time_binning, bins=15)\n"
   ]
  },
  {
   "cell_type": "code",
   "execution_count": null,
   "metadata": {},
   "outputs": [],
   "source": []
  },
  {
   "cell_type": "code",
   "execution_count": 5,
   "metadata": {},
   "outputs": [
    {
     "data": {
      "text/plain": [
       "event_id\n",
       "100    15.3\n",
       "101     9.0\n",
       "102    13.5\n",
       "103    14.4\n",
       "104     9.9\n",
       "       ... \n",
       "195    14.4\n",
       "196     9.9\n",
       "197    10.8\n",
       "198     8.1\n",
       "199     9.0\n",
       "Length: 100, dtype: float64"
      ]
     },
     "execution_count": 5,
     "metadata": {},
     "output_type": "execute_result"
    }
   ],
   "source": [
    "dark_rate = 0.1 # MHz/mm^2 (inverse in microseconds)\n",
    "# Dark count per sipm = event time x sipm size x dark count\n",
    "sipm_size = 3.**2.\n",
    "dark_count = times_sipm*sipm_size*dark_rate\n",
    "dark_count"
   ]
  },
  {
   "cell_type": "code",
   "execution_count": 6,
   "metadata": {},
   "outputs": [],
   "source": [
    "def Thresh_by_Event(group, args=dark_count):\n",
    "    event = group.event_id.max()\n",
    "    thresh = dark_count[event]\n",
    "    return group[group.charge > thresh]\n",
    "\n",
    "def Center_of_Event(sipm_response_in_event, sipm_positions):\n",
    "    sensor_ids = sipm_response_in_event.sensor_id\n",
    "    sensor_positions = sipm_positions.loc[sensor_ids]\n",
    "    \n",
    "    denominator = np.sum(sipm_response_in_event.charge)\n",
    "    numerator = np.sum(sipm_response_in_event.set_index('sensor_id').charge*sensor_positions)\n",
    "\n",
    "    return numerator/denominator\n",
    "\n",
    "#thresh_sipm_response = sipm_response_by_event.apply(Thresh_by_Event).set_index('event_id').groupby('event_id')"
   ]
  },
  {
   "cell_type": "code",
   "execution_count": 7,
   "metadata": {},
   "outputs": [],
   "source": [
    "sipm_response_by_event = sipm_response.groupby('event_id')\n",
    "thresh_sipm_response = sipm_response_by_event.apply(Thresh_by_Event, args=(dark_count)).set_index('event_id').groupby('event_id')\n",
    "#for _, grp in sipm_response_by_event:\n",
    "#    print(grp.event_id.max())\n"
   ]
  },
  {
   "cell_type": "code",
   "execution_count": 8,
   "metadata": {},
   "outputs": [
    {
     "data": {
      "text/plain": [
       "<pandas.core.groupby.generic.DataFrameGroupBy object at 0x7fed106f3ed0>"
      ]
     },
     "execution_count": 8,
     "metadata": {},
     "output_type": "execute_result"
    }
   ],
   "source": [
    "thresh_sipm_response"
   ]
  },
  {
   "cell_type": "code",
   "execution_count": 9,
   "metadata": {},
   "outputs": [
    {
     "data": {
      "text/html": [
       "<div>\n",
       "<style scoped>\n",
       "    .dataframe tbody tr th:only-of-type {\n",
       "        vertical-align: middle;\n",
       "    }\n",
       "\n",
       "    .dataframe tbody tr th {\n",
       "        vertical-align: top;\n",
       "    }\n",
       "\n",
       "    .dataframe thead th {\n",
       "        text-align: right;\n",
       "    }\n",
       "</style>\n",
       "<table border=\"1\" class=\"dataframe\">\n",
       "  <thead>\n",
       "    <tr style=\"text-align: right;\">\n",
       "      <th></th>\n",
       "      <th>pmt_charge</th>\n",
       "      <th>sipm_charge</th>\n",
       "      <th>x</th>\n",
       "      <th>y</th>\n",
       "    </tr>\n",
       "    <tr>\n",
       "      <th>event_id</th>\n",
       "      <th></th>\n",
       "      <th></th>\n",
       "      <th></th>\n",
       "      <th></th>\n",
       "    </tr>\n",
       "  </thead>\n",
       "  <tbody>\n",
       "    <tr>\n",
       "      <th>100</th>\n",
       "      <td>7420</td>\n",
       "      <td>8192</td>\n",
       "      <td>140.906012</td>\n",
       "      <td>348.969094</td>\n",
       "    </tr>\n",
       "    <tr>\n",
       "      <th>101</th>\n",
       "      <td>7387</td>\n",
       "      <td>7937</td>\n",
       "      <td>181.833232</td>\n",
       "      <td>342.855508</td>\n",
       "    </tr>\n",
       "    <tr>\n",
       "      <th>102</th>\n",
       "      <td>6780</td>\n",
       "      <td>7270</td>\n",
       "      <td>459.191362</td>\n",
       "      <td>11.945248</td>\n",
       "    </tr>\n",
       "    <tr>\n",
       "      <th>103</th>\n",
       "      <td>7346</td>\n",
       "      <td>7877</td>\n",
       "      <td>-0.493579</td>\n",
       "      <td>-404.524478</td>\n",
       "    </tr>\n",
       "    <tr>\n",
       "      <th>104</th>\n",
       "      <td>7790</td>\n",
       "      <td>7809</td>\n",
       "      <td>236.413043</td>\n",
       "      <td>-142.134977</td>\n",
       "    </tr>\n",
       "    <tr>\n",
       "      <th>...</th>\n",
       "      <td>...</td>\n",
       "      <td>...</td>\n",
       "      <td>...</td>\n",
       "      <td>...</td>\n",
       "    </tr>\n",
       "    <tr>\n",
       "      <th>195</th>\n",
       "      <td>7898</td>\n",
       "      <td>8055</td>\n",
       "      <td>277.866460</td>\n",
       "      <td>-40.866460</td>\n",
       "    </tr>\n",
       "    <tr>\n",
       "      <th>196</th>\n",
       "      <td>7958</td>\n",
       "      <td>7969</td>\n",
       "      <td>-162.320607</td>\n",
       "      <td>-132.955382</td>\n",
       "    </tr>\n",
       "    <tr>\n",
       "      <th>197</th>\n",
       "      <td>7651</td>\n",
       "      <td>7947</td>\n",
       "      <td>156.484584</td>\n",
       "      <td>-285.859584</td>\n",
       "    </tr>\n",
       "    <tr>\n",
       "      <th>198</th>\n",
       "      <td>7674</td>\n",
       "      <td>8136</td>\n",
       "      <td>355.461409</td>\n",
       "      <td>-107.156040</td>\n",
       "    </tr>\n",
       "    <tr>\n",
       "      <th>199</th>\n",
       "      <td>7531</td>\n",
       "      <td>8064</td>\n",
       "      <td>69.984848</td>\n",
       "      <td>-378.997835</td>\n",
       "    </tr>\n",
       "  </tbody>\n",
       "</table>\n",
       "<p>100 rows × 4 columns</p>\n",
       "</div>"
      ],
      "text/plain": [
       "          pmt_charge  sipm_charge           x           y\n",
       "event_id                                                 \n",
       "100             7420         8192  140.906012  348.969094\n",
       "101             7387         7937  181.833232  342.855508\n",
       "102             6780         7270  459.191362   11.945248\n",
       "103             7346         7877   -0.493579 -404.524478\n",
       "104             7790         7809  236.413043 -142.134977\n",
       "...              ...          ...         ...         ...\n",
       "195             7898         8055  277.866460  -40.866460\n",
       "196             7958         7969 -162.320607 -132.955382\n",
       "197             7651         7947  156.484584 -285.859584\n",
       "198             7674         8136  355.461409 -107.156040\n",
       "199             7531         8064   69.984848 -378.997835\n",
       "\n",
       "[100 rows x 4 columns]"
      ]
     },
     "execution_count": 9,
     "metadata": {},
     "output_type": "execute_result"
    }
   ],
   "source": [
    "\n",
    "sns_positions = pd.read_hdf(this_dir+file_name, 'MC/sns_positions')\n",
    "\n",
    "# Sort to get the sipm positions\n",
    "sns_pos_sorted = sns_positions.sort_values(by=['sensor_id'])\n",
    "sipm_positions = sns_pos_sorted[sns_pos_sorted[\"sensor_name\"].str.contains(\"SiPM\")]\n",
    "\n",
    "# Create separate dataframes for the sipm and pmt response\n",
    "sns_response_sorted = sns_response.sort_values(by=['sensor_id'])\n",
    "sipm_response = sns_response_sorted.loc[sns_response_sorted[\"sensor_id\"] >999]\n",
    "pmt_response = sns_response_sorted.loc[sns_response_sorted[\"sensor_id\"] < 60]\n",
    "\n",
    "# Summed pmt energy per event\n",
    "response_perevent_pmt = pmt_response.groupby('event_id')\n",
    "summed_charges_byevent_pmt = response_perevent_pmt.agg({\"charge\":\"sum\"})\n",
    "\n",
    "# Summed sipm energy per event\n",
    "response_perevent_sipm = sipm_response.groupby('event_id')\n",
    "summed_charges_byevent_sipm = response_perevent_sipm.agg({\"charge\":\"sum\"})\n",
    "\n",
    "# Position of the event(sipm with the max charge)\n",
    "idx = sipm_response.groupby(['event_id'])['charge'].transform(max) == sipm_response['charge']\n",
    "max_sipms = sipm_response[idx].sort_values('sensor_id').set_index('sensor_id')\n",
    "new_max_sipm_positions = sipm_positions.set_index('sensor_id')\n",
    "this = new_max_sipm_positions.loc[max_sipms.index.values.tolist()] \n",
    "event_map = pd.concat([max_sipms.loc[:,'event_id'],this.loc[:,['x','y','z']]], axis=1).set_index('event_id').sort_values(by='event_id')\n",
    "\n",
    "pmt_map = pd.concat([summed_charges_byevent_pmt,event_map],axis=1)\n",
    "sipm_map = pd.concat([summed_charges_byevent_sipm,event_map],axis=1)\n",
    "\n",
    "# Make position a function of r\n",
    "pmt_r = pmt_map.apply(lambda row: np.sqrt(row.x**2 + row.y**2), axis=1)\n",
    "pmt_r = pmt_r.to_frame()\n",
    "pmt_r = pmt_r.rename(columns = {pmt_r.columns[0]:'r'})\n",
    "pmt_map = pd.concat([pmt_map, pmt_r],axis=1).sort_values(by='r')\n",
    "sipm_r = sipm_map.apply(lambda row: np.sqrt(row.x**2 + row.y**2), axis=1)\n",
    "sipm_r = sipm_r.to_frame()\n",
    "sipm_r = sipm_r.rename(columns = {sipm_r.columns[0]:'r'})\n",
    "sipm_map = pd.concat([sipm_map, sipm_r],axis=1).sort_values(by='r')\n",
    "\n",
    "event_x = thresh_sipm_response.apply(lambda row: Center_of_Event(row,sipm_positions.set_index('sensor_id').x))\n",
    "event_x = pd.DataFrame({'event_id':event_x.index,'x':event_x.values}).set_index('event_id')\n",
    "event_y = thresh_sipm_response.apply(lambda row: Center_of_Event(row,sipm_positions.set_index('sensor_id').y))\n",
    "event_y = pd.DataFrame({'event_id':event_y.index,'y':event_y.values}).set_index('event_id')\n",
    "\n",
    "sipm_charge = sipm_response_by_event.agg({\"charge\":\"sum\"}).rename(columns={'charge':'sipm_charge'})\n",
    "pmt_charge = pmt_response.groupby('event_id').agg({\"charge\":\"sum\"}).rename(columns={'charge':'pmt_charge'})\n",
    "kr_map = pd.concat([pmt_charge,sipm_charge,event_x,event_y],axis=1)\n",
    "kr_map"
   ]
  },
  {
   "cell_type": "code",
   "execution_count": 10,
   "metadata": {},
   "outputs": [
    {
     "data": {
      "text/plain": [
       "<matplotlib.colorbar.Colorbar at 0x7fecf8349d10>"
      ]
     },
     "execution_count": 10,
     "metadata": {},
     "output_type": "execute_result"
    },
    {
     "data": {
      "image/png": "[encoded data removed]",
      "text/plain": [
       "<Figure size 432x288 with 2 Axes>"
      ]
     },
     "metadata": {
      "needs_background": "light"
     },
     "output_type": "display_data"
    }
   ],
   "source": [
    "plt.hist2d(sipm_map.x, sipm_map.y, weights = sipm_map.charge, bins=[50,50])\n",
    "plt.colorbar(label='title')"
   ]
  },
  {
   "cell_type": "code",
   "execution_count": 11,
   "metadata": {},
   "outputs": [],
   "source": [
    "dark_rate = 0.1 # MHz/mm^2 (inverse in microseconds)\n",
    "# Dark count per sipm = event time x sipm size x dark count\n",
    "sipm_size = 3.**2.\n",
    "dark_count = times_sipm*sipm_size*dark_rate\n",
    "dark_rates = {1:90, 3:450, 6:1800}\n",
    "#dark_rates["
   ]
  },
  {
   "cell_type": "code",
   "execution_count": 12,
   "metadata": {},
   "outputs": [
    {
     "name": "stdout",
     "output_type": "stream",
     "text": [
      "Looping in mcs\n",
      "Looping files in mc\n",
      "561782    False\n",
      "872763    False\n",
      "561781    False\n",
      "275513    False\n",
      "475747    False\n",
      "          ...  \n",
      "569950    False\n",
      "162672    False\n",
      "677592    False\n",
      "283644    False\n",
      "634419    False\n",
      "Name: charge, Length: 355425, dtype: bool\n",
      "104\n"
     ]
    }
   ],
   "source": [
    "s3mmp15mm = {'files': [this_dir+file_name], \"size\":3, \"pitch\":15, \"dir\": \"s3mmp15mm\"}\n",
    "mcs = [s3mmp15mm]\n",
    "\n",
    "pmt_time_binning = .025 # microseconds (25ns)\n",
    "sipm_time_binning = 1.0 # microseconds\n",
    "for mc in mcs:\n",
    "    \n",
    "    print(\"Looping in mcs\")\n",
    "    sipm_timing = pd.DataFrame()\n",
    "    pmt_timing = pd.DataFrame()\n",
    "    \n",
    "    for file in mc[\"files\"]:\n",
    "        print(\"Looping files in mc\")\n",
    "        # Get all sensor responses and all the sensor positions\n",
    "        sns_response = pd.read_hdf(file, 'MC/sns_response')\n",
    "        sns_positions = pd.read_hdf(file, 'MC/sns_positions')\n",
    "        sns_response_sorted = sns_response.sort_values(by=['sensor_id'])\n",
    "        \n",
    "        sipm_response = sns_response_sorted.loc[sns_response_sorted[\"sensor_id\"] >999]\n",
    "        sipm_response = sipm_response.loc[sipm_response[\"time_bin\"] >0] \n",
    "        \n",
    "        pmt_response = sns_response_sorted.loc[sns_response_sorted[\"sensor_id\"] < 60]\n",
    "        pmt_response = pmt_response.loc[pmt_response[\"time_bin\"] >0]\n",
    "\n",
    "        pmt_timing = pmt_timing.append(pmt_response.groupby(['event_id'])\\\n",
    "                        .apply(lambda group: group['time_bin'].max() - group['time_bin'].min()), ignore_index=True)\n",
    "        sipm_timing = sipm_timing.append(sipm_response.groupby(['event_id'])\\\n",
    "                        .apply(lambda group: group['time_bin'].max() - group['time_bin'].min()), ignore_index=True)\n",
    "\n",
    "        \n",
    "        # Summed pmt energy per event\n",
    "        response_perevent_pmt = pmt_response.groupby('event_id')\n",
    "        summed_charges_byevent_pmt = response_perevent_pmt.agg({\"charge\":\"sum\"})\n",
    "\n",
    "        # Summed sipm energy per event\n",
    "        response_perevent_sipm = sipm_response.groupby('event_id')\n",
    "        summed_charges_byevent_sipm = response_perevent_sipm.agg({\"charge\":\"sum\"})\n",
    "\n",
    "        # Position of the event(sipm with the max charge)\n",
    "        idx = sipm_response.groupby(['event_id'])['charge'].transform(max) == sipm_response['charge']\n",
    "        print(idx)\n",
    "        max_sipms = sipm_response[idx].sort_values('sensor_id').set_index('sensor_id')\n",
    "        print(len(max_sipms.drop_duplicates()))\n",
    "        new_max_sipm_positions = sipm_positions.set_index('sensor_id')\n",
    "        this = new_max_sipm_positions.loc[max_sipms.index.values.tolist()]\n",
    "        #event_map = pd.concat([max_sipms.loc[:,'event_id'],this.loc[:,['x','y','z']]], axis=1).set_index('event_id').sort_values(by='event_id') \n",
    "        event_map = this.loc[:,['x', 'y','z']]\n",
    "        event_map['charge'] = summed_charges_byevent_sipm.charge\n",
    "        \n",
    "        #pmt_map = pmt_map.append(pd.concat([summed_charges_byevent_pmt,event_map],axis=1))\n",
    "        #sipm_map = sipm_map.append(pd.concat([summed_charges_byevent_sipm,event_map],axis=1))\n",
    "        #sipm_map = event_map\n",
    "        #pmt_map = event_map\n",
    "        #sipm_map['charge'] = summed_charges_byevent_sipm.charge.tolist()\n",
    "        #pmt_map['charge'] = summed_charges_byevent_pmt.charge\n",
    "        \n",
    "    #dark_counts = dark_rates[mc['size']] * sipm_timing    \n",
    "    #mc[\"pmt_times\"] = pmt_timing\n",
    "    #mc['sipm_times'] = sipm_timing\n",
    "    \n",
    "    #print(idx)\n",
    "    #for i in sipm_map.sort_values('event_id').index:\n",
    "    #    print(sipm_map.sort_values('event_id').charge[i], summed_charges_byevent_sipm.sort_values('event_id').charge[i])\n",
    "    #print(len(summed_charges_byevent_sipm.index.tolist()), len(sipm_map.index.tolist()))\n",
    "    #print(set(summed_charges_byevent_sipm.index.tolist()) - set(sipm_map.index.tolist()))\n",
    "    "
   ]
  },
  {
   "cell_type": "code",
   "execution_count": 13,
   "metadata": {},
   "outputs": [
    {
     "data": {
      "text/plain": [
       "(array([ 2.,  8.,  5., 10.,  6., 15., 23., 15., 15.,  1.]),\n",
       " array([ 4. ,  5.6,  7.2,  8.8, 10.4, 12. , 13.6, 15.2, 16.8, 18.4, 20. ]),\n",
       " <a list of 10 Patch objects>)"
      ]
     },
     "execution_count": 13,
     "metadata": {},
     "output_type": "execute_result"
    },
    {
     "data": {
      "image/png": "[encoded data removed]",
      "text/plain": [
       "<Figure size 432x288 with 1 Axes>"
      ]
     },
     "metadata": {
      "needs_background": "light"
     },
     "output_type": "display_data"
    }
   ],
   "source": [
    "plt.hist(np.array(sipm_timing.T.values).flatten())"
   ]
  },
  {
   "cell_type": "code",
   "execution_count": 18,
   "metadata": {},
   "outputs": [
    {
     "data": {
      "text/plain": [
       "array([2.13667188, 2.28271498, 2.29554784, 2.15512996, 2.1607637 ,\n",
       "       2.29124303, 2.29141779, 2.17081081, 2.15744797, 2.35588752,\n",
       "       2.02724521, 2.3106346 , 2.0531545 , 2.09243048, 2.12840879,\n",
       "       2.05397727, 2.08567018, 2.1242573 , 2.41054904, 2.06232221,\n",
       "       2.16206897, 2.32907846, 2.3699422 , 2.21617852, 2.39504644,\n",
       "       2.07465825, 2.39387097, 2.08409268, 2.4294849 , 2.21365167,\n",
       "       2.25491313, 2.30621047, 2.18924731, 2.43421865, 2.15735099,\n",
       "       2.21488062, 2.31203651, 2.20326727, 2.35446351, 2.05655992,\n",
       "       2.34224907, 2.2647258 , 2.59436834, 2.3984052 , 2.12024987,\n",
       "       2.09671387, 2.06391545, 2.11265076, 2.26192492, 2.11622403,\n",
       "       2.27361854, 2.09950118, 2.29456681, 2.3112564 , 2.35618777,\n",
       "       2.08414572, 2.04012112, 2.13838812, 2.18560088, 2.26872247,\n",
       "       2.08898194, 2.19421861, 2.06673618, 2.10446571, 2.03394589,\n",
       "       2.08927152, 2.20018738, 2.29014085, 2.08622449, 2.08740097,\n",
       "       2.10638821, 2.06166625, 2.03544824, 2.05637755, 2.14023732,\n",
       "       2.52212671, 2.05794534, 2.30906848, 1.77521793, 2.06990729,\n",
       "       2.56932351, 2.07495477, 2.32600521, 2.28627894, 2.33265167,\n",
       "       2.37221728, 2.176781  , 2.21010789, 2.04474956, 2.27738928,\n",
       "       2.29096435, 2.28950276, 2.07938608, 2.07458913, 2.10858051,\n",
       "       2.07282553, 2.20564628, 2.16244898, 2.31202046, 2.32996244])"
      ]
     },
     "execution_count": 18,
     "metadata": {},
     "output_type": "execute_result"
    }
   ],
   "source": [
    "sipm_ave = np.array([])\n",
    "np.append(sipm_ave, sipm_response.groupby('event_id').apply(lambda grp: np.mean(grp.charge)))"
   ]
  },
  {
   "cell_type": "code",
   "execution_count": 15,
   "metadata": {},
   "outputs": [
    {
     "data": {
      "text/plain": [
       "(array([0., 0., 0., 0., 0., 0., 0., 0., 0., 0.]),\n",
       " array([0. , 0.1, 0.2, 0.3, 0.4, 0.5, 0.6, 0.7, 0.8, 0.9, 1. ]),\n",
       " <a list of 10 Patch objects>)"
      ]
     },
     "execution_count": 15,
     "metadata": {},
     "output_type": "execute_result"
    },
    {
     "data": {
      "image/png": "[encoded data removed]",
      "text/plain": [
       "<Figure size 432x288 with 1 Axes>"
      ]
     },
     "metadata": {
      "needs_background": "light"
     },
     "output_type": "display_data"
    }
   ],
   "source": [
    "np.append(sipm_ave, sipm_response.charge.max())\n",
    "plt.hist(sipm_ave)"
   ]
  },
  {
   "cell_type": "code",
   "execution_count": 16,
   "metadata": {},
   "outputs": [
    {
     "data": {
      "image/png": "[encoded data removed]",
      "text/plain": [
       "<Figure size 432x288 with 1 Axes>"
      ]
     },
     "metadata": {
      "needs_background": "light"
     },
     "output_type": "display_data"
    }
   ],
   "source": [
    "plt.hist(sipm_response.charge, bins=100)\n",
    "plt.xlabel('charge [pes] / microsecond')\n",
    "plt.title('SiPM signal')\n",
    "plt.yscale('log')"
   ]
  },
  {
   "cell_type": "code",
   "execution_count": null,
   "metadata": {},
   "outputs": [],
   "source": []
  }
 ],
 "metadata": {
  "kernelspec": {
   "display_name": "Python 3",
   "language": "python",
   "name": "python3"
  },
  "language_info": {
   "codemirror_mode": {
    "name": "ipython",
    "version": 3
   },
   "file_extension": ".py",
   "mimetype": "text/x-python",
   "name": "python",
   "nbconvert_exporter": "python",
   "pygments_lexer": "ipython3",
   "version": "3.7.9"
  }
 },
 "nbformat": 4,
 "nbformat_minor": 2
}
