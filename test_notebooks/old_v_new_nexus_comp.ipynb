{
 "cells": [
  {
   "cell_type": "code",
   "execution_count": 1,
   "metadata": {},
   "outputs": [],
   "source": [
    "import pandas as pd\n",
    "import numpy as np\n",
    "import matplotlib.pyplot as plt"
   ]
  },
  {
   "cell_type": "markdown",
   "metadata": {},
   "source": [
    "This notebook compares simualtions done with an older and a newer version of nexus. This is because a large change in the number of photons seen by the PMTs occured between the newer and older versions, without an obvious reason. These simulations use a NEXT-100 like geometry, with 1.3mm sipms at a 15mm pitch, including the teflon in front of the tracking plane.\n",
    "\n",
    "This notebook also compares these numbers to estimated numbers using the physics and geometry of the detector. These estimation in past studies have shown to be very different than the simulation numbers. \n",
    "\n",
    "- For the old, new, and estimated numbers compare:\n",
    "     - Number of ionization electrons\n",
    "     - Number of scintillation photons\n",
    "     - Number of EL photons\n",
    "     - Number of photons hitting SiPMs\n",
    "         - Charge seen by the SiPMs\n",
    "     - Number of photons hitting PMTs\n",
    "         - Charge seen by the PMTs"
   ]
  },
  {
   "cell_type": "code",
   "execution_count": 2,
   "metadata": {},
   "outputs": [],
   "source": [
    "# For all events\n",
    "def GetIonizationElectrons(particles_df):\n",
    "    \"\"\" \n",
    "    Number of ionization electrons in one event.\n",
    "    \"\"\"\n",
    "    return particles_df[particles_df['particle_name']=='ie-'].groupby('event_id').size()\n",
    "\n",
    "def GetSciPhotons(photons_df):\n",
    "    \"\"\"\n",
    "    Number of scintillation photons in one event.\n",
    "    \"\"\"\n",
    "    return photons_df[photons_df.creator_proc=='Scintillation'].groupby('event_id').size()\n",
    "\n",
    "def GetELPhotons(photons_df):\n",
    "    \"\"\"\n",
    "    Number of photons produced by electroluminescence in one event.\n",
    "    \"\"\"\n",
    "    return photons_df[photons_df.creator_proc=='Electroluminescence'].groupby('event_id').size()\n",
    "\n",
    "def GetSiPMHits(photons_df):\n",
    "    \"\"\"\n",
    "    Number of photons hitting the TP_SIPM_SENSAREA in one event, considered\n",
    "    as photons hitting the SiPMs.\n",
    "    \"\"\"\n",
    "    return photons_df[photons_df.final_volume=='TP_SiPM_SENSAREA'].groupby('event_id').size()\n",
    "\n",
    "def GetPMTPhotons(trans_photons_df):\n",
    "    \"\"\"\n",
    "    Number of photons reaching the area around the PMTs in one event.\n",
    "    \"\"\"\n",
    "    tp_photons = trans_photons_df[trans_photons_df.final_z > 1400]\n",
    "    tp_photons = tp_photons[tp_photons.final_z < 1500]\n",
    "    return tp_photons.groupby('event_id').size()\n",
    "\n",
    "def GetPMTHits(trans_photons_df):\n",
    "    \"\"\"\n",
    "    Number of photons hitting the PMT sensitive area, which are the\n",
    "    photons with the final process 'Transportation' in the final\n",
    "    volume 'PMT_PHOTOCATHODE'.\n",
    "    \"\"\"\n",
    "    return trans_photons_df[trans_photons_df.final_volume=='PMT_PHOTOCATHODE'].groupby('event_id').size()\n",
    "\n",
    "def GetSiPMCharge(sns_response_sorted):\n",
    "    \"\"\"\n",
    "    Total charge (photoelectrons) seen by the SiPMs in one event.\n",
    "    \"\"\"\n",
    "    sipm_response = sns_response_sorted.loc[sns_response_sorted[\"sensor_id\"] >999]\n",
    "    sipm_response_evts = sipm_response.groupby('event_id')\n",
    "    charges = sipm_response_evts.agg({\"charge\":\"sum\"})\n",
    "    return charges.charge\n",
    "\n",
    "def GetPMTCharge(sns_response_sorted):\n",
    "    \"\"\"\n",
    "    Total charge (photoelectrons) seen by the PMTs in one event.\n",
    "    \"\"\"\n",
    "    pmt_response = sns_response_sorted.loc[sns_response_sorted[\"sensor_id\"] < 999]\n",
    "    pmt_response_evts = pmt_response.groupby('event_id')\n",
    "    charges = pmt_response_evts.agg({\"charge\":\"sum\"})\n",
    "    return charges.charge"
   ]
  },
  {
   "cell_type": "markdown",
   "metadata": {},
   "source": [
    "# Load old and new file"
   ]
  },
  {
   "cell_type": "code",
   "execution_count": 4,
   "metadata": {},
   "outputs": [],
   "source": [
    "old_file = '/Users/taylorcontreras/Development/Research/trackingplane/data/test/flex.kr83m.s1.3mmp15mm_old.nexus.h5'\n",
    "old_sns_response = pd.read_hdf(old_file, 'MC/sns_response')\n",
    "old_hits = pd.read_hdf(old_file, 'MC/hits')\n",
    "old_particles = pd.read_hdf(old_file, 'MC/particles')"
   ]
  },
  {
   "cell_type": "code",
   "execution_count": 27,
   "metadata": {},
   "outputs": [],
   "source": [
    "new_file = '/Users/taylorcontreras/Development/Research/trackingplane/data/test/flex.kr83m.s1.3mmp15mm_new.nexus.h5'\n",
    "new_sns_response = pd.read_hdf(new_file, 'MC/sns_response')\n",
    "new_hits = pd.read_hdf(new_file, 'MC/hits')\n",
    "new_particles = pd.read_hdf(new_file, 'MC/particles')"
   ]
  },
  {
   "cell_type": "code",
   "execution_count": 50,
   "metadata": {},
   "outputs": [],
   "source": [
    "old2_file = '/Users/taylorcontreras/Development/Research/trackingplane/data/test/flex.kr83m.s1.3mmp15mm_old2.nexus.h5'\n",
    "old2_sns_response = pd.read_hdf(old2_file, 'MC/sns_response')\n",
    "old2_hits = pd.read_hdf(old2_file, 'MC/hits')\n",
    "old2_particles = pd.read_hdf(old2_file, 'MC/particles')"
   ]
  },
  {
   "cell_type": "markdown",
   "metadata": {},
   "source": [
    "# Understanding the Output\n",
    "\n",
    "This section carefully goes through the old simulation, to understand the output."
   ]
  },
  {
   "cell_type": "code",
   "execution_count": 5,
   "metadata": {},
   "outputs": [
    {
     "data": {
      "text/html": [
       "<div>\n",
       "<style scoped>\n",
       "    .dataframe tbody tr th:only-of-type {\n",
       "        vertical-align: middle;\n",
       "    }\n",
       "\n",
       "    .dataframe tbody tr th {\n",
       "        vertical-align: top;\n",
       "    }\n",
       "\n",
       "    .dataframe thead th {\n",
       "        text-align: right;\n",
       "    }\n",
       "</style>\n",
       "<table border=\"1\" class=\"dataframe\">\n",
       "  <thead>\n",
       "    <tr style=\"text-align: right;\">\n",
       "      <th></th>\n",
       "      <th>sensor_id</th>\n",
       "      <th>time_bin</th>\n",
       "      <th>charge</th>\n",
       "    </tr>\n",
       "    <tr>\n",
       "      <th>event_id</th>\n",
       "      <th></th>\n",
       "      <th></th>\n",
       "      <th></th>\n",
       "    </tr>\n",
       "  </thead>\n",
       "  <tbody>\n",
       "    <tr>\n",
       "      <th>0</th>\n",
       "      <td>12039</td>\n",
       "      <td>12039</td>\n",
       "      <td>12039</td>\n",
       "    </tr>\n",
       "    <tr>\n",
       "      <th>1</th>\n",
       "      <td>10589</td>\n",
       "      <td>10589</td>\n",
       "      <td>10589</td>\n",
       "    </tr>\n",
       "    <tr>\n",
       "      <th>2</th>\n",
       "      <td>12956</td>\n",
       "      <td>12956</td>\n",
       "      <td>12956</td>\n",
       "    </tr>\n",
       "    <tr>\n",
       "      <th>3</th>\n",
       "      <td>10803</td>\n",
       "      <td>10803</td>\n",
       "      <td>10803</td>\n",
       "    </tr>\n",
       "    <tr>\n",
       "      <th>4</th>\n",
       "      <td>13439</td>\n",
       "      <td>13439</td>\n",
       "      <td>13439</td>\n",
       "    </tr>\n",
       "    <tr>\n",
       "      <th>5</th>\n",
       "      <td>11896</td>\n",
       "      <td>11896</td>\n",
       "      <td>11896</td>\n",
       "    </tr>\n",
       "    <tr>\n",
       "      <th>6</th>\n",
       "      <td>9393</td>\n",
       "      <td>9393</td>\n",
       "      <td>9393</td>\n",
       "    </tr>\n",
       "    <tr>\n",
       "      <th>7</th>\n",
       "      <td>12261</td>\n",
       "      <td>12261</td>\n",
       "      <td>12261</td>\n",
       "    </tr>\n",
       "    <tr>\n",
       "      <th>8</th>\n",
       "      <td>12603</td>\n",
       "      <td>12603</td>\n",
       "      <td>12603</td>\n",
       "    </tr>\n",
       "    <tr>\n",
       "      <th>9</th>\n",
       "      <td>12191</td>\n",
       "      <td>12191</td>\n",
       "      <td>12191</td>\n",
       "    </tr>\n",
       "  </tbody>\n",
       "</table>\n",
       "</div>"
      ],
      "text/plain": [
       "          sensor_id  time_bin  charge\n",
       "event_id                             \n",
       "0             12039     12039   12039\n",
       "1             10589     10589   10589\n",
       "2             12956     12956   12956\n",
       "3             10803     10803   10803\n",
       "4             13439     13439   13439\n",
       "5             11896     11896   11896\n",
       "6              9393      9393    9393\n",
       "7             12261     12261   12261\n",
       "8             12603     12603   12603\n",
       "9             12191     12191   12191"
      ]
     },
     "execution_count": 5,
     "metadata": {},
     "output_type": "execute_result"
    }
   ],
   "source": [
    "old_sns_response.groupby('event_id').count()"
   ]
  },
  {
   "cell_type": "code",
   "execution_count": 46,
   "metadata": {},
   "outputs": [
    {
     "data": {
      "text/html": [
       "<div>\n",
       "<style scoped>\n",
       "    .dataframe tbody tr th:only-of-type {\n",
       "        vertical-align: middle;\n",
       "    }\n",
       "\n",
       "    .dataframe tbody tr th {\n",
       "        vertical-align: top;\n",
       "    }\n",
       "\n",
       "    .dataframe thead th {\n",
       "        text-align: right;\n",
       "    }\n",
       "</style>\n",
       "<table border=\"1\" class=\"dataframe\">\n",
       "  <thead>\n",
       "    <tr style=\"text-align: right;\">\n",
       "      <th></th>\n",
       "      <th>x</th>\n",
       "      <th>y</th>\n",
       "      <th>z</th>\n",
       "      <th>time</th>\n",
       "      <th>energy</th>\n",
       "      <th>label</th>\n",
       "      <th>particle_id</th>\n",
       "      <th>hit_id</th>\n",
       "    </tr>\n",
       "    <tr>\n",
       "      <th>event_id</th>\n",
       "      <th></th>\n",
       "      <th></th>\n",
       "      <th></th>\n",
       "      <th></th>\n",
       "      <th></th>\n",
       "      <th></th>\n",
       "      <th></th>\n",
       "      <th></th>\n",
       "    </tr>\n",
       "  </thead>\n",
       "  <tbody>\n",
       "    <tr>\n",
       "      <th>0</th>\n",
       "      <td>54</td>\n",
       "      <td>54</td>\n",
       "      <td>54</td>\n",
       "      <td>54</td>\n",
       "      <td>54</td>\n",
       "      <td>54</td>\n",
       "      <td>54</td>\n",
       "      <td>54</td>\n",
       "    </tr>\n",
       "    <tr>\n",
       "      <th>1</th>\n",
       "      <td>80</td>\n",
       "      <td>80</td>\n",
       "      <td>80</td>\n",
       "      <td>80</td>\n",
       "      <td>80</td>\n",
       "      <td>80</td>\n",
       "      <td>80</td>\n",
       "      <td>80</td>\n",
       "    </tr>\n",
       "    <tr>\n",
       "      <th>2</th>\n",
       "      <td>62</td>\n",
       "      <td>62</td>\n",
       "      <td>62</td>\n",
       "      <td>62</td>\n",
       "      <td>62</td>\n",
       "      <td>62</td>\n",
       "      <td>62</td>\n",
       "      <td>62</td>\n",
       "    </tr>\n",
       "    <tr>\n",
       "      <th>3</th>\n",
       "      <td>62</td>\n",
       "      <td>62</td>\n",
       "      <td>62</td>\n",
       "      <td>62</td>\n",
       "      <td>62</td>\n",
       "      <td>62</td>\n",
       "      <td>62</td>\n",
       "      <td>62</td>\n",
       "    </tr>\n",
       "    <tr>\n",
       "      <th>4</th>\n",
       "      <td>63</td>\n",
       "      <td>63</td>\n",
       "      <td>63</td>\n",
       "      <td>63</td>\n",
       "      <td>63</td>\n",
       "      <td>63</td>\n",
       "      <td>63</td>\n",
       "      <td>63</td>\n",
       "    </tr>\n",
       "    <tr>\n",
       "      <th>5</th>\n",
       "      <td>72</td>\n",
       "      <td>72</td>\n",
       "      <td>72</td>\n",
       "      <td>72</td>\n",
       "      <td>72</td>\n",
       "      <td>72</td>\n",
       "      <td>72</td>\n",
       "      <td>72</td>\n",
       "    </tr>\n",
       "    <tr>\n",
       "      <th>6</th>\n",
       "      <td>72</td>\n",
       "      <td>72</td>\n",
       "      <td>72</td>\n",
       "      <td>72</td>\n",
       "      <td>72</td>\n",
       "      <td>72</td>\n",
       "      <td>72</td>\n",
       "      <td>72</td>\n",
       "    </tr>\n",
       "    <tr>\n",
       "      <th>7</th>\n",
       "      <td>54</td>\n",
       "      <td>54</td>\n",
       "      <td>54</td>\n",
       "      <td>54</td>\n",
       "      <td>54</td>\n",
       "      <td>54</td>\n",
       "      <td>54</td>\n",
       "      <td>54</td>\n",
       "    </tr>\n",
       "    <tr>\n",
       "      <th>8</th>\n",
       "      <td>58</td>\n",
       "      <td>58</td>\n",
       "      <td>58</td>\n",
       "      <td>58</td>\n",
       "      <td>58</td>\n",
       "      <td>58</td>\n",
       "      <td>58</td>\n",
       "      <td>58</td>\n",
       "    </tr>\n",
       "    <tr>\n",
       "      <th>9</th>\n",
       "      <td>88</td>\n",
       "      <td>88</td>\n",
       "      <td>88</td>\n",
       "      <td>88</td>\n",
       "      <td>88</td>\n",
       "      <td>88</td>\n",
       "      <td>88</td>\n",
       "      <td>88</td>\n",
       "    </tr>\n",
       "  </tbody>\n",
       "</table>\n",
       "</div>"
      ],
      "text/plain": [
       "           x   y   z  time  energy  label  particle_id  hit_id\n",
       "event_id                                                      \n",
       "0         54  54  54    54      54     54           54      54\n",
       "1         80  80  80    80      80     80           80      80\n",
       "2         62  62  62    62      62     62           62      62\n",
       "3         62  62  62    62      62     62           62      62\n",
       "4         63  63  63    63      63     63           63      63\n",
       "5         72  72  72    72      72     72           72      72\n",
       "6         72  72  72    72      72     72           72      72\n",
       "7         54  54  54    54      54     54           54      54\n",
       "8         58  58  58    58      58     58           58      58\n",
       "9         88  88  88    88      88     88           88      88"
      ]
     },
     "execution_count": 46,
     "metadata": {},
     "output_type": "execute_result"
    }
   ],
   "source": [
    "old_hits.groupby('event_id').count()"
   ]
  },
  {
   "cell_type": "code",
   "execution_count": 7,
   "metadata": {},
   "outputs": [
    {
     "data": {
      "text/plain": [
       "Index(['event_id', 'particle_id', 'particle_name', 'primary', 'mother_id',\n",
       "       'initial_x', 'initial_y', 'initial_z', 'initial_t', 'final_x',\n",
       "       'final_y', 'final_z', 'final_t', 'initial_volume', 'final_volume',\n",
       "       'initial_momentum_x', 'initial_momentum_y', 'initial_momentum_z',\n",
       "       'final_momentum_x', 'final_momentum_y', 'final_momentum_z',\n",
       "       'kin_energy', 'length', 'creator_proc', 'final_proc'],\n",
       "      dtype='object')"
      ]
     },
     "execution_count": 7,
     "metadata": {},
     "output_type": "execute_result"
    }
   ],
   "source": [
    "old_particles.columns #.groupby('event_id').count()"
   ]
  },
  {
   "cell_type": "code",
   "execution_count": 8,
   "metadata": {},
   "outputs": [
    {
     "data": {
      "text/plain": [
       "59"
      ]
     },
     "execution_count": 8,
     "metadata": {},
     "output_type": "execute_result"
    }
   ],
   "source": [
    "old_sns_response[old_sns_response.sensor_id<99].sensor_id.max()"
   ]
  },
  {
   "cell_type": "code",
   "execution_count": 9,
   "metadata": {},
   "outputs": [
    {
     "data": {
      "text/html": [
       "<div>\n",
       "<style scoped>\n",
       "    .dataframe tbody tr th:only-of-type {\n",
       "        vertical-align: middle;\n",
       "    }\n",
       "\n",
       "    .dataframe tbody tr th {\n",
       "        vertical-align: top;\n",
       "    }\n",
       "\n",
       "    .dataframe thead th {\n",
       "        text-align: right;\n",
       "    }\n",
       "</style>\n",
       "<table border=\"1\" class=\"dataframe\">\n",
       "  <thead>\n",
       "    <tr style=\"text-align: right;\">\n",
       "      <th></th>\n",
       "      <th>creator_proc</th>\n",
       "    </tr>\n",
       "  </thead>\n",
       "  <tbody>\n",
       "    <tr>\n",
       "      <th>0</th>\n",
       "      <td>Scintillation</td>\n",
       "    </tr>\n",
       "    <tr>\n",
       "      <th>2</th>\n",
       "      <td>OpWLS</td>\n",
       "    </tr>\n",
       "    <tr>\n",
       "      <th>10</th>\n",
       "      <td>Electroluminescence</td>\n",
       "    </tr>\n",
       "    <tr>\n",
       "      <th>1435</th>\n",
       "      <td>Clustering</td>\n",
       "    </tr>\n",
       "    <tr>\n",
       "      <th>379552</th>\n",
       "      <td>none</td>\n",
       "    </tr>\n",
       "    <tr>\n",
       "      <th>571278</th>\n",
       "      <td>phot</td>\n",
       "    </tr>\n",
       "    <tr>\n",
       "      <th>3067292</th>\n",
       "      <td>compt</td>\n",
       "    </tr>\n",
       "  </tbody>\n",
       "</table>\n",
       "</div>"
      ],
      "text/plain": [
       "                creator_proc\n",
       "0              Scintillation\n",
       "2                      OpWLS\n",
       "10       Electroluminescence\n",
       "1435              Clustering\n",
       "379552                  none\n",
       "571278                  phot\n",
       "3067292                compt"
      ]
     },
     "execution_count": 9,
     "metadata": {},
     "output_type": "execute_result"
    }
   ],
   "source": [
    "old_particles[['creator_proc']].drop_duplicates()"
   ]
  },
  {
   "cell_type": "code",
   "execution_count": 10,
   "metadata": {},
   "outputs": [
    {
     "data": {
      "text/html": [
       "<div>\n",
       "<style scoped>\n",
       "    .dataframe tbody tr th:only-of-type {\n",
       "        vertical-align: middle;\n",
       "    }\n",
       "\n",
       "    .dataframe tbody tr th {\n",
       "        vertical-align: top;\n",
       "    }\n",
       "\n",
       "    .dataframe thead th {\n",
       "        text-align: right;\n",
       "    }\n",
       "</style>\n",
       "<table border=\"1\" class=\"dataframe\">\n",
       "  <thead>\n",
       "    <tr style=\"text-align: right;\">\n",
       "      <th></th>\n",
       "      <th>final_proc</th>\n",
       "    </tr>\n",
       "  </thead>\n",
       "  <tbody>\n",
       "    <tr>\n",
       "      <th>0</th>\n",
       "      <td>OpWLS</td>\n",
       "    </tr>\n",
       "    <tr>\n",
       "      <th>2</th>\n",
       "      <td>OpAbsorption</td>\n",
       "    </tr>\n",
       "    <tr>\n",
       "      <th>4</th>\n",
       "      <td>Transportation</td>\n",
       "    </tr>\n",
       "    <tr>\n",
       "      <th>1435</th>\n",
       "      <td>Drift</td>\n",
       "    </tr>\n",
       "    <tr>\n",
       "      <th>379552</th>\n",
       "      <td>Scintillation</td>\n",
       "    </tr>\n",
       "    <tr>\n",
       "      <th>563216</th>\n",
       "      <td>phot</td>\n",
       "    </tr>\n",
       "    <tr>\n",
       "      <th>3026995</th>\n",
       "      <td>StepLimiter</td>\n",
       "    </tr>\n",
       "  </tbody>\n",
       "</table>\n",
       "</div>"
      ],
      "text/plain": [
       "             final_proc\n",
       "0                 OpWLS\n",
       "2          OpAbsorption\n",
       "4        Transportation\n",
       "1435              Drift\n",
       "379552    Scintillation\n",
       "563216             phot\n",
       "3026995     StepLimiter"
      ]
     },
     "execution_count": 10,
     "metadata": {},
     "output_type": "execute_result"
    }
   ],
   "source": [
    "old_particles[['final_proc']].drop_duplicates()"
   ]
  },
  {
   "cell_type": "code",
   "execution_count": 11,
   "metadata": {},
   "outputs": [
    {
     "data": {
      "text/html": [
       "<div>\n",
       "<style scoped>\n",
       "    .dataframe tbody tr th:only-of-type {\n",
       "        vertical-align: middle;\n",
       "    }\n",
       "\n",
       "    .dataframe tbody tr th {\n",
       "        vertical-align: top;\n",
       "    }\n",
       "\n",
       "    .dataframe thead th {\n",
       "        text-align: right;\n",
       "    }\n",
       "</style>\n",
       "<table border=\"1\" class=\"dataframe\">\n",
       "  <thead>\n",
       "    <tr style=\"text-align: right;\">\n",
       "      <th></th>\n",
       "      <th>final_volume</th>\n",
       "    </tr>\n",
       "  </thead>\n",
       "  <tbody>\n",
       "    <tr>\n",
       "      <th>0</th>\n",
       "      <td>LIGHT_TUBE_WLS</td>\n",
       "    </tr>\n",
       "    <tr>\n",
       "      <th>2</th>\n",
       "      <td>GATE</td>\n",
       "    </tr>\n",
       "    <tr>\n",
       "      <th>4</th>\n",
       "      <td>LIGHT_TUBE</td>\n",
       "    </tr>\n",
       "    <tr>\n",
       "      <th>7</th>\n",
       "      <td>EP_COPPER</td>\n",
       "    </tr>\n",
       "    <tr>\n",
       "      <th>10</th>\n",
       "      <td>ANODE</td>\n",
       "    </tr>\n",
       "    <tr>\n",
       "      <th>11</th>\n",
       "      <td>TP_TEFLON_WLS</td>\n",
       "    </tr>\n",
       "    <tr>\n",
       "      <th>30</th>\n",
       "      <td>PMT_PHOTOCATHODE</td>\n",
       "    </tr>\n",
       "    <tr>\n",
       "      <th>32</th>\n",
       "      <td>TP_TEFLON</td>\n",
       "    </tr>\n",
       "    <tr>\n",
       "      <th>36</th>\n",
       "      <td>ICS</td>\n",
       "    </tr>\n",
       "    <tr>\n",
       "      <th>46</th>\n",
       "      <td>TP_SiPM_CASE</td>\n",
       "    </tr>\n",
       "    <tr>\n",
       "      <th>48</th>\n",
       "      <td>CATHODE</td>\n",
       "    </tr>\n",
       "    <tr>\n",
       "      <th>59</th>\n",
       "      <td>TP_SiPM_SENSAREA</td>\n",
       "    </tr>\n",
       "    <tr>\n",
       "      <th>96</th>\n",
       "      <td>PMT_GAS</td>\n",
       "    </tr>\n",
       "    <tr>\n",
       "      <th>127</th>\n",
       "      <td>TP_COPPER</td>\n",
       "    </tr>\n",
       "    <tr>\n",
       "      <th>258</th>\n",
       "      <td>EP_WINDOW_WLS</td>\n",
       "    </tr>\n",
       "    <tr>\n",
       "      <th>324</th>\n",
       "      <td>PMT</td>\n",
       "    </tr>\n",
       "    <tr>\n",
       "      <th>349</th>\n",
       "      <td>LABORATORY</td>\n",
       "    </tr>\n",
       "    <tr>\n",
       "      <th>794</th>\n",
       "      <td>OPTICAL_PAD</td>\n",
       "    </tr>\n",
       "    <tr>\n",
       "      <th>1410</th>\n",
       "      <td>TP_SiPM_WLS</td>\n",
       "    </tr>\n",
       "    <tr>\n",
       "      <th>1435</th>\n",
       "      <td>GAS</td>\n",
       "    </tr>\n",
       "    <tr>\n",
       "      <th>4161</th>\n",
       "      <td>EP_WINDOW</td>\n",
       "    </tr>\n",
       "    <tr>\n",
       "      <th>6428</th>\n",
       "      <td>PMT_WINDOW</td>\n",
       "    </tr>\n",
       "    <tr>\n",
       "      <th>379552</th>\n",
       "      <td>ACTIVE</td>\n",
       "    </tr>\n",
       "  </tbody>\n",
       "</table>\n",
       "</div>"
      ],
      "text/plain": [
       "            final_volume\n",
       "0         LIGHT_TUBE_WLS\n",
       "2                   GATE\n",
       "4             LIGHT_TUBE\n",
       "7              EP_COPPER\n",
       "10                 ANODE\n",
       "11         TP_TEFLON_WLS\n",
       "30      PMT_PHOTOCATHODE\n",
       "32             TP_TEFLON\n",
       "36                   ICS\n",
       "46          TP_SiPM_CASE\n",
       "48               CATHODE\n",
       "59      TP_SiPM_SENSAREA\n",
       "96               PMT_GAS\n",
       "127            TP_COPPER\n",
       "258        EP_WINDOW_WLS\n",
       "324                  PMT\n",
       "349           LABORATORY\n",
       "794          OPTICAL_PAD\n",
       "1410         TP_SiPM_WLS\n",
       "1435                 GAS\n",
       "4161           EP_WINDOW\n",
       "6428          PMT_WINDOW\n",
       "379552            ACTIVE"
      ]
     },
     "execution_count": 11,
     "metadata": {},
     "output_type": "execute_result"
    }
   ],
   "source": [
    "old_particles[['final_volume']].drop_duplicates()"
   ]
  },
  {
   "cell_type": "code",
   "execution_count": 12,
   "metadata": {},
   "outputs": [
    {
     "data": {
      "text/plain": [
       "event_id\n",
       "0    1826\n",
       "1    1836\n",
       "2    1854\n",
       "3    1869\n",
       "4    1861\n",
       "5    1880\n",
       "6    1863\n",
       "7    1859\n",
       "8    1837\n",
       "9    1862\n",
       "dtype: int64"
      ]
     },
     "execution_count": 12,
     "metadata": {},
     "output_type": "execute_result"
    }
   ],
   "source": [
    "GetIonizationElectrons(old_particles)"
   ]
  },
  {
   "cell_type": "code",
   "execution_count": 13,
   "metadata": {},
   "outputs": [
    {
     "data": {
      "text/plain": [
       "event_id\n",
       "0    1020\n",
       "1    1010\n",
       "2    1057\n",
       "3    1057\n",
       "4    1063\n",
       "5    1051\n",
       "6    1067\n",
       "7    1085\n",
       "8    1069\n",
       "9    1054\n",
       "dtype: int64"
      ]
     },
     "execution_count": 13,
     "metadata": {},
     "output_type": "execute_result"
    }
   ],
   "source": [
    "GetSciPhotons(old_particles)"
   ]
  },
  {
   "cell_type": "code",
   "execution_count": 14,
   "metadata": {},
   "outputs": [
    {
     "data": {
      "text/plain": [
       "event_id\n",
       "0    1788763\n",
       "1    1795968\n",
       "2    1814288\n",
       "3    1832427\n",
       "4    1823028\n",
       "5    1840267\n",
       "6    1576513\n",
       "7    1821911\n",
       "8    1798822\n",
       "9    1825100\n",
       "dtype: int64"
      ]
     },
     "execution_count": 14,
     "metadata": {},
     "output_type": "execute_result"
    }
   ],
   "source": [
    "GetELPhotons(old_particles)"
   ]
  },
  {
   "cell_type": "code",
   "execution_count": 15,
   "metadata": {},
   "outputs": [
    {
     "data": {
      "text/plain": [
       "event_id\n",
       "0    2644\n",
       "1    2339\n",
       "2    2518\n",
       "3    2630\n",
       "4    2638\n",
       "5    2685\n",
       "6    1572\n",
       "7    2526\n",
       "8    2601\n",
       "9    2670\n",
       "dtype: int64"
      ]
     },
     "execution_count": 15,
     "metadata": {},
     "output_type": "execute_result"
    }
   ],
   "source": [
    "GetSiPMHits(old_particles)"
   ]
  },
  {
   "cell_type": "code",
   "execution_count": 16,
   "metadata": {},
   "outputs": [
    {
     "data": {
      "image/png": "[encoded data removed]",
      "text/plain": [
       "<Figure size 432x288 with 1 Axes>"
      ]
     },
     "metadata": {
      "needs_background": "light"
     },
     "output_type": "display_data"
    },
    {
     "data": {
      "image/png": "[encoded data removed]",
      "text/plain": [
       "<Figure size 432x288 with 1 Axes>"
      ]
     },
     "metadata": {
      "needs_background": "light"
     },
     "output_type": "display_data"
    }
   ],
   "source": [
    "# Trying to understand final processes \n",
    "event0 = old_particles[old_particles['event_id']==0]\n",
    "photons_evt0 = event0[event0['particle_name']=='opticalphoton']\n",
    "abs_photons = photons_evt0[photons_evt0.final_proc=='OpAbsorption']\n",
    "plt.hist(abs_photons[abs_photons.final_z < 10].final_z, label='OpAbsorption')\n",
    "\n",
    "abs_photons = photons_evt0[photons_evt0.final_proc=='Transportation']\n",
    "this = abs_photons[abs_photons.final_z < 10]\n",
    "plt.hist(this[this.final_z > -30].final_z, label='Transportation', bins=100)\n",
    "plt.title('Photons near TP')\n",
    "plt.xlabel('Final z [mm]')\n",
    "plt.legend()\n",
    "plt.show()\n",
    "\n",
    "abs_photons = photons_evt0[photons_evt0.final_proc=='OpAbsorption']\n",
    "plt.hist(abs_photons[abs_photons.final_z > 1200].final_z, label='OpAbsorption')\n",
    "\n",
    "abs_photons = photons_evt0[photons_evt0.final_proc=='Transportation']\n",
    "this = abs_photons[abs_photons.final_z > 1200]\n",
    "plt.hist(this[this.final_z < 1500].final_z, label='Transportation')\n",
    "plt.title('Photons near EP')\n",
    "plt.xlabel('Final z [mm]')\n",
    "plt.legend()\n",
    "plt.show()"
   ]
  },
  {
   "cell_type": "code",
   "execution_count": 17,
   "metadata": {},
   "outputs": [
    {
     "data": {
      "image/png": "[encoded data removed]",
      "text/plain": [
       "<Figure size 432x288 with 1 Axes>"
      ]
     },
     "metadata": {
      "needs_background": "light"
     },
     "output_type": "display_data"
    },
    {
     "data": {
      "image/png": "[encoded data removed]",
      "text/plain": [
       "<Figure size 432x288 with 1 Axes>"
      ]
     },
     "metadata": {
      "needs_background": "light"
     },
     "output_type": "display_data"
    }
   ],
   "source": [
    "abs_photons = photons_evt0[photons_evt0.final_proc=='OpAbsorption']\n",
    "plt.hist(abs_photons[abs_photons.final_z > 1100].final_z, label='OpAbsorption')\n",
    "plt.title('Photons near EP')\n",
    "plt.show()\n",
    "\n",
    "abs_photons = photons_evt0[photons_evt0.final_proc=='OpAbsorption']\n",
    "plt.hist(abs_photons[abs_photons.final_z < 10].final_z, label='OpAbsorption')\n",
    "plt.title('Photons near TP')\n",
    "plt.xlabel('Final z [mm]')\n",
    "plt.legend()\n",
    "plt.show()"
   ]
  },
  {
   "cell_type": "markdown",
   "metadata": {},
   "source": [
    "This tells me the OpAbsorption is not the final process for photons being absorbed by a sensitive material like I thought. OpAbsorption seems to mostly be for photons hitting the gate, anode, and cathode meshes, most likely because these have a set optical properties unlike most other materials. There are some OpAbsorption at the PMTs, probably also from things with optical props like the fused silica. Note that the active length is 1204.95mm, pmt z position is 1459.55mm. this makes me confident that photons collected by sensitive dectors have the final process 'Transportation'. "
   ]
  },
  {
   "cell_type": "code",
   "execution_count": 18,
   "metadata": {},
   "outputs": [
    {
     "data": {
      "text/plain": [
       "['EP_COPPER', 'PMT_PHOTOCATHODE', 'PMT_GAS', 'PMT', 'ICS', 'LIGHT_TUBE']"
      ]
     },
     "execution_count": 18,
     "metadata": {},
     "output_type": "execute_result"
    }
   ],
   "source": [
    "abs_photons = photons_evt0[photons_evt0.final_proc=='Transportation']\n",
    "tp_photons = abs_photons[abs_photons.final_z > 1400]\n",
    "tp_photons = tp_photons[tp_photons.final_z < 1500]\n",
    "tp_photons.final_volume.drop_duplicates().to_list()"
   ]
  },
  {
   "cell_type": "code",
   "execution_count": 19,
   "metadata": {},
   "outputs": [
    {
     "data": {
      "text/plain": [
       "7            Scintillation\n",
       "28                   OpWLS\n",
       "204    Electroluminescence\n",
       "Name: creator_proc, dtype: object"
      ]
     },
     "execution_count": 19,
     "metadata": {},
     "output_type": "execute_result"
    }
   ],
   "source": [
    "tp_photons.creator_proc.drop_duplicates()"
   ]
  },
  {
   "cell_type": "code",
   "execution_count": 20,
   "metadata": {},
   "outputs": [
    {
     "data": {
      "image/png": "[encoded data removed]",
      "text/plain": [
       "<Figure size 432x288 with 1 Axes>"
      ]
     },
     "metadata": {
      "needs_background": "light"
     },
     "output_type": "display_data"
    }
   ],
   "source": [
    "for volume in tp_photons.final_volume.drop_duplicates().to_list():\n",
    "    plt.hist(tp_photons[tp_photons.final_volume==volume].final_z, label=volume, bins=100)\n",
    "plt.legend()\n",
    "plt.show()"
   ]
  },
  {
   "cell_type": "code",
   "execution_count": 21,
   "metadata": {},
   "outputs": [
    {
     "data": {
      "image/png": "[encoded data removed]",
      "text/plain": [
       "<Figure size 432x288 with 1 Axes>"
      ]
     },
     "metadata": {
      "needs_background": "light"
     },
     "output_type": "display_data"
    }
   ],
   "source": [
    "plt.hist(tp_photons[tp_photons.final_volume=='PMT'].final_z, label='PMT')\n",
    "plt.hist(tp_photons[tp_photons.final_volume=='PMT_PHOTOCATHODE'].final_z, label='PMT_PHOTOCATHODE')\n",
    "plt.hist(tp_photons[tp_photons.final_volume=='PMT_GAS'].final_z, label='PMT_GAS')\n",
    "plt.legend()\n",
    "plt.xlabel('Final z [mm]')\n",
    "plt.show()"
   ]
  },
  {
   "cell_type": "markdown",
   "metadata": {},
   "source": [
    "So the PMTs only have optical properties when a photon hits the front, goes through those layers and then hits the photocathode. So any photons hitting the outside of the PMT will result in the final volume ‘PMT’. The ‘PMT_PHOTOCATHODE’ peak is because of the fact that all photons are stopped right at the surface. The ‘PMT_GAS’ is probably photons going through the fron to the PMT but missing the photocathode which is smaller and instead hitting the gas which has no optical properties so they are stopped immediately"
   ]
  },
  {
   "cell_type": "markdown",
   "metadata": {},
   "source": [
    " This mostly makes sense becuase the PMT is the mother volume of the actual PMT nexus volumes. So photons could get stopped by materials in the PMT. The PMT_PHOTOCATHODE is the actual sensitive detector volume, so the spike there also makes sense. Not sure about the spike for PMT_GAS."
   ]
  },
  {
   "cell_type": "markdown",
   "metadata": {},
   "source": [
    "## Estimation Functions"
   ]
  },
  {
   "cell_type": "code",
   "execution_count": 54,
   "metadata": {},
   "outputs": [],
   "source": [
    "# Constants in all cases\n",
    "E_qbb = 2400. # keV\n",
    "E_kr = 41.5 # keV\n",
    "dEdx_qbb_blob = 20 # keV/cm\n",
    "dEdx_qbb_track = 7 # keV/cm\n",
    "dEdx_kr = 20 # no idea if this is true or not...\n",
    "W_sci = 39.2\n",
    "W_i = 21.9\n",
    "\n",
    "def N_i(E, W=W_i):\n",
    "    \"\"\"\n",
    "    Returns number of ionization electrons released \n",
    "    in a material with an ionization energy of W_i\n",
    "    with an energy of E.\n",
    "    \n",
    "    Input: \n",
    "        E - energy in keV\n",
    "        W_i - ionization energy in eV, default to GXe\n",
    "    \"\"\"\n",
    "    return E*1000./W\n",
    "\n",
    "def old2_EL_yield(d_EL, Efield, P):\n",
    "    \"\"\"\n",
    "    Returns the EL yield calculated in the version of nexus\n",
    "    from Nov 2020.\n",
    "    \"\"\"\n",
    "    a = 140. \n",
    "    b = 116.\n",
    "    \n",
    "    ELyield = (a * Efield/P - b) * P\n",
    "\n",
    "    return ELyield\n",
    "\n",
    "def EL_yield(d_EL, Efield, P):\n",
    "    \"\"\"\n",
    "    Returns the EL yeild, the number of photons per ionization\n",
    "    electron crossing the EL gap.\n",
    "    Reference: E.D.C.Freitas 2010, 'Secondary scintillation \n",
    "        yield in high-pressure xenon gas for neutrinoless double \n",
    "        beta decay  search'\n",
    "        \n",
    "    Input: d_EL - length of EL gap [mm], \n",
    "           Efield - electric field [kV/cm]\n",
    "           P - pressure [bar]\n",
    "    \"\"\"\n",
    "    b = 116.\n",
    "    a = 140.\n",
    "    if P >= 8.:\n",
    "        a = 170.\n",
    "    elif P >= 6.:\n",
    "        a = 161.\n",
    "    elif P >= 5.:\n",
    "        a = 151.\n",
    "    elif P >= 4.:\n",
    "        a = 142.\n",
    "    elif P >= 2.:\n",
    "        a = 141.\n",
    "        \n",
    "    ELyield = (a*Efield/P - b) * P*d_EL/10.\n",
    "    \n",
    "    return ELyield\n",
    "\n",
    "def SAF_SiPM(s, d_EL, d_A, sipm_width=2.):\n",
    "    \"\"\"\n",
    "    Solid angle fraction of a SiPM on \n",
    "    the tracking plane.\n",
    "    Input: s - size of SiPM [mm]\n",
    "           d_EL - length of EL gap [mm]\n",
    "           d_A - distance between anode and SiPMs [mm]\n",
    "    \"\"\"\n",
    "    d = d_EL/2. + d_A - sipm_width\n",
    "    return SAF_square(s, d)\n",
    "\n",
    "def SAF_square(s, d):\n",
    "    \"\"\"\n",
    "    Solid angle fraction of square plane a distance\n",
    "    d from the source\n",
    "    Reference: https://vixra.org/pdf/2001.0603v1.pdf\n",
    "    \n",
    "    Input: s - size of SiPM [mm]\n",
    "           d - distance [mm]\n",
    "    \"\"\"\n",
    "    num = s**2.\n",
    "    denom = 4.*d**2. * np.sqrt(1. + 2.*s**2./(4.*d**2.))\n",
    "    return (1./np.pi) * np.arctan( num / denom)\n",
    "\n",
    "def SAF_Plane(r_TP, d_EL, d_A):\n",
    "    \"\"\"\n",
    "    Solid angle fraction of the circular plane a distance \n",
    "    d_EL+d_A from the source.\n",
    "    \n",
    "    Input: r_TP - radius of tracking plane [mm]\n",
    "           d_EL - length of EL gap [mm]\n",
    "           d_A - distance between anode and SiPMs [mm]\n",
    "    \"\"\"\n",
    "    return 2*np.pi * (1/(4*np.pi)) * (1 - ((d_EL+d_A)/2.)/(np.sqrt(r_TP**2. + ((d_EL+d_A)/2.)**2.)))\n",
    "\n",
    "def Coverage(r_TP, s, N_sipms):\n",
    "    \"\"\"\n",
    "    Coverage of tracking plane\n",
    "    \n",
    "    Input: r_TP - radius of tracking plane [mm]\n",
    "           s - size of SiPM [mm]\n",
    "           N_sipms - number of SiPMs [mm]\n",
    "    \"\"\"\n",
    "    return s**2. * N_sipms / (np.pi * r_TP**2.)\n",
    "\n",
    "def N_d(E, eta, epsilon, f):\n",
    "    \"\"\"\n",
    "    Returns the number of photons detected\n",
    "    \n",
    "    Inputs: E - energy of event [keV]\n",
    "            eta - gain of EL gap\n",
    "            epsilon - efficiencies, \n",
    "            f - fraction of light to planes (Solid angle fraction * Coverage)\n",
    "    \"\"\"\n",
    "    return N_i(E) * eta * epsilon * f\n",
    "\n",
    "def dN_dt(dE_dx, v_d, eta, epsilon, f_sipm):\n",
    "    \"\"\"\n",
    "    Returns the number of photons detected\n",
    "    \n",
    "    Inputs: dE_dx - energy deposition [keV/mm]\n",
    "            v_d - drift velocity [mm/us]\n",
    "            eta - gain of EL gap\n",
    "            epsilon - efficiencies, \n",
    "            f_sipm - fraction of light to center most SiPM\n",
    "    \"\"\"\n",
    "    return N_i(dE_dx) * v_d * eta * epsilon * f_sipm"
   ]
  },
  {
   "cell_type": "markdown",
   "metadata": {},
   "source": [
    "## Comparing numbers between old, new, and estimated for a single event"
   ]
  },
  {
   "cell_type": "code",
   "execution_count": 24,
   "metadata": {},
   "outputs": [],
   "source": [
    "old_photons = old_particles[old_particles['particle_name']=='opticalphoton']\n",
    "old_trans_photons = old_photons[old_photons.final_proc=='Transportation']\n",
    "old_sns_response_sorted = old_sns_response.sort_values(by=['sensor_id'])"
   ]
  },
  {
   "cell_type": "code",
   "execution_count": 25,
   "metadata": {},
   "outputs": [],
   "source": [
    "old_stats_dict = {'Ionization Electrons':GetIonizationElectrons(old_particles), \n",
    "                  'Scintillation Photons':GetSciPhotons(old_photons),\n",
    "                  'EL Photons': GetELPhotons(old_photons),\n",
    "                  'SiPM Hits': GetSiPMHits(old_trans_photons),\n",
    "                  'PMT Hits': GetPMTHits(old_trans_photons),\n",
    "                  'SiPM Charge': GetSiPMCharge(old_sns_response_sorted),\n",
    "                  'PMT Charge': GetPMTCharge(old_sns_response_sorted)}"
   ]
  },
  {
   "cell_type": "code",
   "execution_count": 28,
   "metadata": {},
   "outputs": [],
   "source": [
    "new_photons = new_particles[new_particles['particle_name']=='opticalphoton']\n",
    "new_trans_photons = new_photons[new_photons.final_proc=='Transportation']\n",
    "new_sns_response_sorted = new_sns_response.sort_values(by=['sensor_id'])"
   ]
  },
  {
   "cell_type": "code",
   "execution_count": 29,
   "metadata": {},
   "outputs": [],
   "source": [
    "new_file = '/Users/taylorcontreras/Development/Research/trackingplane/data/test/flex.kr83m.s1.3mmp15mm_new.nexus.h5'\n",
    "new_sns_response = pd.read_hdf(new_file, 'MC/sns_response')\n",
    "new_particles = pd.read_hdf(new_file, 'MC/particles')\n",
    "new_stats_dict = {'Ionization Electrons':GetIonizationElectrons(new_particles), \n",
    "                  'Scintillation Photons':GetSciPhotons(new_photons),\n",
    "                  'EL Photons': GetELPhotons(new_photons),\n",
    "                  'SiPM Hits': GetSiPMHits(new_trans_photons),\n",
    "                  'PMT Hits': GetPMTHits(new_trans_photons),\n",
    "                  'SiPM Charge': GetSiPMCharge(new_sns_response_sorted),\n",
    "                  'PMT Charge': GetPMTCharge(new_sns_response_sorted)}"
   ]
  },
  {
   "cell_type": "code",
   "execution_count": 51,
   "metadata": {},
   "outputs": [],
   "source": [
    "old2_photons = old2_particles[old2_particles['particle_name']=='opticalphoton']\n",
    "old2_trans_photons = old2_photons[old2_photons.final_proc=='Transportation']\n",
    "old2_sns_response_sorted = old2_sns_response.sort_values(by=['sensor_id'])"
   ]
  },
  {
   "cell_type": "code",
   "execution_count": 52,
   "metadata": {},
   "outputs": [],
   "source": [
    "old2_stats_dict = {'Ionization Electrons':GetIonizationElectrons(old2_particles), \n",
    "                  'Scintillation Photons':GetSciPhotons(old2_photons),\n",
    "                  'EL Photons': GetELPhotons(old2_photons),\n",
    "                  'SiPM Hits': GetSiPMHits(old2_trans_photons),\n",
    "                  'PMT Hits': GetPMTHits(old2_trans_photons),\n",
    "                  'SiPM Charge': GetSiPMCharge(old2_sns_response_sorted),\n",
    "                  'PMT Charge': GetPMTCharge(old2_sns_response_sorted)}"
   ]
  },
  {
   "cell_type": "code",
   "execution_count": 47,
   "metadata": {},
   "outputs": [],
   "source": [
    "d_EL = 10. # mm\n",
    "d_A = 15. # mm\n",
    "d_active = 1204.95 # mm\n",
    "Efield = 16. # kV/cm\n",
    "P = 15 # bar\n",
    "elyield = EL_yield(d_EL, Efield, P)\n",
    "r_TP = 984./2. # mm\n",
    "C_tp = 0.006 # 1.3mm sipms, 15mm pitch\n",
    "C_ep = .3\n",
    "sipm_width = 2. # mm\n",
    "pmt_eff = ((old_stats_dict['PMT Charge'].mean() / old_stats_dict['PMT Hits'].mean()) + \n",
    "                  (new_stats_dict['PMT Charge'].mean() / new_stats_dict['PMT Hits'].mean()))/2.\n",
    "sipm_eff = ((old_stats_dict['SiPM Charge'].mean() / old_stats_dict['SiPM Hits'].mean()) + \n",
    "                  (new_stats_dict['SiPM Charge'].mean() / new_stats_dict['SiPM Hits'].mean()))/2.\n",
    "transp_gate = .88\n",
    "transp_anode = .88\n",
    "transp_cathode = .98\n",
    "eff_tpb = 0.5\n",
    "est_sipm_signal = (N_i(E_kr) * elyield * SAF_Plane(r_TP, d_EL, d_A-sipm_width) * C_tp *\n",
    "                    sipm_eff * transp_gate * transp_anode * eff_tpb)\n",
    "est_pmt_signal = (N_i(E_kr) * elyield * SAF_Plane(r_TP, d_EL+d_active, d_A-sipm_width) *\n",
    "                    C_ep * pmt_eff * transp_gate * transp_anode * transp_cathode)\n",
    "est_stats_dict = {'Ionization Electrons': N_i(E_kr), \n",
    "                  'Scintillation Photons': N_i(E_kr, W_sci),\n",
    "                  'EL Photons': N_i(E_kr) * elyield,\n",
    "                  'SiPM Hits': est_sipm_signal / sipm_eff,\n",
    "                  'PMT Hits': est_pmt_signal / pmt_eff,\n",
    "                  'SiPM Charge': est_sipm_signal,\n",
    "                  'PMT Charge': est_pmt_signal}"
   ]
  },
  {
   "cell_type": "code",
   "execution_count": 48,
   "metadata": {},
   "outputs": [
    {
     "data": {
      "image/png": "[encoded data removed]",
      "text/plain": [
       "<Figure size 432x288 with 1 Axes>"
      ]
     },
     "metadata": {
      "needs_background": "light"
     },
     "output_type": "display_data"
    },
    {
     "data": {
      "image/png": "[encoded data removed]",
      "text/plain": [
       "<Figure size 432x288 with 1 Axes>"
      ]
     },
     "metadata": {
      "needs_background": "light"
     },
     "output_type": "display_data"
    },
    {
     "data": {
      "image/png": "[encoded data removed]",
      "text/plain": [
       "<Figure size 432x288 with 1 Axes>"
      ]
     },
     "metadata": {
      "needs_background": "light"
     },
     "output_type": "display_data"
    },
    {
     "data": {
      "image/png": "[encoded data removed]",
      "text/plain": [
       "<Figure size 432x288 with 1 Axes>"
      ]
     },
     "metadata": {
      "needs_background": "light"
     },
     "output_type": "display_data"
    },
    {
     "data": {
      "image/png": "[encoded data removed]",
      "text/plain": [
       "<Figure size 432x288 with 1 Axes>"
      ]
     },
     "metadata": {
      "needs_background": "light"
     },
     "output_type": "display_data"
    },
    {
     "data": {
      "image/png": "[encoded data removed]",
      "text/plain": [
       "<Figure size 432x288 with 1 Axes>"
      ]
     },
     "metadata": {
      "needs_background": "light"
     },
     "output_type": "display_data"
    },
    {
     "data": {
      "image/png": "[encoded data removed]",
      "text/plain": [
       "<Figure size 432x288 with 1 Axes>"
      ]
     },
     "metadata": {
      "needs_background": "light"
     },
     "output_type": "display_data"
    }
   ],
   "source": [
    "for key in old_stats_dict:\n",
    "    plt.hist(old_stats_dict[key], label='old')\n",
    "    plt.hist(new_stats_dict[key], label='new')\n",
    "    plt.vlines(est_stats_dict[key], 0, 3, label='estimate')\n",
    "    plt.title(key)\n",
    "    plt.legend()\n",
    "    plt.show()"
   ]
  },
  {
   "cell_type": "code",
   "execution_count": 53,
   "metadata": {},
   "outputs": [
    {
     "name": "stdout",
     "output_type": "stream",
     "text": [
      "Ionization Electrons: \n",
      "    old = 1854.7, old2 = 1856.4, new = 1862.3, est = 1894.9771689497718\n",
      "Scintillation Photons: \n",
      "    old = 1053.3, old2 = 1063.7, new = 1053.2, est = 1058.673469387755\n",
      "EL Photons: \n",
      "    old = 1791708.7, old2 = 924318.2, new = 1765908.5, est = 1857077.6255707769\n",
      "SiPM Hits: \n",
      "    old = 2482.3, old2 = 1218.0, new = 2380.7, est = 2106.7732157936534\n",
      "PMT Hits: \n",
      "    old = 52935.9, old2 = 26027.1, new = 49080.5, est = 46432.692800277655\n",
      "SiPM Charge: \n",
      "    old = 2384.7, old2 = 1170.4, new = 2290.8, est = 2025.5777790768034\n",
      "PMT Charge: \n",
      "    old = 15616.1, old2 = 7716.3, new = 14538.3, est = 13725.818415892356\n"
     ]
    }
   ],
   "source": [
    "for key in old_stats_dict:\n",
    "    print(key + ': ')\n",
    "    print('    old = '+str(old_stats_dict[key].mean())\n",
    "          +', old2 = '+str(old2_stats_dict[key].mean())\n",
    "          +', new = '+str(new_stats_dict[key].mean())\n",
    "          +', est = '+str(est_stats_dict[key]))"
   ]
  },
  {
   "cell_type": "code",
   "execution_count": 56,
   "metadata": {},
   "outputs": [
    {
     "data": {
      "text/plain": [
       "(980.0000000000002, 500.0000000000001)"
      ]
     },
     "execution_count": 56,
     "metadata": {},
     "output_type": "execute_result"
    }
   ],
   "source": [
    "EL_yield(d_EL, Efield, P), old2_EL_yield(d_EL, Efield, P)"
   ]
  },
  {
   "cell_type": "markdown",
   "metadata": {},
   "source": [
    "So now all the componets match fairly well, which does not match the results I preseneted in the collaboration meeting. So I went back and compared how I made those plots and remade them. Everything looked the same, so I looked at the actual simulation and found that I made an error with the s1.3mmp15mm and s1.3mmp7mm teflon simulations where I used 8mm teflon hole diameters instead of 5mm. So now the results from the collaboration meeting make more sense, because I was accidently using such a large teflon hole that many photons where lost when they hit the kapton board. \n",
    "\n",
    "On a positive note, through this I found that the ELyield needed to be updated, the efficiencies of the TPB and gates, and efficiency of the PMTs needed to be added, making the total photons number roughly match."
   ]
  },
  {
   "cell_type": "markdown",
   "metadata": {},
   "source": [
    "## Charge per time bin\n",
    "\n",
    "This will be a bit difficult with krypton events since they are not tracks so I can't get the dN/dt in the same way, but the Qbb events would take a reeeeeally long time to make save all the output so I don't think its a good idea. "
   ]
  },
  {
   "cell_type": "code",
   "execution_count": 45,
   "metadata": {},
   "outputs": [],
   "source": [
    "old_sipm_response = old_sns_response_sorted.loc[old_sns_response_sorted[\"sensor_id\"] >999]\n",
    "old_sipms_max = old_sipm_response.groupby('event_id').apply(lambda grp: np.max(grp.charge))"
   ]
  },
  {
   "cell_type": "code",
   "execution_count": 44,
   "metadata": {},
   "outputs": [
    {
     "data": {
      "image/png": "[encoded data removed]",
      "text/plain": [
       "<Figure size 432x288 with 1 Axes>"
      ]
     },
     "metadata": {
      "needs_background": "light"
     },
     "output_type": "display_data"
    },
    {
     "data": {
      "image/png": "[encoded data removed]",
      "text/plain": [
       "<Figure size 432x288 with 1 Axes>"
      ]
     },
     "metadata": {
      "needs_background": "light"
     },
     "output_type": "display_data"
    }
   ],
   "source": [
    "plt.hist(old_sipms_mean)\n",
    "plt.show()\n",
    "\n",
    "plt.hist(old_sipms_max)\n",
    "plt.show()"
   ]
  },
  {
   "cell_type": "code",
   "execution_count": null,
   "metadata": {},
   "outputs": [],
   "source": []
  }
 ],
 "metadata": {
  "kernelspec": {
   "display_name": "Python 3",
   "language": "python",
   "name": "python3"
  },
  "language_info": {
   "codemirror_mode": {
    "name": "ipython",
    "version": 3
   },
   "file_extension": ".py",
   "mimetype": "text/x-python",
   "name": "python",
   "nbconvert_exporter": "python",
   "pygments_lexer": "ipython3",
   "version": "3.7.9"
  }
 },
 "nbformat": 4,
 "nbformat_minor": 4
}
