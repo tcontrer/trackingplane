{
 "cells": [
  {
   "cell_type": "code",
   "execution_count": 1,
   "metadata": {},
   "outputs": [],
   "source": [
    "import pandas as pd\n",
    "import matplotlib.pyplot as plt\n",
    "import numpy as np"
   ]
  },
  {
   "cell_type": "code",
   "execution_count": 2,
   "metadata": {},
   "outputs": [
    {
     "data": {
      "text/html": [
       "<div>\n",
       "<style scoped>\n",
       "    .dataframe tbody tr th:only-of-type {\n",
       "        vertical-align: middle;\n",
       "    }\n",
       "\n",
       "    .dataframe tbody tr th {\n",
       "        vertical-align: top;\n",
       "    }\n",
       "\n",
       "    .dataframe thead th {\n",
       "        text-align: right;\n",
       "    }\n",
       "</style>\n",
       "<table border=\"1\" class=\"dataframe\">\n",
       "  <thead>\n",
       "    <tr style=\"text-align: right;\">\n",
       "      <th></th>\n",
       "      <th>param_key</th>\n",
       "      <th>param_value</th>\n",
       "    </tr>\n",
       "  </thead>\n",
       "  <tbody>\n",
       "    <tr>\n",
       "      <th>0</th>\n",
       "      <td>event_type</td>\n",
       "      <td>other</td>\n",
       "    </tr>\n",
       "    <tr>\n",
       "      <th>1</th>\n",
       "      <td>num_events</td>\n",
       "      <td>10</td>\n",
       "    </tr>\n",
       "    <tr>\n",
       "      <th>2</th>\n",
       "      <td>saved_events</td>\n",
       "      <td>10</td>\n",
       "    </tr>\n",
       "    <tr>\n",
       "      <th>3</th>\n",
       "      <td>interacting_events</td>\n",
       "      <td>0</td>\n",
       "    </tr>\n",
       "    <tr>\n",
       "      <th>4</th>\n",
       "      <td>PmtR11410_binning</td>\n",
       "      <td>0.025000 mus</td>\n",
       "    </tr>\n",
       "    <tr>\n",
       "      <th>...</th>\n",
       "      <td>...</td>\n",
       "      <td>...</td>\n",
       "    </tr>\n",
       "    <tr>\n",
       "      <th>72</th>\n",
       "      <td>/event/verbose</td>\n",
       "      <td>0</td>\n",
       "    </tr>\n",
       "    <tr>\n",
       "      <th>73</th>\n",
       "      <td>/tracking/verbose</td>\n",
       "      <td>0</td>\n",
       "    </tr>\n",
       "    <tr>\n",
       "      <th>74</th>\n",
       "      <td>/nexus/random_seed</td>\n",
       "      <td>2</td>\n",
       "    </tr>\n",
       "    <tr>\n",
       "      <th>75</th>\n",
       "      <td>/nexus/persistency/start_id</td>\n",
       "      <td>10</td>\n",
       "    </tr>\n",
       "    <tr>\n",
       "      <th>76</th>\n",
       "      <td>/nexus/persistency/outputFile</td>\n",
       "      <td>/n/holystore01/LABS/guenette_lab/Users/tcontre...</td>\n",
       "    </tr>\n",
       "  </tbody>\n",
       "</table>\n",
       "<p>77 rows × 2 columns</p>\n",
       "</div>"
      ],
      "text/plain": [
       "                        param_key  \\\n",
       "0                      event_type   \n",
       "1                      num_events   \n",
       "2                    saved_events   \n",
       "3              interacting_events   \n",
       "4               PmtR11410_binning   \n",
       "..                            ...   \n",
       "72                 /event/verbose   \n",
       "73              /tracking/verbose   \n",
       "74             /nexus/random_seed   \n",
       "75    /nexus/persistency/start_id   \n",
       "76  /nexus/persistency/outputFile   \n",
       "\n",
       "                                          param_value  \n",
       "0                                               other  \n",
       "1                                                  10  \n",
       "2                                                  10  \n",
       "3                                                   0  \n",
       "4                                        0.025000 mus  \n",
       "..                                                ...  \n",
       "72                                                  0  \n",
       "73                                                  0  \n",
       "74                                                  2  \n",
       "75                                                 10  \n",
       "76  /n/holystore01/LABS/guenette_lab/Users/tcontre...  \n",
       "\n",
       "[77 rows x 2 columns]"
      ]
     },
     "execution_count": 2,
     "metadata": {},
     "output_type": "execute_result"
    }
   ],
   "source": [
    "data_dir = '/Users/taylorcontreras/Development/Research/trackingplane/data/no_teflon/s3mmp15mm/'\n",
    "files = [data_dir+'flex.kr83m.1.nexus.h5', data_dir+'flex.kr83m.2.nexus.h5', data_dir+'flex.kr83m.3.nexus.h5']\n",
    "#test_file = [\"/Users/taylorcontreras/Development/Research/trackingplane/s1mmp1mm/flex.kr83m.25.nexus.h5\"]\n",
    "test_file = [\"/Users/taylorcontreras/Development/Research/trackingplane/data/highenergy/no_teflon/s3mmp15mm/flex.kr83m.1.nexus.h5\"]\n",
    "config = pd.read_hdf(test_file[0], \"MC/configuration\")\n",
    "config"
   ]
  },
  {
   "cell_type": "code",
   "execution_count": 3,
   "metadata": {},
   "outputs": [
    {
     "data": {
      "text/html": [
       "<div>\n",
       "<style scoped>\n",
       "    .dataframe tbody tr th:only-of-type {\n",
       "        vertical-align: middle;\n",
       "    }\n",
       "\n",
       "    .dataframe tbody tr th {\n",
       "        vertical-align: top;\n",
       "    }\n",
       "\n",
       "    .dataframe thead th {\n",
       "        text-align: right;\n",
       "    }\n",
       "</style>\n",
       "<table border=\"1\" class=\"dataframe\">\n",
       "  <thead>\n",
       "    <tr style=\"text-align: right;\">\n",
       "      <th></th>\n",
       "      <th>sensor_id</th>\n",
       "      <th>sensor_name</th>\n",
       "      <th>x</th>\n",
       "      <th>y</th>\n",
       "      <th>z</th>\n",
       "    </tr>\n",
       "  </thead>\n",
       "  <tbody>\n",
       "    <tr>\n",
       "      <th>0</th>\n",
       "      <td>42</td>\n",
       "      <td>PmtR11410</td>\n",
       "      <td>437.500000</td>\n",
       "      <td>108.300003</td>\n",
       "      <td>1468.699951</td>\n",
       "    </tr>\n",
       "    <tr>\n",
       "      <th>1</th>\n",
       "      <td>14</td>\n",
       "      <td>PmtR11410</td>\n",
       "      <td>-187.540558</td>\n",
       "      <td>108.229767</td>\n",
       "      <td>1468.699951</td>\n",
       "    </tr>\n",
       "    <tr>\n",
       "      <th>2</th>\n",
       "      <td>5</td>\n",
       "      <td>PmtR11410</td>\n",
       "      <td>62.500000</td>\n",
       "      <td>-108.253174</td>\n",
       "      <td>1468.699951</td>\n",
       "    </tr>\n",
       "    <tr>\n",
       "      <th>3</th>\n",
       "      <td>7</td>\n",
       "      <td>PmtR11410</td>\n",
       "      <td>125.000000</td>\n",
       "      <td>216.506348</td>\n",
       "      <td>1468.699951</td>\n",
       "    </tr>\n",
       "    <tr>\n",
       "      <th>4</th>\n",
       "      <td>45</td>\n",
       "      <td>PmtR11410</td>\n",
       "      <td>-437.500000</td>\n",
       "      <td>-108.300003</td>\n",
       "      <td>1468.699951</td>\n",
       "    </tr>\n",
       "    <tr>\n",
       "      <th>...</th>\n",
       "      <td>...</td>\n",
       "      <td>...</td>\n",
       "      <td>...</td>\n",
       "      <td>...</td>\n",
       "      <td>...</td>\n",
       "    </tr>\n",
       "    <tr>\n",
       "      <th>3363</th>\n",
       "      <td>2006</td>\n",
       "      <td>TP_SiPM</td>\n",
       "      <td>322.500000</td>\n",
       "      <td>-157.500000</td>\n",
       "      <td>-23.301001</td>\n",
       "    </tr>\n",
       "    <tr>\n",
       "      <th>3364</th>\n",
       "      <td>4261</td>\n",
       "      <td>TP_SiPM</td>\n",
       "      <td>112.500000</td>\n",
       "      <td>442.500000</td>\n",
       "      <td>-23.301001</td>\n",
       "    </tr>\n",
       "    <tr>\n",
       "      <th>3365</th>\n",
       "      <td>3863</td>\n",
       "      <td>TP_SiPM</td>\n",
       "      <td>352.500000</td>\n",
       "      <td>292.500000</td>\n",
       "      <td>-23.301001</td>\n",
       "    </tr>\n",
       "    <tr>\n",
       "      <th>3366</th>\n",
       "      <td>1377</td>\n",
       "      <td>TP_SiPM</td>\n",
       "      <td>142.500000</td>\n",
       "      <td>-322.500000</td>\n",
       "      <td>-23.301001</td>\n",
       "    </tr>\n",
       "    <tr>\n",
       "      <th>3367</th>\n",
       "      <td>4024</td>\n",
       "      <td>TP_SiPM</td>\n",
       "      <td>-112.500000</td>\n",
       "      <td>352.500000</td>\n",
       "      <td>-23.301001</td>\n",
       "    </tr>\n",
       "  </tbody>\n",
       "</table>\n",
       "<p>3368 rows × 5 columns</p>\n",
       "</div>"
      ],
      "text/plain": [
       "      sensor_id sensor_name           x           y            z\n",
       "0            42   PmtR11410  437.500000  108.300003  1468.699951\n",
       "1            14   PmtR11410 -187.540558  108.229767  1468.699951\n",
       "2             5   PmtR11410   62.500000 -108.253174  1468.699951\n",
       "3             7   PmtR11410  125.000000  216.506348  1468.699951\n",
       "4            45   PmtR11410 -437.500000 -108.300003  1468.699951\n",
       "...         ...         ...         ...         ...          ...\n",
       "3363       2006     TP_SiPM  322.500000 -157.500000   -23.301001\n",
       "3364       4261     TP_SiPM  112.500000  442.500000   -23.301001\n",
       "3365       3863     TP_SiPM  352.500000  292.500000   -23.301001\n",
       "3366       1377     TP_SiPM  142.500000 -322.500000   -23.301001\n",
       "3367       4024     TP_SiPM -112.500000  352.500000   -23.301001\n",
       "\n",
       "[3368 rows x 5 columns]"
      ]
     },
     "execution_count": 3,
     "metadata": {},
     "output_type": "execute_result"
    }
   ],
   "source": [
    "sns_response = pd.read_hdf(test_file[0], 'MC/sns_response')\n",
    "sns_positions = pd.read_hdf(test_file[0], 'MC/sns_positions')\n",
    "sns_positions = sns_positions.drop_duplicates(subset='sensor_id')\n",
    "sns_positions"
   ]
  },
  {
   "cell_type": "code",
   "execution_count": 4,
   "metadata": {},
   "outputs": [],
   "source": [
    "sns_response_sorted = sns_response.sort_values(by=['sensor_id'])\n",
    "sipm_response = sns_response_sorted.loc[sns_response_sorted[\"sensor_id\"] >999]"
   ]
  },
  {
   "cell_type": "code",
   "execution_count": 5,
   "metadata": {},
   "outputs": [
    {
     "data": {
      "image/png": "[encoded data removed]",
      "text/plain": [
       "<Figure size 432x288 with 1 Axes>"
      ]
     },
     "metadata": {
      "needs_background": "light"
     },
     "output_type": "display_data"
    }
   ],
   "source": [
    "for _, grp in sipm_response.groupby('event_id'):\n",
    "    plt.hist(grp.charge, bins=50)\n",
    "plt.title('SiPM Response')\n",
    "plt.xlabel(\"PES\")\n",
    "plt.show()"
   ]
  },
  {
   "cell_type": "code",
   "execution_count": 6,
   "metadata": {},
   "outputs": [
    {
     "name": "stdout",
     "output_type": "stream",
     "text": [
      "2635\n",
      "2030\n",
      "2921\n",
      "2316\n",
      "2571\n",
      "2112\n",
      "2376\n",
      "825\n",
      "1031\n",
      "2494\n"
     ]
    }
   ],
   "source": [
    "cuts = np.linspace(0, 50, 50)\n",
    "for _, grp in sipm_response.groupby('event_id'):\n",
    "    print(len(grp[grp.charge > 30]))"
   ]
  },
  {
   "cell_type": "code",
   "execution_count": 7,
   "metadata": {},
   "outputs": [],
   "source": [
    "num_sat_by_cut = []\n",
    "for cut in cuts:\n",
    "    sat_sipms = sipm_response.groupby('event_id').apply(\n",
    "        lambda grp: len(grp[grp.charge > cut])).values.mean()\n",
    "    num_sat_by_cut.append(sat_sipms)"
   ]
  },
  {
   "cell_type": "code",
   "execution_count": 8,
   "metadata": {},
   "outputs": [
    {
     "data": {
      "text/plain": [
       "3308"
      ]
     },
     "execution_count": 8,
     "metadata": {},
     "output_type": "execute_result"
    }
   ],
   "source": [
    "sns_pos_sorted = sns_positions.sort_values(by=['sensor_id'])\n",
    "sipm_positions = sns_pos_sorted[sns_pos_sorted[\"sensor_name\"].str.contains(\"SiPM\")]\n",
    "len(sipm_positions)"
   ]
  },
  {
   "cell_type": "code",
   "execution_count": 9,
   "metadata": {},
   "outputs": [
    {
     "data": {
      "image/png": "[encoded data removed]",
      "text/plain": [
       "<Figure size 432x288 with 1 Axes>"
      ]
     },
     "metadata": {
      "needs_background": "light"
     },
     "output_type": "display_data"
    }
   ],
   "source": [
    "plt.plot(cuts, num_sat_by_cut)\n",
    "plt.xlabel('Max charge [pes]')\n",
    "plt.ylabel('Instances of a Saturated SiPM')\n",
    "plt.show()"
   ]
  },
  {
   "cell_type": "code",
   "execution_count": 10,
   "metadata": {},
   "outputs": [],
   "source": [
    "max_charges = sipm_response.groupby('event_id').apply(lambda grp: grp.charge.max())\n",
    "num_events_sat = []\n",
    "big_cuts = np.linspace(0, 5000, 50)\n",
    "for cut in big_cuts:\n",
    "    num_events_sat.append(len(max_charges[max_charges.values > cut]))"
   ]
  },
  {
   "cell_type": "code",
   "execution_count": 11,
   "metadata": {},
   "outputs": [
    {
     "data": {
      "image/png": "[encoded data removed]",
      "text/plain": [
       "<Figure size 432x288 with 1 Axes>"
      ]
     },
     "metadata": {
      "needs_background": "light"
     },
     "output_type": "display_data"
    },
    {
     "data": {
      "image/png": "[encoded data removed]",
      "text/plain": [
       "<Figure size 432x288 with 1 Axes>"
      ]
     },
     "metadata": {
      "needs_background": "light"
     },
     "output_type": "display_data"
    }
   ],
   "source": [
    "plt.plot(big_cuts, num_events_sat)\n",
    "plt.xlabel('Max Charge [pes]')\n",
    "plt.ylabel('Number of Events')\n",
    "plt.title('Saturation in SiPMs')\n",
    "plt.show()\n",
    "\n",
    "plt.plot(big_cuts, np.array(num_events_sat)/num_events_sat[0])\n",
    "plt.xlabel('Max Charge [pes]')\n",
    "plt.ylabel('Fraction Events')\n",
    "plt.title('Saturation in SiPMs')\n",
    "plt.show()"
   ]
  },
  {
   "cell_type": "code",
   "execution_count": 12,
   "metadata": {},
   "outputs": [
    {
     "name": "stdout",
     "output_type": "stream",
     "text": [
      "789638\n",
      "580867\n",
      "794429\n",
      "796317\n",
      "795297\n",
      "633365\n",
      "795089\n",
      "257540\n",
      "326235\n",
      "791648\n"
     ]
    }
   ],
   "source": [
    "for _, grp in sipm_response.groupby('event_id'):\n",
    "    print(grp.charge.sum())"
   ]
  },
  {
   "cell_type": "code",
   "execution_count": 13,
   "metadata": {},
   "outputs": [],
   "source": [
    "total_charge = sipm_response.groupby('event_id').apply(lambda grp: grp.charge.sum())\n",
    "energy_loss_by_cut = []\n",
    "for cut in big_cuts:\n",
    "    total_charge_wcut = (sipm_response.groupby('event_id').apply(lambda grp: grp[grp.charge<cut].charge-cut).sum())\n",
    "    energy_loss_by_cut.append((total_charge_wcut / total_charge).mean())"
   ]
  },
  {
   "cell_type": "code",
   "execution_count": 14,
   "metadata": {},
   "outputs": [
    {
     "data": {
      "text/plain": [
       "Text(0, 0.5, 'Fraction of total energy without Max charge')"
      ]
     },
     "execution_count": 14,
     "metadata": {},
     "output_type": "execute_result"
    },
    {
     "data": {
      "image/png": "[encoded data removed]",
      "text/plain": [
       "<Figure size 432x288 with 1 Axes>"
      ]
     },
     "metadata": {
      "needs_background": "light"
     },
     "output_type": "display_data"
    }
   ],
   "source": [
    "plt.plot(big_cuts, energy_loss_by_cut)\n",
    "plt.xlabel('Max Charge [pes]')\n",
    "plt.ylabel('Fraction of total energy without Max charge')"
   ]
  },
  {
   "cell_type": "code",
   "execution_count": 15,
   "metadata": {},
   "outputs": [
    {
     "data": {
      "image/png": "[encoded data removed]",
      "text/plain": [
       "<Figure size 432x288 with 1 Axes>"
      ]
     },
     "metadata": {
      "needs_background": "light"
     },
     "output_type": "display_data"
    },
    {
     "data": {
      "image/png": "[encoded data removed]",
      "text/plain": [
       "<Figure size 432x288 with 1 Axes>"
      ]
     },
     "metadata": {
      "needs_background": "light"
     },
     "output_type": "display_data"
    },
    {
     "data": {
      "image/png": "[encoded data removed]",
      "text/plain": [
       "<Figure size 432x288 with 1 Axes>"
      ]
     },
     "metadata": {
      "needs_background": "light"
     },
     "output_type": "display_data"
    },
    {
     "data": {
      "image/png": "[encoded data removed]",
      "text/plain": [
       "<Figure size 432x288 with 1 Axes>"
      ]
     },
     "metadata": {
      "needs_background": "light"
     },
     "output_type": "display_data"
    }
   ],
   "source": [
    "# With multiple files\n",
    "cuts = np.linspace(0, 50, 50)\n",
    "big_cuts = np.linspace(0, 5000, 50)\n",
    "num_sat_by_cut = []\n",
    "num_events_sat = []\n",
    "energy_loss_by_cut = []\n",
    "for file in files:\n",
    "    sns_response = pd.read_hdf(test_file[0], 'MC/sns_response')\n",
    "    sns_positions = pd.read_hdf(test_file[0], 'MC/sns_positions')\n",
    "    sns_positions = sns_positions.drop_duplicates(subset='sensor_id')\n",
    "    \n",
    "    sns_response_sorted = sns_response.sort_values(by=['sensor_id'])\n",
    "    sipm_response = sns_response_sorted.loc[sns_response_sorted[\"sensor_id\"] >999]\n",
    "    \n",
    "    this_num_sat_by_cut = []\n",
    "    for cut in cuts:\n",
    "        sat_sipms = sipm_response.groupby('event_id').apply(\n",
    "            lambda grp: len(grp[grp.charge > cut])).values.mean()\n",
    "        this_num_sat_by_cut.append(sat_sipms)\n",
    "    num_sat_by_cut.append(this_num_sat_by_cut)\n",
    "    \n",
    "    max_charges = sipm_response.groupby('event_id').apply(lambda grp: grp.charge.max())\n",
    "    total_charge = sipm_response.groupby('event_id').apply(lambda grp: grp.charge.sum())\n",
    "    this_num_events_sat = []\n",
    "    this_energy_loss_by_cut = []\n",
    "    for cut in big_cuts:\n",
    "        this_num_events_sat.append(len(max_charges[max_charges.values > cut]))\n",
    "        total_charge_wcut = sipm_response.groupby('event_id').apply(lambda grp: grp[grp.charge<cut].charge.sum())\n",
    "        this_energy_loss_by_cut.append((total_charge_wcut / total_charge).mean())\n",
    "    num_events_sat.append(this_num_events_sat)\n",
    "    energy_loss_by_cut.append(this_energy_loss_by_cut)\n",
    "    \n",
    "num_sat_by_cut = np.array(num_sat_by_cut).sum(axis=0)/len(files)\n",
    "num_events_sat = np.array(num_events_sat).sum(axis=0)/len(files)\n",
    "energy_loss_by_cut = np.array(energy_loss_by_cut).sum(axis=0)/len(files)\n",
    "\n",
    "plt.plot(cuts, num_sat_by_cut)\n",
    "plt.xlabel('Max charge [pes]')\n",
    "plt.ylabel('Instances of a Saturated SiPM')\n",
    "plt.show()\n",
    "\n",
    "plt.plot(big_cuts, num_events_sat)\n",
    "plt.xlabel('Max Charge [pes]')\n",
    "plt.ylabel('Number of Events')\n",
    "plt.title('Saturation in SiPMs')\n",
    "plt.show()\n",
    "\n",
    "plt.plot(big_cuts, np.array(num_events_sat)/num_events_sat[0])\n",
    "plt.xlabel('Max Charge [pes]')\n",
    "plt.ylabel('Fraction Events')\n",
    "plt.title('Saturation in SiPMs')\n",
    "plt.show()\n",
    "\n",
    "plt.plot(big_cuts, energy_loss_by_cut)\n",
    "plt.xlabel('Max Charge [pes]')\n",
    "plt.ylabel('Fraction of total energy without Max charge')\n",
    "plt.show()"
   ]
  },
  {
   "cell_type": "code",
   "execution_count": 16,
   "metadata": {},
   "outputs": [
    {
     "data": {
      "text/plain": [
       "<ErrorbarContainer object of 3 artists>"
      ]
     },
     "execution_count": 16,
     "metadata": {},
     "output_type": "execute_result"
    },
    {
     "data": {
      "image/png": "[encoded data removed]",
      "text/plain": [
       "<Figure size 432x288 with 1 Axes>"
      ]
     },
     "metadata": {
      "needs_background": "light"
     },
     "output_type": "display_data"
    }
   ],
   "source": [
    "x = [1,2,3]\n",
    "y = [1,2,3]\n",
    "y2 = [3,4,5]\n",
    "yerr = [.2,.2,.2]\n",
    "plt.errorbar(x, y, yerr, linestyle='-')\n",
    "plt.errorbar(x,y2,yerr, linestyle='--')"
   ]
  },
  {
   "cell_type": "code",
   "execution_count": 78,
   "metadata": {},
   "outputs": [
    {
     "data": {
      "text/plain": [
       "charge    0.520261\n",
       "dtype: float64"
      ]
     },
     "execution_count": 78,
     "metadata": {},
     "output_type": "execute_result"
    }
   ],
   "source": [
    "sat_response = sipm_response[['event_id', 'charge']][sipm_response.charge > cut]\n",
    "sat_response.loc[:,('charge')] = sat_response.charge - cut\n",
    "sat_response = sat_response.groupby('event_id').agg({\"charge\":\"sum\"})\n",
    "total_charge = sipm_response[['event_id', 'charge']].groupby('event_id').agg({'charge':'sum'})\n",
    "(sat_response / total_charge).mean()\n",
    "#this = sipm_response[['event_id', 'charge']].groupby('event_id').apply(lambda grp: grp[grp.charge > cut])\n",
    "#this.charge = this.charge - cut\n",
    "#this #this.groupby('event_id').apply(lambda grp: grp.charge.sum())"
   ]
  },
  {
   "cell_type": "code",
   "execution_count": 36,
   "metadata": {},
   "outputs": [
    {
     "data": {
      "text/html": [
       "<div>\n",
       "<style scoped>\n",
       "    .dataframe tbody tr th:only-of-type {\n",
       "        vertical-align: middle;\n",
       "    }\n",
       "\n",
       "    .dataframe tbody tr th {\n",
       "        vertical-align: top;\n",
       "    }\n",
       "\n",
       "    .dataframe thead th {\n",
       "        text-align: right;\n",
       "    }\n",
       "</style>\n",
       "<table border=\"1\" class=\"dataframe\">\n",
       "  <thead>\n",
       "    <tr style=\"text-align: right;\">\n",
       "      <th></th>\n",
       "      <th></th>\n",
       "      <th>event_id</th>\n",
       "      <th>sensor_id</th>\n",
       "      <th>time_bin</th>\n",
       "      <th>charge</th>\n",
       "    </tr>\n",
       "    <tr>\n",
       "      <th>event_id</th>\n",
       "      <th></th>\n",
       "      <th></th>\n",
       "      <th></th>\n",
       "      <th></th>\n",
       "      <th></th>\n",
       "    </tr>\n",
       "  </thead>\n",
       "  <tbody>\n",
       "    <tr>\n",
       "      <th rowspan=\"5\" valign=\"top\">10</th>\n",
       "      <th>142648</th>\n",
       "      <td>10</td>\n",
       "      <td>1977</td>\n",
       "      <td>889</td>\n",
       "      <td>2</td>\n",
       "    </tr>\n",
       "    <tr>\n",
       "      <th>217815</th>\n",
       "      <td>10</td>\n",
       "      <td>2036</td>\n",
       "      <td>909</td>\n",
       "      <td>8</td>\n",
       "    </tr>\n",
       "    <tr>\n",
       "      <th>217816</th>\n",
       "      <td>10</td>\n",
       "      <td>2036</td>\n",
       "      <td>910</td>\n",
       "      <td>1</td>\n",
       "    </tr>\n",
       "    <tr>\n",
       "      <th>148410</th>\n",
       "      <td>10</td>\n",
       "      <td>2037</td>\n",
       "      <td>888</td>\n",
       "      <td>2</td>\n",
       "    </tr>\n",
       "    <tr>\n",
       "      <th>148411</th>\n",
       "      <td>10</td>\n",
       "      <td>2037</td>\n",
       "      <td>889</td>\n",
       "      <td>1</td>\n",
       "    </tr>\n",
       "    <tr>\n",
       "      <th>...</th>\n",
       "      <th>...</th>\n",
       "      <td>...</td>\n",
       "      <td>...</td>\n",
       "      <td>...</td>\n",
       "      <td>...</td>\n",
       "    </tr>\n",
       "    <tr>\n",
       "      <th rowspan=\"5\" valign=\"top\">19</th>\n",
       "      <th>1886297</th>\n",
       "      <td>19</td>\n",
       "      <td>3691</td>\n",
       "      <td>174</td>\n",
       "      <td>12</td>\n",
       "    </tr>\n",
       "    <tr>\n",
       "      <th>1827162</th>\n",
       "      <td>19</td>\n",
       "      <td>3692</td>\n",
       "      <td>192</td>\n",
       "      <td>7</td>\n",
       "    </tr>\n",
       "    <tr>\n",
       "      <th>1827142</th>\n",
       "      <td>19</td>\n",
       "      <td>3692</td>\n",
       "      <td>172</td>\n",
       "      <td>7</td>\n",
       "    </tr>\n",
       "    <tr>\n",
       "      <th>1827161</th>\n",
       "      <td>19</td>\n",
       "      <td>3692</td>\n",
       "      <td>191</td>\n",
       "      <td>7</td>\n",
       "    </tr>\n",
       "    <tr>\n",
       "      <th>1827160</th>\n",
       "      <td>19</td>\n",
       "      <td>3692</td>\n",
       "      <td>190</td>\n",
       "      <td>1</td>\n",
       "    </tr>\n",
       "  </tbody>\n",
       "</table>\n",
       "<p>21311 rows × 4 columns</p>\n",
       "</div>"
      ],
      "text/plain": [
       "                  event_id  sensor_id  time_bin  charge\n",
       "event_id                                               \n",
       "10       142648         10       1977       889       2\n",
       "         217815         10       2036       909       8\n",
       "         217816         10       2036       910       1\n",
       "         148410         10       2037       888       2\n",
       "         148411         10       2037       889       1\n",
       "...                    ...        ...       ...     ...\n",
       "19       1886297        19       3691       174      12\n",
       "         1827162        19       3692       192       7\n",
       "         1827142        19       3692       172       7\n",
       "         1827161        19       3692       191       7\n",
       "         1827160        19       3692       190       1\n",
       "\n",
       "[21311 rows x 4 columns]"
      ]
     },
     "execution_count": 36,
     "metadata": {},
     "output_type": "execute_result"
    }
   ],
   "source": [
    "this"
   ]
  },
  {
   "cell_type": "code",
   "execution_count": null,
   "metadata": {},
   "outputs": [],
   "source": []
  }
 ],
 "metadata": {
  "kernelspec": {
   "display_name": "Python 3",
   "language": "python",
   "name": "python3"
  },
  "language_info": {
   "codemirror_mode": {
    "name": "ipython",
    "version": 3
   },
   "file_extension": ".py",
   "mimetype": "text/x-python",
   "name": "python",
   "nbconvert_exporter": "python",
   "pygments_lexer": "ipython3",
   "version": "3.7.9"
  }
 },
 "nbformat": 4,
 "nbformat_minor": 4
}
