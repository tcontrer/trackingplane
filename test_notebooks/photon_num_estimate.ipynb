{
 "cells": [
  {
   "cell_type": "markdown",
   "metadata": {},
   "source": [
    "# Photon Number Estimates\n",
    "\n",
    "### This notebook calculates the estimated signal of Next-like detectors "
   ]
  },
  {
   "cell_type": "code",
   "execution_count": 1,
   "metadata": {},
   "outputs": [],
   "source": [
    "import numpy as np\n",
    "\n",
    "# Constants in all cases\n",
    "E_qbb = 2400. # keV\n",
    "E_kr = 41.5 # keV\n",
    "dEdx_qbb_blob = 20 # keV/cm\n",
    "dEdx_qbb_track = 7 # keV/cm\n",
    "dEdx_kr = 20 # no idea if this is true or not..."
   ]
  },
  {
   "cell_type": "code",
   "execution_count": 2,
   "metadata": {},
   "outputs": [],
   "source": [
    "def N_i(E, W_i=21.9):\n",
    "    \"\"\"\n",
    "    Returns number of ionization electrons released \n",
    "    in a material with an ionization energy of W_i\n",
    "    with an energy of E.\n",
    "    \n",
    "    Input: \n",
    "        E - energy in keV\n",
    "        W_i - ionization energy in eV, default to GXe\n",
    "    \"\"\"\n",
    "    return E*1000./W_i"
   ]
  },
  {
   "cell_type": "code",
   "execution_count": 3,
   "metadata": {},
   "outputs": [
    {
     "name": "stdout",
     "output_type": "stream",
     "text": [
      "N_i(Qbb) = 109589, N_i(kr) = 1894\n"
     ]
    }
   ],
   "source": [
    "print('N_i(Qbb) = '+str(int(N_i(E_qbb)))+', N_i(kr) = '+str(int(N_i(E_kr))))"
   ]
  },
  {
   "cell_type": "code",
   "execution_count": 4,
   "metadata": {},
   "outputs": [],
   "source": [
    "def SAF_Plane(r_TP, d_EL, d_A):\n",
    "    \"\"\"\n",
    "    Solid angle fraction of the circular plane a distance \n",
    "    d_EL+d_A from the source.\n",
    "    \n",
    "    Input: r_TP - radius of tracking plane [mm]\n",
    "           d_EL - length of EL gap [mm]\n",
    "           d_A - distance between anode and SiPMs [mm]\n",
    "    \"\"\"\n",
    "    return 2*np.pi * (1/(4*np.pi)) * (1 - ((d_EL+d_A)/2.)/(np.sqrt(r_TP**2. + ((d_EL+d_A)/2.)**2.)))"
   ]
  },
  {
   "cell_type": "code",
   "execution_count": 5,
   "metadata": {},
   "outputs": [],
   "source": [
    "def SAF_SiPM(s, d_EL, d_A, sipm_width=2.):\n",
    "    \"\"\"\n",
    "    Solid angle fraction of a SiPM on \n",
    "    the tracking plane.\n",
    "    Input: s - size of SiPM [mm]\n",
    "           d_EL - length of EL gap [mm]\n",
    "           d_A - distance between anode and SiPMs [mm]\n",
    "    \"\"\"\n",
    "    d = d_EL/2. + d_A - sipm_width\n",
    "    return SAF_square(s, d)\n",
    "\n",
    "def SAF_square(s, d):\n",
    "    \"\"\"\n",
    "    Solid angle fraction of square plane a distance\n",
    "    d from the source\n",
    "    Reference: https://vixra.org/pdf/2001.0603v1.pdf\n",
    "    \n",
    "    Input: s - size of SiPM [mm]\n",
    "           d - distance [mm]\n",
    "    \"\"\"\n",
    "    num = s**2.\n",
    "    denom = 4.*d**2. * np.sqrt(1. + 2.*s**2./(4.*d**2.))\n",
    "    return (1./np.pi) * np.arctan( num / denom)\n",
    "\n",
    "def SAF_square_approx(s, d):\n",
    "    \"\"\"\n",
    "    Solid angle fraction of square plane, approx for small s \n",
    "    a distance d from the source.\n",
    "    \n",
    "    Input: s - size of SiPM [mm]\n",
    "           d - distance from source [mm]\n",
    "    \"\"\"\n",
    "    return s**2. / (4*np.pi*d**2.)"
   ]
  },
  {
   "cell_type": "code",
   "execution_count": 6,
   "metadata": {},
   "outputs": [],
   "source": [
    "def Coverage(r_TP, s, N_sipms):\n",
    "    \"\"\"\n",
    "    Coverage of tracking plane\n",
    "    \n",
    "    Input: r_TP - radius of tracking plane [mm]\n",
    "           s - size of SiPM [mm]\n",
    "           N_sipms - number of SiPMs [mm]\n",
    "    \"\"\"\n",
    "    return s**2. * N_sipms / (np.pi * r_TP**2.)"
   ]
  },
  {
   "cell_type": "code",
   "execution_count": 7,
   "metadata": {},
   "outputs": [],
   "source": [
    "def EL_yield_old(d_EL, Efield, P):    \n",
    "    red_efield = Efield/(P)\n",
    "    red_ELyield = 151*red_efield-131\n",
    "    ELyield = red_ELyield*(d_EL/10.)*P\n",
    "    return ELyield\n",
    "\n",
    "def EL_yield(d_EL, Efield, P):\n",
    "    \"\"\"\n",
    "    Returns the EL yeild, the number of photons per ionization\n",
    "    electron crossing the EL gap.\n",
    "    Reference: E.D.C.Freitas 2010, 'Secondary scintillation \n",
    "        yield in high-pressure xenon gas for neutrinoless double \n",
    "        beta decay  search'\n",
    "        \n",
    "    Input: d_EL - length of EL gap [mm], \n",
    "           Efield - electric field [kV/cm]\n",
    "           P - pressure [bar]\n",
    "    \"\"\"\n",
    "    b = 116.\n",
    "    a = 140.\n",
    "    if P >= 8.:\n",
    "        a = 170.\n",
    "    elif P >= 6.:\n",
    "        a = 161.\n",
    "    elif P >= 5.:\n",
    "        a = 151.\n",
    "    elif P >= 4.:\n",
    "        a = 142.\n",
    "    elif P >= 2.:\n",
    "        a = 141.\n",
    "        \n",
    "    ELyield = (a*Efield/P - b) * P*d_EL/10.\n",
    "    \n",
    "    return ELyield"
   ]
  },
  {
   "cell_type": "code",
   "execution_count": 8,
   "metadata": {},
   "outputs": [],
   "source": [
    "def N_d(E, eta, epsilon, f):\n",
    "    \"\"\"\n",
    "    Returns the number of photons detected\n",
    "    \n",
    "    Inputs: E - energy of event [keV]\n",
    "            eta - gain of EL gap\n",
    "            epsilon - efficiencies, \n",
    "            f - fraction of light to planes (Solid angle fraction * Coverage)\n",
    "    \"\"\"\n",
    "    return N_i(E) * eta * epsilon * f"
   ]
  },
  {
   "cell_type": "code",
   "execution_count": 9,
   "metadata": {},
   "outputs": [],
   "source": [
    "def dN_dt(dE_dx, v_d, eta, epsilon, f_sipm):\n",
    "    \"\"\"\n",
    "    Returns the number of photons detected\n",
    "    \n",
    "    Inputs: dE_dx - energy deposition [keV/mm]\n",
    "            v_d - drift velocity [mm/us]\n",
    "            eta - gain of EL gap\n",
    "            epsilon - efficiencies, \n",
    "            f_sipm - fraction of light to center most SiPM\n",
    "    \"\"\"\n",
    "    return N_i(dE_dx) * v_d * eta * epsilon * f_sipm"
   ]
  },
  {
   "cell_type": "markdown",
   "metadata": {},
   "source": [
    "## NEXT Flex"
   ]
  },
  {
   "cell_type": "code",
   "execution_count": 10,
   "metadata": {},
   "outputs": [],
   "source": [
    "# Constants in all flex simulations \n",
    "epsilon_flex = .286\n",
    "r_TP_flex = 984./2. # mm\n",
    "d_EL_flex = 10. # mm\n",
    "d_A_flex = 15. # mm\n",
    "sipm_width = 2.\n",
    "v_drift_flex = 1. # mm/us\n",
    "P_flex = 15 # bar\n",
    "Efield_flex = 16. # kV/cm\n",
    "eta_flex = EL_yield(d_EL_flex, Efield_flex, P_flex) # photons/e\n",
    "eta_flex_old = EL_yield_old(d_EL_flex, Efield_flex, P_flex)\n",
    "C_pmts = 0.3 # need to check this\n",
    "d_active_flex = 1160. # mm"
   ]
  },
  {
   "cell_type": "code",
   "execution_count": 30,
   "metadata": {},
   "outputs": [
    {
     "data": {
      "text/plain": [
       "1857077.6255707769"
      ]
     },
     "execution_count": 30,
     "metadata": {},
     "output_type": "execute_result"
    }
   ],
   "source": [
    "N_i(E_kr) * eta_flex"
   ]
  },
  {
   "cell_type": "code",
   "execution_count": 11,
   "metadata": {},
   "outputs": [],
   "source": [
    "# Simulation specific constants are included in the dictionary for that simulation\n",
    "mcs = []\n",
    "mcs.append({\"size\":1.3, \"pitch\":1.3, 'C':1.0, 'name':'1.3mm SiPM, 1.3mm pitch', \"dir\":\"s1.3mmp1.3mm\"})\n",
    "mcs.append({\"size\":1.3, \"pitch\":7, 'C':0.12, 'name': '1.3mm SiPM, 7mm pitch',\"dir\": \"s1.3mmp7mm\"})\n",
    "mcs.append({\"size\":1.3, \"pitch\":15, 'C':0.06, 'name': '1.3mm SiPM, 15mm pitch',\"dir\": \"s1.3mmp15mm\"})\n",
    "\n",
    "mcs.append({\"size\":3, \"pitch\":3, 'C':1.0, 'name':'3mm SiPM, 3mm pitch', \"dir\":\"s3mmp3mm\"})\n",
    "mcs.append({\"size\":3, \"pitch\":7, 'C':0.32, 'name': '3mm SiPM, 7mm pitch',\"dir\": \"s3mmp7mm\"})\n",
    "mcs.append({\"size\":3, \"pitch\":15, 'C':0.07, 'name': '3mm SiPM, 15mm pitch', \"dir\": \"s3mmp15mm\"})\n",
    "\n",
    "mcs.append({\"size\":6, \"pitch\":6, 'C':1.0, 'name':'6mm SiPM, 6mm pitch', \"dir\":\"s6mmp6mm\"})\n",
    "mcs.append({\"size\":6, \"pitch\":15, 'C':0.28, 'name': '6mm SiPM, 15mm pitch', \"dir\": \"s6mmp15mm\"})"
   ]
  },
  {
   "cell_type": "code",
   "execution_count": 12,
   "metadata": {},
   "outputs": [
    {
     "name": "stdout",
     "output_type": "stream",
     "text": [
      "1.3mm SiPM, 1.3mm pitch\n",
      "   Photons at TP = 906841.08806545\n",
      "1.3mm SiPM, 7mm pitch\n",
      "   Photons at TP = 108820.930567854\n",
      "1.3mm SiPM, 15mm pitch\n",
      "   Photons at TP = 54410.465283927\n",
      "3mm SiPM, 3mm pitch\n",
      "   Photons at TP = 906841.08806545\n",
      "3mm SiPM, 7mm pitch\n",
      "   Photons at TP = 290189.148180944\n",
      "3mm SiPM, 15mm pitch\n",
      "   Photons at TP = 63478.8761645815\n",
      "6mm SiPM, 6mm pitch\n",
      "   Photons at TP = 906841.08806545\n",
      "6mm SiPM, 15mm pitch\n",
      "   Photons at TP = 253915.504658326\n"
     ]
    }
   ],
   "source": [
    "for mc in mcs:\n",
    "    print(mc['name'])\n",
    "    print('   Photons at TP = '+str(N_i(E_kr) * eta_flex * SAF_Plane(r_TP_flex, d_EL_flex, d_A_flex-sipm_width) * mc['C']))"
   ]
  },
  {
   "cell_type": "code",
   "execution_count": 13,
   "metadata": {},
   "outputs": [
    {
     "name": "stdout",
     "output_type": "stream",
     "text": [
      "-------------------------\n",
      "NEXT Flex\n",
      "SiPM Solid angle fractions\n",
      "-------------------------\n",
      "1.3mm SiPM: \n",
      "   f_SiPM range = 0.0002540238489818502-0.000793791062608091\n",
      "   f_SiPM(approx) = 0.0002542267049388499\n",
      "   f_SiPM / f_SiPM(approx) = 0.9992020666867059\n",
      "-------------------------\n",
      "3mm SiPM: \n",
      "   f_SiPM range = 0.0013481400189891217-0.004182294021107423\n",
      "   f_SiPM(approx) = 0.0013538700263015673\n",
      "   f_SiPM / f_SiPM(approx) = 0.9957676828638429\n",
      "-------------------------\n",
      "6mm SiPM: \n",
      "   f_SiPM range = 0.005325134961943662-0.016101185498196478\n",
      "   f_SiPM(approx) = 0.005415480105206269\n",
      "   f_SiPM / f_SiPM(approx) = 0.9833172421452067\n",
      "-------------------------\n"
     ]
    }
   ],
   "source": [
    "print('-------------------------')\n",
    "print('NEXT Flex')\n",
    "print('SiPM Solid angle fractions')\n",
    "mcs_bysize = [mcs[i] for i in [0,3,6]]\n",
    "for mc in mcs_bysize:\n",
    "    f_sipm_min = SAF_square(mc['size'], d_EL_flex + d_A_flex-sipm_width)\n",
    "    f_sipm_max = SAF_square(mc['size'], d_A_flex-sipm_width)\n",
    "    f_sipm_approx = SAF_square_approx(mc['size'], d_EL_flex + d_A_flex-sipm_width)\n",
    "    print('-------------------------')\n",
    "    print(str(mc['size'])+'mm SiPM: ')\n",
    "    print('   f_SiPM range = '+str(f_sipm_min)+'-'+str(f_sipm_max))\n",
    "    print('   f_SiPM(approx) = '+str(f_sipm_approx))\n",
    "    print('   f_SiPM / f_SiPM(approx) = '+str(f_sipm_min / f_sipm_approx))\n",
    "print('-------------------------')"
   ]
  },
  {
   "cell_type": "code",
   "execution_count": 14,
   "metadata": {},
   "outputs": [
    {
     "name": "stdout",
     "output_type": "stream",
     "text": [
      "-------------------------\n",
      "NEXT Flex\n",
      "dE/dx for new and old ELyields\n",
      "New ELyield = 980.0000000000002\n",
      "Old ELyiled = 450.99999999999994\n",
      "Ratio = 0.4602040816326529\n",
      "-------------------------\n",
      "1.3mm SiPM, 1.3mm pitch\n",
      "  Old ELyield:\n",
      "    N_d(Qbb) = 6902570\n",
      "    N_d(Kr) = 119356\n",
      "    dN_dt(Qbb, blob) = 61\n",
      "  New ELyield:\n",
      "    N_d(Qbb) = 14998933\n",
      "    N_d(Kr) = 259356\n",
      "    dN_dt(Qbb, blob) = 134\n",
      "  Ratios\n",
      "    N_d(Qbb,old)/N_d(Qbb, new) = 0.460204081632653\n",
      "    N_d(kr, old)/N_d(kr, new) = 0.46020408163265286\n",
      "    dN_dt(qbb, blob, old)/new = 0.4602040816326529\n",
      "-------------------------\n",
      "1.3mm SiPM, 7mm pitch\n",
      "  Old ELyield:\n",
      "    N_d(Qbb) = 828308\n",
      "    N_d(Kr) = 14322\n",
      "    dN_dt(Qbb, blob) = 61\n",
      "  New ELyield:\n",
      "    N_d(Qbb) = 1799871\n",
      "    N_d(Kr) = 31122\n",
      "    dN_dt(Qbb, blob) = 134\n",
      "  Ratios\n",
      "    N_d(Qbb,old)/N_d(Qbb, new) = 0.460204081632653\n",
      "    N_d(kr, old)/N_d(kr, new) = 0.46020408163265286\n",
      "    dN_dt(qbb, blob, old)/new = 0.4602040816326529\n",
      "-------------------------\n",
      "1.3mm SiPM, 15mm pitch\n",
      "  Old ELyield:\n",
      "    N_d(Qbb) = 414154\n",
      "    N_d(Kr) = 7161\n",
      "    dN_dt(Qbb, blob) = 61\n",
      "  New ELyield:\n",
      "    N_d(Qbb) = 899935\n",
      "    N_d(Kr) = 15561\n",
      "    dN_dt(Qbb, blob) = 134\n",
      "  Ratios\n",
      "    N_d(Qbb,old)/N_d(Qbb, new) = 0.460204081632653\n",
      "    N_d(kr, old)/N_d(kr, new) = 0.46020408163265286\n",
      "    dN_dt(qbb, blob, old)/new = 0.4602040816326529\n",
      "-------------------------\n",
      "3mm SiPM, 3mm pitch\n",
      "  Old ELyield:\n",
      "    N_d(Qbb) = 6902570\n",
      "    N_d(Kr) = 119356\n",
      "    dN_dt(Qbb, blob) = 326\n",
      "  New ELyield:\n",
      "    N_d(Qbb) = 14998933\n",
      "    N_d(Kr) = 259356\n",
      "    dN_dt(Qbb, blob) = 709\n",
      "  Ratios\n",
      "    N_d(Qbb,old)/N_d(Qbb, new) = 0.460204081632653\n",
      "    N_d(kr, old)/N_d(kr, new) = 0.46020408163265286\n",
      "    dN_dt(qbb, blob, old)/new = 0.4602040816326529\n",
      "-------------------------\n",
      "3mm SiPM, 7mm pitch\n",
      "  Old ELyield:\n",
      "    N_d(Qbb) = 2208822\n",
      "    N_d(Kr) = 38194\n",
      "    dN_dt(Qbb, blob) = 326\n",
      "  New ELyield:\n",
      "    N_d(Qbb) = 4799658\n",
      "    N_d(Kr) = 82994\n",
      "    dN_dt(Qbb, blob) = 709\n",
      "  Ratios\n",
      "    N_d(Qbb,old)/N_d(Qbb, new) = 0.46020408163265286\n",
      "    N_d(kr, old)/N_d(kr, new) = 0.4602040816326529\n",
      "    dN_dt(qbb, blob, old)/new = 0.4602040816326529\n",
      "-------------------------\n",
      "3mm SiPM, 15mm pitch\n",
      "  Old ELyield:\n",
      "    N_d(Qbb) = 483179\n",
      "    N_d(Kr) = 8354\n",
      "    dN_dt(Qbb, blob) = 326\n",
      "  New ELyield:\n",
      "    N_d(Qbb) = 1049925\n",
      "    N_d(Kr) = 18154\n",
      "    dN_dt(Qbb, blob) = 709\n",
      "  Ratios\n",
      "    N_d(Qbb,old)/N_d(Qbb, new) = 0.4602040816326529\n",
      "    N_d(kr, old)/N_d(kr, new) = 0.46020408163265286\n",
      "    dN_dt(qbb, blob, old)/new = 0.4602040816326529\n",
      "-------------------------\n",
      "6mm SiPM, 6mm pitch\n",
      "  Old ELyield:\n",
      "    N_d(Qbb) = 6902570\n",
      "    N_d(Kr) = 119356\n",
      "    dN_dt(Qbb, blob) = 1273\n",
      "  New ELyield:\n",
      "    N_d(Qbb) = 14998933\n",
      "    N_d(Kr) = 259356\n",
      "    dN_dt(Qbb, blob) = 2767\n",
      "  Ratios\n",
      "    N_d(Qbb,old)/N_d(Qbb, new) = 0.460204081632653\n",
      "    N_d(kr, old)/N_d(kr, new) = 0.46020408163265286\n",
      "    dN_dt(qbb, blob, old)/new = 0.4602040816326529\n",
      "-------------------------\n",
      "6mm SiPM, 15mm pitch\n",
      "  Old ELyield:\n",
      "    N_d(Qbb) = 1932719\n",
      "    N_d(Kr) = 33419\n",
      "    dN_dt(Qbb, blob) = 1273\n",
      "  New ELyield:\n",
      "    N_d(Qbb) = 4199701\n",
      "    N_d(Kr) = 72619\n",
      "    dN_dt(Qbb, blob) = 2767\n",
      "  Ratios\n",
      "    N_d(Qbb,old)/N_d(Qbb, new) = 0.4602040816326529\n",
      "    N_d(kr, old)/N_d(kr, new) = 0.46020408163265286\n",
      "    dN_dt(qbb, blob, old)/new = 0.4602040816326529\n",
      "-------------------------\n"
     ]
    }
   ],
   "source": [
    "print('-------------------------')\n",
    "print('NEXT Flex')\n",
    "print('dE/dx for new and old ELyields')\n",
    "print('New ELyield = '+str(eta_flex))\n",
    "print('Old ELyiled = '+str(eta_flex_old))\n",
    "print('Ratio = '+str(eta_flex_old/eta_flex))\n",
    "for mc in mcs:\n",
    "    f_flex = SAF_Plane(r_TP_flex, d_EL_flex, d_A_flex-sipm_width) * mc['C']\n",
    "    f_sipm = SAF_SiPM(mc['size'], d_EL_flex, d_A_flex-sipm_width)\n",
    "    \n",
    "    print('-------------------------')\n",
    "    print(mc['name'])\n",
    "    print('  Old ELyield:')\n",
    "    print('    N_d(Qbb) = '+str(int(N_d(E_qbb, eta_flex_old, epsilon_flex, f_flex))))\n",
    "    print('    N_d(Kr) = '+str(int(N_d(E_kr, eta_flex_old, epsilon_flex, f_flex))))\n",
    "    print('    dN_dt(Qbb, blob) = '+str(int(dN_dt(dEdx_qbb_blob, v_drift_flex, eta_flex_old, epsilon_flex, f_sipm))))\n",
    "    print('  New ELyield:')\n",
    "    print('    N_d(Qbb) = '+str(int(N_d(E_qbb, eta_flex, epsilon_flex, f_flex))))\n",
    "    print('    N_d(Kr) = '+str(int(N_d(E_kr, eta_flex, epsilon_flex, f_flex))))\n",
    "    print('    dN_dt(Qbb, blob) = '+str(int(dN_dt(dEdx_qbb_blob, v_drift_flex, eta_flex, epsilon_flex, f_sipm))))\n",
    "    print('  Ratios')\n",
    "    print('    N_d(Qbb,old)/N_d(Qbb, new) = '+str(N_d(E_qbb, eta_flex_old, epsilon_flex, f_flex) / N_d(E_qbb, eta_flex, epsilon_flex, f_flex)))\n",
    "    print('    N_d(kr, old)/N_d(kr, new) = '+str(N_d(E_kr, eta_flex_old, epsilon_flex, f_flex) / N_d(E_kr, eta_flex, epsilon_flex, f_flex)))\n",
    "    print('    dN_dt(qbb, blob, old)/new = '+str(dN_dt(dEdx_qbb_blob, v_drift_flex, eta_flex_old, epsilon_flex, f_sipm) / dN_dt(dEdx_qbb_blob, v_drift_flex, eta_flex, epsilon_flex, f_sipm)))\n",
    "print('-------------------------')"
   ]
  },
  {
   "cell_type": "code",
   "execution_count": 15,
   "metadata": {},
   "outputs": [
    {
     "data": {
      "text/plain": [
       "30384.431526744986"
      ]
     },
     "execution_count": 15,
     "metadata": {},
     "output_type": "execute_result"
    }
   ],
   "source": [
    "f_ep = SAF_Plane(r_TP_flex, d_active_flex, 0)\n",
    "dN_dt(dEdx_qbb_blob, v_drift_flex, eta_flex, epsilon_flex, f_ep)"
   ]
  },
  {
   "cell_type": "code",
   "execution_count": 16,
   "metadata": {},
   "outputs": [
    {
     "name": "stdout",
     "output_type": "stream",
     "text": [
      "-------------------------\n",
      "NEXT Flex SiPMs\n",
      "-------------------------\n",
      "1.3mm SiPM, 1.3mm pitch: \n",
      "   N_d(Qbb) = 14998933\n",
      "   N_d(Kr) = 259356\n",
      "      N_EL = 1857077.6255707769\n",
      "   dN_dt(Qbb, blob) = 134\n",
      "   dN_dt(Qbb, track) = 46\n",
      "-------------------------\n",
      "1.3mm SiPM, 7mm pitch: \n",
      "   N_d(Qbb) = 1799871\n",
      "   N_d(Kr) = 31122\n",
      "      N_EL = 1857077.6255707769\n",
      "   dN_dt(Qbb, blob) = 134\n",
      "   dN_dt(Qbb, track) = 46\n",
      "-------------------------\n",
      "1.3mm SiPM, 15mm pitch: \n",
      "   N_d(Qbb) = 899935\n",
      "   N_d(Kr) = 15561\n",
      "      N_EL = 1857077.6255707769\n",
      "   dN_dt(Qbb, blob) = 134\n",
      "   dN_dt(Qbb, track) = 46\n",
      "-------------------------\n",
      "3mm SiPM, 3mm pitch: \n",
      "   N_d(Qbb) = 14998933\n",
      "   N_d(Kr) = 259356\n",
      "      N_EL = 1857077.6255707769\n",
      "   dN_dt(Qbb, blob) = 709\n",
      "   dN_dt(Qbb, track) = 248\n",
      "-------------------------\n",
      "3mm SiPM, 7mm pitch: \n",
      "   N_d(Qbb) = 4799658\n",
      "   N_d(Kr) = 82994\n",
      "      N_EL = 1857077.6255707769\n",
      "   dN_dt(Qbb, blob) = 709\n",
      "   dN_dt(Qbb, track) = 248\n",
      "-------------------------\n",
      "3mm SiPM, 15mm pitch: \n",
      "   N_d(Qbb) = 1049925\n",
      "   N_d(Kr) = 18154\n",
      "      N_EL = 1857077.6255707769\n",
      "   dN_dt(Qbb, blob) = 709\n",
      "   dN_dt(Qbb, track) = 248\n",
      "-------------------------\n",
      "6mm SiPM, 6mm pitch: \n",
      "   N_d(Qbb) = 14998933\n",
      "   N_d(Kr) = 259356\n",
      "      N_EL = 1857077.6255707769\n",
      "   dN_dt(Qbb, blob) = 2767\n",
      "   dN_dt(Qbb, track) = 968\n",
      "-------------------------\n",
      "6mm SiPM, 15mm pitch: \n",
      "   N_d(Qbb) = 4199701\n",
      "   N_d(Kr) = 72619\n",
      "      N_EL = 1857077.6255707769\n",
      "   dN_dt(Qbb, blob) = 2767\n",
      "   dN_dt(Qbb, track) = 968\n",
      "-------------------------\n"
     ]
    }
   ],
   "source": [
    "print('-------------------------')\n",
    "print('NEXT Flex SiPMs')\n",
    "for mc in mcs:\n",
    "    f_flex = SAF_Plane(r_TP_flex, d_EL_flex, d_A_flex-sipm_width) * mc['C']\n",
    "    f_sipm = SAF_SiPM(mc['size'], d_EL_flex, d_A_flex-sipm_width)\n",
    "    print('-------------------------')\n",
    "    print(mc['name']+': ')\n",
    "    print('   N_d(Qbb) = '+str(int(N_d(E_qbb, eta_flex, epsilon_flex, f_flex))))\n",
    "    print('   N_d(Kr) = '+str(int(N_d(E_kr, eta_flex, epsilon_flex, f_flex))))\n",
    "    print('      N_EL = ' + str(N_i(E_kr) * eta_flex))\n",
    "    print('   dN_dt(Qbb, blob) = '+str(int(dN_dt(dEdx_qbb_blob, v_drift_flex, eta_flex, epsilon_flex, f_sipm))))\n",
    "    print('   dN_dt(Qbb, track) = '+str(int(dN_dt(dEdx_qbb_track, v_drift_flex, eta_flex, epsilon_flex, f_sipm))))\n",
    "print('-------------------------')"
   ]
  },
  {
   "cell_type": "code",
   "execution_count": 17,
   "metadata": {},
   "outputs": [
    {
     "name": "stdout",
     "output_type": "stream",
     "text": [
      "-------------------------\n",
      "NEXT Flex PMTs\n",
      "-------------------------\n",
      "1.3mm SiPM, 1.3mm pitch: \n",
      "   N_d(Qbb) = 3724425\n",
      "   N_d(Kr) = 64401\n",
      "-------------------------\n",
      "1.3mm SiPM, 7mm pitch: \n",
      "   N_d(Qbb) = 3724425\n",
      "   N_d(Kr) = 64401\n",
      "-------------------------\n",
      "1.3mm SiPM, 15mm pitch: \n",
      "   N_d(Qbb) = 3724425\n",
      "   N_d(Kr) = 64401\n",
      "-------------------------\n",
      "3mm SiPM, 3mm pitch: \n",
      "   N_d(Qbb) = 3724425\n",
      "   N_d(Kr) = 64401\n",
      "-------------------------\n",
      "3mm SiPM, 7mm pitch: \n",
      "   N_d(Qbb) = 3724425\n",
      "   N_d(Kr) = 64401\n",
      "-------------------------\n",
      "3mm SiPM, 15mm pitch: \n",
      "   N_d(Qbb) = 3724425\n",
      "   N_d(Kr) = 64401\n",
      "-------------------------\n",
      "6mm SiPM, 6mm pitch: \n",
      "   N_d(Qbb) = 3724425\n",
      "   N_d(Kr) = 64401\n",
      "-------------------------\n",
      "6mm SiPM, 15mm pitch: \n",
      "   N_d(Qbb) = 3724425\n",
      "   N_d(Kr) = 64401\n",
      "-------------------------\n"
     ]
    }
   ],
   "source": [
    "print('-------------------------')\n",
    "print('NEXT Flex PMTs')\n",
    "for mc in mcs:\n",
    "    f_flex = SAF_Plane(r_TP_flex, d_EL_flex+d_active_flex, d_A_flex-sipm_width) * C_pmts\n",
    "    print('-------------------------')\n",
    "    print(mc['name']+': ')\n",
    "    print('   N_d(Qbb) = '+str(int(N_d(E_qbb, eta_flex, 1.0, f_flex))))\n",
    "    print('   N_d(Kr) = '+str(int(N_d(E_kr, eta_flex, 1.0, f_flex))))\n",
    "print('-------------------------')"
   ]
  },
  {
   "cell_type": "markdown",
   "metadata": {},
   "source": [
    "## DEMO"
   ]
  },
  {
   "cell_type": "code",
   "execution_count": 18,
   "metadata": {},
   "outputs": [
    {
     "name": "stdout",
     "output_type": "stream",
     "text": [
      "N_d(Qbb) = 41275\n",
      "N_d(kr) = 713\n"
     ]
    }
   ],
   "source": [
    "# Constants in demo\n",
    "eta_demo = 1100\n",
    "epsilon_demo = .22 * .88 # effective detection efficiency * anode transparaency \n",
    "r_TP_demo = 300./2. # mm\n",
    "d_EL_demo = 5. # mm\n",
    "d_A_demo = 2. # mm\n",
    "s_demo = 1. # mm\n",
    "N_sipms_demo = 256\n",
    "C_demo = Coverage(r_TP_demo, s_demo, N_sipms_demo)\n",
    "f_demo = SAF_Plane(r_TP_demo, d_EL_demo, d_A_demo) * C_demo\n",
    "f_sipm_demo = SAF_SiPM(s_demo, d_EL_demo, d_A_demo, 0)\n",
    "v_drift_demo = 1.0\n",
    "\n",
    "print('N_d(Qbb) = '+str(int(N_d(E_qbb, eta_demo, epsilon_demo, f_demo))))\n",
    "print('N_d(kr) = '+str(int(N_d(E_kr, eta_demo, epsilon_demo, f_demo))))"
   ]
  },
  {
   "cell_type": "code",
   "execution_count": 19,
   "metadata": {},
   "outputs": [
    {
     "name": "stdout",
     "output_type": "stream",
     "text": [
      "f_SiPM range = 0.001615793163416564-0.01873492601907721\n",
      "f_SiPM(approx) = 0.0016240300315499526\n",
      "f_SiPM / f_SiPM(approx) = 0.9949281306543775\n",
      "f_SiPM_max / f_SiPM_min = 11.594878876367174\n",
      "f_SiPM_mean / f_SiPM_min = 2.4024882595381882\n"
     ]
    }
   ],
   "source": [
    "f_sipm_min = SAF_square(s_demo, d_EL_demo + d_A_demo)\n",
    "f_sipm_max = SAF_square(s_demo, d_A_demo)\n",
    "f_sipm_approx = SAF_square_approx(s_demo, d_EL_demo + d_A_demo)\n",
    "print('f_SiPM range = '+str(f_sipm_min)+'-'+str(f_sipm_max))\n",
    "print('f_SiPM(approx) = '+str(f_sipm_approx))\n",
    "print('f_SiPM / f_SiPM(approx) = '+str(f_sipm_min / f_sipm_approx))\n",
    "print('f_SiPM_max / f_SiPM_min = '+str(f_sipm_max/f_sipm_min))\n",
    "print('f_SiPM_mean / f_SiPM_min = '+str(f_sipm_demo/f_sipm_min))"
   ]
  },
  {
   "cell_type": "code",
   "execution_count": 20,
   "metadata": {},
   "outputs": [
    {
     "name": "stdout",
     "output_type": "stream",
     "text": [
      "-------------------------\n",
      "DEMO SiPMs\n",
      "   N_d(Qbb) = 41275\n",
      "   N_d(Kr) = 713\n",
      "   dN_dt(Qbb, blob) = 754\n",
      "   dN_dt(Qbb, track) = 264\n",
      "   dN_dt(Qbb, track, approx like Javi) = 110\n",
      "-------------------------\n"
     ]
    }
   ],
   "source": [
    "print('-------------------------')\n",
    "print('DEMO SiPMs')\n",
    "print('   N_d(Qbb) = '+str(int(N_d(E_qbb, eta_demo, epsilon_demo, f_demo))))\n",
    "print('   N_d(Kr) = '+str(int(N_d(E_kr, eta_demo, epsilon_demo, f_demo))))\n",
    "print('   dN_dt(Qbb, blob) = '+str(int(dN_dt(dEdx_qbb_blob, v_drift_demo, eta_demo, epsilon_demo, f_sipm_demo))))\n",
    "print('   dN_dt(Qbb, track) = '+str(int(dN_dt(dEdx_qbb_track, v_drift_demo, eta_demo, epsilon_demo, f_sipm_demo))))\n",
    "print('   dN_dt(Qbb, track, approx like Javi) = '+str(int(dN_dt(dEdx_qbb_track, v_drift_demo, eta_demo, epsilon_demo, SAF_square_approx(s_demo, d_EL_demo+d_A_demo)))))\n",
    "print('-------------------------')"
   ]
  },
  {
   "cell_type": "code",
   "execution_count": 21,
   "metadata": {},
   "outputs": [
    {
     "name": "stdout",
     "output_type": "stream",
     "text": [
      "-------------------------\n",
      "DEMO PMTs\n",
      "   N_d(Qbb) = 213199\n",
      "   N_d(Kr) = 3686\n",
      "-------------------------\n"
     ]
    }
   ],
   "source": [
    "print('-------------------------')\n",
    "print('DEMO PMTs')\n",
    "print('   N_d(Qbb) = '+str(int(N_d(E_qbb, eta_demo, 1.0, f_demo))))\n",
    "print('   N_d(Kr) = '+str(int(N_d(E_kr, eta_demo, 1.0, f_demo))))\n",
    "print('-------------------------')"
   ]
  },
  {
   "cell_type": "markdown",
   "metadata": {},
   "source": [
    "## NEW\n",
    "\n",
    "SiPMs see about 22,000 pes total for a kr event. This was done roughly with run 7470, not cuts."
   ]
  },
  {
   "cell_type": "code",
   "execution_count": 22,
   "metadata": {
    "scrolled": true
   },
   "outputs": [],
   "source": [
    "# Constants in demo\n",
    "P_new = 10. # bar \n",
    "Efield_new = 17. # kV/cm\n",
    "epsilon_new = .07 # should edit this somehow\n",
    "r_TP_new = 454./2. # mm\n",
    "d_EL_new = 10. # mm\n",
    "d_A_new = 2. # mm # to fix\n",
    "eta_new = EL_yield(d_EL_new, Efield_new, P_new)\n",
    "s_new = 1.3 # mm\n",
    "N_sipms_new = 1792\n",
    "C_new = Coverage(r_TP_new, s_new, N_sipms_new)\n",
    "f_new = SAF_Plane(r_TP_new, d_EL_new, d_A_new) * C_new\n",
    "f_sipm_new = SAF_SiPM(s_new, d_EL_new, d_A_new)\n",
    "v_drift_new = 1. # mm/us\n",
    "d_drift_new = 664.5 # mm\n",
    "\n",
    "N_d_data = 22000 # roughly average total signal in SiPMs from kr events in NEW in run 7470\n",
    "eff_new = N_d_data / (N_i(E_kr, W_i=21.9) * eta_new * f_new)"
   ]
  },
  {
   "cell_type": "code",
   "execution_count": 23,
   "metadata": {},
   "outputs": [
    {
     "data": {
      "text/plain": [
       "0.7369006431635879"
      ]
     },
     "execution_count": 23,
     "metadata": {},
     "output_type": "execute_result"
    }
   ],
   "source": [
    "eff_new"
   ]
  },
  {
   "cell_type": "code",
   "execution_count": 24,
   "metadata": {},
   "outputs": [
    {
     "name": "stdout",
     "output_type": "stream",
     "text": [
      "-------------------------\n",
      "NEW SiPMs\n",
      "   N_d(Qbb) = 120857\n",
      "   N_d(Kr) = 2089\n",
      "   dN_dt(Qbb, blob) = 1195\n",
      "-------------------------\n"
     ]
    }
   ],
   "source": [
    "print('-------------------------')\n",
    "print('NEW SiPMs')\n",
    "print('   N_d(Qbb) = '+str(int(N_d(E_qbb, eta_new, epsilon_new, f_new))))\n",
    "print('   N_d(Kr) = '+str(int(N_d(E_kr, eta_new, epsilon_new, f_new))))\n",
    "print('   dN_dt(Qbb, blob) = '+str(int(dN_dt(dEdx_qbb_blob, v_drift_new, eta_new, epsilon_new, f_sipm))))\n",
    "print('-------------------------')"
   ]
  },
  {
   "cell_type": "code",
   "execution_count": 25,
   "metadata": {},
   "outputs": [
    {
     "name": "stdout",
     "output_type": "stream",
     "text": [
      "-------------------------\n",
      "NEW PMTs\n",
      "   N_d(Qbb) = 1726540\n",
      "   N_d(Kr) = 29854\n",
      "-------------------------\n"
     ]
    }
   ],
   "source": [
    "print('-------------------------')\n",
    "print('NEW PMTs')\n",
    "print('   N_d(Qbb) = '+str(int(N_d(E_qbb, eta_new, 1.0, f_new))))\n",
    "print('   N_d(Kr) = '+str(int(N_d(E_kr, eta_new, 1.0, f_new))))\n",
    "print('-------------------------')"
   ]
  },
  {
   "cell_type": "code",
   "execution_count": 26,
   "metadata": {},
   "outputs": [],
   "source": [
    "import matplotlib.pyplot as plt"
   ]
  },
  {
   "cell_type": "code",
   "execution_count": 27,
   "metadata": {},
   "outputs": [],
   "source": [
    "# Testing eres stuff\n",
    "names = ['s12mmp15', 's13mmp7mm','s3mmp15mm', 's6mmp15mm', 's3mmp7mm', 's3mmp3mm','s6mmp6mm']\n",
    "coverages = [0.73514, 3.3930, 3.914965, 15.65986, 18.0694, 98.37593, 98.394868]\n",
    "coverages = [1., 3., 5., 18., 20., 99., 100.]\n",
    "nt_fwhm = [471.68,1541.88,2033.38,7321.10,8175.60, 44389.90, 49565.82]\n",
    "nt_mean = [120187.23,553314.64,793155.23,3512105.58,3662840.31,20399213.63,22473237.79]"
   ]
  },
  {
   "cell_type": "code",
   "execution_count": 28,
   "metadata": {},
   "outputs": [
    {
     "data": {
      "text/plain": [
       "[<matplotlib.lines.Line2D at 0x7fc262fc4310>]"
      ]
     },
     "execution_count": 28,
     "metadata": {},
     "output_type": "execute_result"
    },
    {
     "data": {
      "image/png": "[encoded data removed]",
      "text/plain": [
       "<Figure size 432x288 with 1 Axes>"
      ]
     },
     "metadata": {
      "needs_background": "light"
     },
     "output_type": "display_data"
    }
   ],
   "source": [
    "plt.plot(coverages, nt_fwhm)"
   ]
  },
  {
   "cell_type": "code",
   "execution_count": null,
   "metadata": {},
   "outputs": [],
   "source": []
  },
  {
   "cell_type": "code",
   "execution_count": null,
   "metadata": {},
   "outputs": [],
   "source": []
  },
  {
   "cell_type": "code",
   "execution_count": null,
   "metadata": {},
   "outputs": [],
   "source": []
  }
 ],
 "metadata": {
  "kernelspec": {
   "display_name": "Python 3",
   "language": "python",
   "name": "python3"
  },
  "language_info": {
   "codemirror_mode": {
    "name": "ipython",
    "version": 3
   },
   "file_extension": ".py",
   "mimetype": "text/x-python",
   "name": "python",
   "nbconvert_exporter": "python",
   "pygments_lexer": "ipython3",
   "version": "3.7.9"
  }
 },
 "nbformat": 4,
 "nbformat_minor": 4
}
