{
 "cells": [
  {
   "cell_type": "markdown",
   "metadata": {},
   "source": [
    "# Photon Number Estimates\n",
    "\n",
    "### This notebook calculates the estimated signal of Next-like detectors "
   ]
  },
  {
   "cell_type": "code",
   "execution_count": 1,
   "metadata": {},
   "outputs": [],
   "source": [
    "import numpy as np\n",
    "import matplotlib.pyplot as plt\n",
    "\n",
    "# Constants in all cases\n",
    "E_qbb = 2400. # keV\n",
    "E_kr = 41.5 # keV\n",
    "dEdx_qbb_blob = 20 # keV/cm\n",
    "dEdx_qbb_track = 7 # keV/cm\n",
    "dEdx_kr = 20 # no idea if this is true or not..."
   ]
  },
  {
   "cell_type": "code",
   "execution_count": 2,
   "metadata": {},
   "outputs": [],
   "source": [
    "def N_i(E, W_i=22.4):\n",
    "    \"\"\"\n",
    "    Returns number of ionization electrons released \n",
    "    in a material with an ionization energy of W_i\n",
    "    with an energy of E.\n",
    "    \n",
    "    Input: \n",
    "        E - energy in keV\n",
    "        W_i - ionization energy in eV, default to GXe\n",
    "    \"\"\"\n",
    "    return E*1000./W_i"
   ]
  },
  {
   "cell_type": "code",
   "execution_count": 3,
   "metadata": {},
   "outputs": [
    {
     "name": "stdout",
     "output_type": "stream",
     "text": [
      "N_i(Qbb) = 107142, N_i(kr) = 1852\n"
     ]
    }
   ],
   "source": [
    "print('N_i(Qbb) = '+str(int(N_i(E_qbb)))+', N_i(kr) = '+str(int(N_i(E_kr))))"
   ]
  },
  {
   "cell_type": "code",
   "execution_count": 4,
   "metadata": {},
   "outputs": [],
   "source": [
    "def SAF_Plane(r_TP, d_EL, d_A):\n",
    "    \"\"\"\n",
    "    Solid angle fraction of the circular plane a distance \n",
    "    d_EL+d_A from the source.\n",
    "    \n",
    "    Input: r_TP - radius of tracking plane [mm]\n",
    "           d_EL - length of EL gap [mm]\n",
    "           d_A - distance between anode and SiPMs [mm]\n",
    "    \"\"\"\n",
    "    return 2*np.pi * (1/(4*np.pi)) * (1 - ((d_EL+d_A)/2.)/(np.sqrt(r_TP**2. + ((d_EL+d_A)/2.)**2.)))"
   ]
  },
  {
   "cell_type": "code",
   "execution_count": 5,
   "metadata": {},
   "outputs": [],
   "source": [
    "def SAF_SiPM(s, d_EL, d_A, sipm_width=2.):\n",
    "    \"\"\"\n",
    "    Solid angle fraction of a SiPM on \n",
    "    the tracking plane.\n",
    "    Input: s - size of SiPM [mm]\n",
    "           d_EL - length of EL gap [mm]\n",
    "           d_A - distance between anode and SiPMs [mm]\n",
    "    \"\"\"\n",
    "    d = d_EL/2. + d_A - sipm_width\n",
    "    return SAF_square(s, d)\n",
    "\n",
    "def SAF_square(s, d):\n",
    "    \"\"\"\n",
    "    Solid angle fraction of square plane a distance\n",
    "    d from the source\n",
    "    Reference: https://vixra.org/pdf/2001.0603v1.pdf\n",
    "    \n",
    "    Input: s - size of SiPM [mm]\n",
    "           d - distance [mm]\n",
    "    \"\"\"\n",
    "    num = s**2.\n",
    "    denom = 4.*d**2. * np.sqrt(1. + 2.*s**2./(4.*d**2.))\n",
    "    return (1./np.pi) * np.arctan( num / denom)\n",
    "\n",
    "def SAF_square_approx(s, d):\n",
    "    \"\"\"\n",
    "    Solid angle fraction of square plane, approx for small s \n",
    "    a distance d from the source.\n",
    "    \n",
    "    Input: s - size of SiPM [mm]\n",
    "           d - distance from source [mm]\n",
    "    \"\"\"\n",
    "    return s**2. / (4*np.pi*d**2.)"
   ]
  },
  {
   "cell_type": "code",
   "execution_count": 6,
   "metadata": {},
   "outputs": [],
   "source": [
    "def Coverage(r_TP, s, N_sipms):\n",
    "    \"\"\"\n",
    "    Coverage of tracking plane\n",
    "    \n",
    "    Input: r_TP - radius of tracking plane [mm]\n",
    "           s - size of SiPM [mm]\n",
    "           N_sipms - number of SiPMs [mm]\n",
    "    \"\"\"\n",
    "    return s**2. * N_sipms / (np.pi * r_TP**2.)"
   ]
  },
  {
   "cell_type": "code",
   "execution_count": 7,
   "metadata": {},
   "outputs": [],
   "source": [
    "def EL_yield_old(d_EL, Efield, P):    \n",
    "    red_efield = Efield/(P)\n",
    "    red_ELyield = 151*red_efield-116\n",
    "    ELyield = red_ELyield*(d_EL/10.)*P\n",
    "    return ELyield\n",
    "\n",
    "def EL_yield(d_EL, Efield, P):\n",
    "    \"\"\"\n",
    "    Returns the EL yeild, the number of photons per ionization\n",
    "    electron crossing the EL gap.\n",
    "    Reference: E.D.C.Freitas 2010, 'Secondary scintillation \n",
    "        yield in high-pressure xenon gas for neutrinoless double \n",
    "        beta decay  search'\n",
    "        \n",
    "    Input: d_EL - length of EL gap [mm], \n",
    "           Efield - electric field [kV/cm]\n",
    "           P - pressure [bar]\n",
    "    \"\"\"\n",
    "    b = 116. # / (bar*cm)\n",
    "    a = 140. # / kV\n",
    "    if P >= 8.:\n",
    "        a = 170.\n",
    "    elif P >= 6.:\n",
    "        a = 161.\n",
    "    elif P >= 5.:\n",
    "        a = 151.\n",
    "    elif P >= 4.:\n",
    "        a = 142.\n",
    "    elif P >= 2.:\n",
    "        a = 141.\n",
    "        \n",
    "    ELyield = (a*Efield/P - b) * P*d_EL/10.\n",
    "    \n",
    "    return ELyield"
   ]
  },
  {
   "cell_type": "code",
   "execution_count": 8,
   "metadata": {},
   "outputs": [],
   "source": [
    "def N_d(E, eta, epsilon, f):\n",
    "    \"\"\"\n",
    "    Returns the number of photons detected\n",
    "    \n",
    "    Inputs: E - energy of event [keV]\n",
    "            eta - gain of EL gap\n",
    "            epsilon - efficiencies, \n",
    "            f - fraction of light to planes (Solid angle fraction * Coverage)\n",
    "    \"\"\"\n",
    "    return N_i(E) * eta * epsilon * f"
   ]
  },
  {
   "cell_type": "code",
   "execution_count": 9,
   "metadata": {},
   "outputs": [],
   "source": [
    "def dN_dt(dE_dx, v_d, eta, epsilon, f_sipm):\n",
    "    \"\"\"\n",
    "    Returns the number of photons detected\n",
    "    \n",
    "    Inputs: dE_dx - energy deposition [keV/mm]\n",
    "            v_d - drift velocity [mm/us]\n",
    "            eta - gain of EL gap\n",
    "            epsilon - efficiencies, \n",
    "            f_sipm - fraction of light to center most SiPM\n",
    "    \"\"\"\n",
    "    return N_i(dE_dx) * v_d * eta * epsilon * f_sipm"
   ]
  },
  {
   "cell_type": "markdown",
   "metadata": {},
   "source": [
    "## NEXT Flex"
   ]
  },
  {
   "cell_type": "code",
   "execution_count": 10,
   "metadata": {},
   "outputs": [],
   "source": [
    "# Constants in all flex simulations \n",
    "epsilon_flex = .286\n",
    "r_TP_flex = 984./2. # mm\n",
    "d_EL_flex = 10. # mm\n",
    "d_A_flex = 15. # mm\n",
    "sipm_width = 2.\n",
    "v_drift_flex = 1. # mm/us\n",
    "P_flex = 15 # bar\n",
    "Efield_flex = 16. # kV/cm\n",
    "eta_flex = EL_yield(d_EL_flex, Efield_flex, P_flex) # photons/e\n",
    "eta_flex_old = 500 #EL_yield_old(d_EL_flex, Efield_flex, P_flex)\n",
    "C_pmts = 0.3 # need to check this\n",
    "d_active_flex = 1160. # mm"
   ]
  },
  {
   "cell_type": "code",
   "execution_count": 11,
   "metadata": {},
   "outputs": [],
   "source": [
    "# Simulation specific constants are included in the dictionary for that simulation\n",
    "mcs = []\n",
    "mcs.append({\"size\":1.3, \"pitch\":1.3, 'C':1.0, 'name':'1.3mm SiPM, 1.3mm pitch', \"dir\":\"s1.3mmp1.3mm\"})\n",
    "mcs.append({\"size\":1.3, \"pitch\":7, 'C':0.034, 'name': '1.3mm SiPM, 7mm pitch',\"dir\": \"s1.3mmp7mm\"})\n",
    "mcs.append({\"size\":1.3, \"pitch\":15, 'C':0.007, 'name': '1.3mm SiPM, 15mm pitch',\"dir\": \"s1.3mmp15mm\"})\n",
    "\n",
    "mcs.append({\"size\":3, \"pitch\":3, 'C':1.0, 'name':'3mm SiPM, 3mm pitch', \"dir\":\"s3mmp3mm\"})\n",
    "mcs.append({\"size\":3, \"pitch\":7, 'C':0.32, 'name': '3mm SiPM, 7mm pitch',\"dir\": \"s3mmp7mm\"})\n",
    "mcs.append({\"size\":3, \"pitch\":15, 'C':0.07, 'name': '3mm SiPM, 15mm pitch', \"dir\": \"s3mmp15mm\"})\n",
    "\n",
    "mcs.append({\"size\":6, \"pitch\":6, 'C':1.0, 'name':'6mm SiPM, 6mm pitch', \"dir\":\"s6mmp6mm\"})\n",
    "mcs.append({\"size\":6, \"pitch\":15, 'C':0.28, 'name': '6mm SiPM, 15mm pitch', \"dir\": \"s6mmp15mm\"})"
   ]
  },
  {
   "cell_type": "code",
   "execution_count": 12,
   "metadata": {},
   "outputs": [
    {
     "name": "stdout",
     "output_type": "stream",
     "text": [
      "1.3mm SiPM, 1.3mm pitch\n",
      "   Photons at TP = 886599.0994925604\n",
      "1.3mm SiPM, 7mm pitch\n",
      "   Photons at TP = 30144.369382747056\n",
      "1.3mm SiPM, 15mm pitch\n",
      "   Photons at TP = 6206.193696447923\n",
      "3mm SiPM, 3mm pitch\n",
      "   Photons at TP = 886599.0994925604\n",
      "3mm SiPM, 7mm pitch\n",
      "   Photons at TP = 283711.7118376193\n",
      "3mm SiPM, 15mm pitch\n",
      "   Photons at TP = 62061.93696447923\n",
      "6mm SiPM, 6mm pitch\n",
      "   Photons at TP = 886599.0994925604\n",
      "6mm SiPM, 15mm pitch\n",
      "   Photons at TP = 248247.74785791693\n"
     ]
    }
   ],
   "source": [
    "for mc in mcs:\n",
    "    print(mc['name'])\n",
    "    print('   Photons at TP = '+str(N_i(E_kr) * eta_flex * SAF_Plane(r_TP_flex, d_EL_flex, d_A_flex-sipm_width) * mc['C']))"
   ]
  },
  {
   "cell_type": "code",
   "execution_count": 13,
   "metadata": {},
   "outputs": [
    {
     "name": "stdout",
     "output_type": "stream",
     "text": [
      "-------------------------\n",
      "NEXT Flex\n",
      "SiPM Solid angle fractions\n",
      "-------------------------\n",
      "1.3mm SiPM: \n",
      "   f_SiPM range = 0.0002540238489818502-0.000793791062608091\n",
      "   f_SiPM(approx) = 0.0002542267049388499\n",
      "   f_SiPM / f_SiPM(approx) = 0.9992020666867059\n",
      "-------------------------\n",
      "3mm SiPM: \n",
      "   f_SiPM range = 0.0013481400189891217-0.004182294021107423\n",
      "   f_SiPM(approx) = 0.0013538700263015673\n",
      "   f_SiPM / f_SiPM(approx) = 0.9957676828638429\n",
      "-------------------------\n",
      "6mm SiPM: \n",
      "   f_SiPM range = 0.005325134961943662-0.016101185498196478\n",
      "   f_SiPM(approx) = 0.005415480105206269\n",
      "   f_SiPM / f_SiPM(approx) = 0.9833172421452067\n",
      "-------------------------\n"
     ]
    }
   ],
   "source": [
    "print('-------------------------')\n",
    "print('NEXT Flex')\n",
    "print('SiPM Solid angle fractions')\n",
    "mcs_bysize = [mcs[i] for i in [0,3,6]]\n",
    "for mc in mcs_bysize:\n",
    "    f_sipm_min = SAF_square(mc['size'], d_EL_flex + d_A_flex-sipm_width)\n",
    "    f_sipm_max = SAF_square(mc['size'], d_A_flex-sipm_width)\n",
    "    f_sipm_approx = SAF_square_approx(mc['size'], d_EL_flex + d_A_flex-sipm_width)\n",
    "    print('-------------------------')\n",
    "    print(str(mc['size'])+'mm SiPM: ')\n",
    "    print('   f_SiPM range = '+str(f_sipm_min)+'-'+str(f_sipm_max))\n",
    "    print('   f_SiPM(approx) = '+str(f_sipm_approx))\n",
    "    print('   f_SiPM / f_SiPM(approx) = '+str(f_sipm_min / f_sipm_approx))\n",
    "print('-------------------------')"
   ]
  },
  {
   "cell_type": "code",
   "execution_count": 14,
   "metadata": {},
   "outputs": [
    {
     "name": "stdout",
     "output_type": "stream",
     "text": [
      "-------------------------\n",
      "NEXT Flex\n",
      "dE/dx for new and old ELyields\n",
      "New ELyield = 980.0000000000002\n",
      "Old ELyiled = 500\n",
      "Ratio = 0.510204081632653\n",
      "-------------------------\n",
      "1.3mm SiPM, 1.3mm pitch\n",
      "  Old ELyield:\n",
      "    N_d(Qbb) = 7481701\n",
      "    N_d(Kr) = 129371\n",
      "    dN_dt(Qbb, blob) = 66\n",
      "  New ELyield:\n",
      "    N_d(Qbb) = 14664135\n",
      "    N_d(Kr) = 253567\n",
      "    dN_dt(Qbb, blob) = 131\n",
      "  Ratios\n",
      "    N_d(Qbb,old)/N_d(Qbb, new) = 0.510204081632653\n",
      "    N_d(kr, old)/N_d(kr, new) = 0.5102040816326531\n",
      "    dN_dt(qbb, blob, old)/new = 0.510204081632653\n",
      "-------------------------\n",
      "1.3mm SiPM, 7mm pitch\n",
      "  Old ELyield:\n",
      "    N_d(Qbb) = 254377\n",
      "    N_d(Kr) = 4398\n",
      "    dN_dt(Qbb, blob) = 66\n",
      "  New ELyield:\n",
      "    N_d(Qbb) = 498580\n",
      "    N_d(Kr) = 8621\n",
      "    dN_dt(Qbb, blob) = 131\n",
      "  Ratios\n",
      "    N_d(Qbb,old)/N_d(Qbb, new) = 0.510204081632653\n",
      "    N_d(kr, old)/N_d(kr, new) = 0.510204081632653\n",
      "    dN_dt(qbb, blob, old)/new = 0.510204081632653\n",
      "-------------------------\n",
      "1.3mm SiPM, 15mm pitch\n",
      "  Old ELyield:\n",
      "    N_d(Qbb) = 52371\n",
      "    N_d(Kr) = 905\n",
      "    dN_dt(Qbb, blob) = 66\n",
      "  New ELyield:\n",
      "    N_d(Qbb) = 102648\n",
      "    N_d(Kr) = 1774\n",
      "    dN_dt(Qbb, blob) = 131\n",
      "  Ratios\n",
      "    N_d(Qbb,old)/N_d(Qbb, new) = 0.5102040816326529\n",
      "    N_d(kr, old)/N_d(kr, new) = 0.510204081632653\n",
      "    dN_dt(qbb, blob, old)/new = 0.510204081632653\n",
      "-------------------------\n",
      "3mm SiPM, 3mm pitch\n",
      "  Old ELyield:\n",
      "    N_d(Qbb) = 7481701\n",
      "    N_d(Kr) = 129371\n",
      "    dN_dt(Qbb, blob) = 354\n",
      "  New ELyield:\n",
      "    N_d(Qbb) = 14664135\n",
      "    N_d(Kr) = 253567\n",
      "    dN_dt(Qbb, blob) = 694\n",
      "  Ratios\n",
      "    N_d(Qbb,old)/N_d(Qbb, new) = 0.510204081632653\n",
      "    N_d(kr, old)/N_d(kr, new) = 0.5102040816326531\n",
      "    dN_dt(qbb, blob, old)/new = 0.510204081632653\n",
      "-------------------------\n",
      "3mm SiPM, 7mm pitch\n",
      "  Old ELyield:\n",
      "    N_d(Qbb) = 2394144\n",
      "    N_d(Kr) = 41398\n",
      "    dN_dt(Qbb, blob) = 354\n",
      "  New ELyield:\n",
      "    N_d(Qbb) = 4692523\n",
      "    N_d(Kr) = 81141\n",
      "    dN_dt(Qbb, blob) = 694\n",
      "  Ratios\n",
      "    N_d(Qbb,old)/N_d(Qbb, new) = 0.510204081632653\n",
      "    N_d(kr, old)/N_d(kr, new) = 0.5102040816326531\n",
      "    dN_dt(qbb, blob, old)/new = 0.510204081632653\n",
      "-------------------------\n",
      "3mm SiPM, 15mm pitch\n",
      "  Old ELyield:\n",
      "    N_d(Qbb) = 523719\n",
      "    N_d(Kr) = 9055\n",
      "    dN_dt(Qbb, blob) = 354\n",
      "  New ELyield:\n",
      "    N_d(Qbb) = 1026489\n",
      "    N_d(Kr) = 17749\n",
      "    dN_dt(Qbb, blob) = 694\n",
      "  Ratios\n",
      "    N_d(Qbb,old)/N_d(Qbb, new) = 0.510204081632653\n",
      "    N_d(kr, old)/N_d(kr, new) = 0.510204081632653\n",
      "    dN_dt(qbb, blob, old)/new = 0.510204081632653\n",
      "-------------------------\n",
      "6mm SiPM, 6mm pitch\n",
      "  Old ELyield:\n",
      "    N_d(Qbb) = 7481701\n",
      "    N_d(Kr) = 129371\n",
      "    dN_dt(Qbb, blob) = 1380\n",
      "  New ELyield:\n",
      "    N_d(Qbb) = 14664135\n",
      "    N_d(Kr) = 253567\n",
      "    dN_dt(Qbb, blob) = 2705\n",
      "  Ratios\n",
      "    N_d(Qbb,old)/N_d(Qbb, new) = 0.510204081632653\n",
      "    N_d(kr, old)/N_d(kr, new) = 0.5102040816326531\n",
      "    dN_dt(qbb, blob, old)/new = 0.510204081632653\n",
      "-------------------------\n",
      "6mm SiPM, 15mm pitch\n",
      "  Old ELyield:\n",
      "    N_d(Qbb) = 2094876\n",
      "    N_d(Kr) = 36223\n",
      "    dN_dt(Qbb, blob) = 1380\n",
      "  New ELyield:\n",
      "    N_d(Qbb) = 4105957\n",
      "    N_d(Kr) = 70998\n",
      "    dN_dt(Qbb, blob) = 2705\n",
      "  Ratios\n",
      "    N_d(Qbb,old)/N_d(Qbb, new) = 0.510204081632653\n",
      "    N_d(kr, old)/N_d(kr, new) = 0.510204081632653\n",
      "    dN_dt(qbb, blob, old)/new = 0.510204081632653\n",
      "-------------------------\n"
     ]
    }
   ],
   "source": [
    "print('-------------------------')\n",
    "print('NEXT Flex')\n",
    "print('dE/dx for new and old ELyields')\n",
    "print('New ELyield = '+str(eta_flex))\n",
    "print('Old ELyiled = '+str(eta_flex_old))\n",
    "print('Ratio = '+str(eta_flex_old/eta_flex))\n",
    "for mc in mcs:\n",
    "    f_flex = SAF_Plane(r_TP_flex, d_EL_flex, d_A_flex-sipm_width) * mc['C']\n",
    "    f_sipm = SAF_SiPM(mc['size'], d_EL_flex, d_A_flex-sipm_width)\n",
    "    \n",
    "    print('-------------------------')\n",
    "    print(mc['name'])\n",
    "    print('  Old ELyield:')\n",
    "    print('    N_d(Qbb) = '+str(int(N_d(E_qbb, eta_flex_old, epsilon_flex, f_flex))))\n",
    "    print('    N_d(Kr) = '+str(int(N_d(E_kr, eta_flex_old, epsilon_flex, f_flex))))\n",
    "    print('    dN_dt(Qbb, blob) = '+str(int(dN_dt(dEdx_qbb_blob, v_drift_flex, eta_flex_old, epsilon_flex, f_sipm))))\n",
    "    print('  New ELyield:')\n",
    "    print('    N_d(Qbb) = '+str(int(N_d(E_qbb, eta_flex, epsilon_flex, f_flex))))\n",
    "    print('    N_d(Kr) = '+str(int(N_d(E_kr, eta_flex, epsilon_flex, f_flex))))\n",
    "    print('    dN_dt(Qbb, blob) = '+str(int(dN_dt(dEdx_qbb_blob, v_drift_flex, eta_flex, epsilon_flex, f_sipm))))\n",
    "    print('  Ratios')\n",
    "    print('    N_d(Qbb,old)/N_d(Qbb, new) = '+str(N_d(E_qbb, eta_flex_old, epsilon_flex, f_flex) / N_d(E_qbb, eta_flex, epsilon_flex, f_flex)))\n",
    "    print('    N_d(kr, old)/N_d(kr, new) = '+str(N_d(E_kr, eta_flex_old, epsilon_flex, f_flex) / N_d(E_kr, eta_flex, epsilon_flex, f_flex)))\n",
    "    print('    dN_dt(qbb, blob, old)/new = '+str(dN_dt(dEdx_qbb_blob, v_drift_flex, eta_flex_old, epsilon_flex, f_sipm) / dN_dt(dEdx_qbb_blob, v_drift_flex, eta_flex, epsilon_flex, f_sipm)))\n",
    "print('-------------------------')"
   ]
  },
  {
   "cell_type": "code",
   "execution_count": 15,
   "metadata": {},
   "outputs": [
    {
     "data": {
      "text/plain": [
       "29706.207608737288"
      ]
     },
     "execution_count": 15,
     "metadata": {},
     "output_type": "execute_result"
    }
   ],
   "source": [
    "f_ep = SAF_Plane(r_TP_flex, d_active_flex, 0)\n",
    "dN_dt(dEdx_qbb_blob, v_drift_flex, eta_flex, epsilon_flex, f_ep)"
   ]
  },
  {
   "cell_type": "code",
   "execution_count": 16,
   "metadata": {},
   "outputs": [
    {
     "name": "stdout",
     "output_type": "stream",
     "text": [
      "-------------------------\n",
      "NEXT Flex SiPMs\n",
      "-------------------------\n",
      "1.3mm SiPM, 1.3mm pitch: \n",
      "   N_d(Qbb) = 14816648\n",
      "   N_d(Kr) = 256204\n",
      "   dN_dt(Qbb, blob) = 277\n",
      "   dN_dt(Qbb, track) = 97\n",
      "-------------------------\n",
      "1.3mm SiPM, 7mm pitch: \n",
      "   N_d(Qbb) = 503766\n",
      "   N_d(Kr) = 8710\n",
      "   dN_dt(Qbb, blob) = 277\n",
      "   dN_dt(Qbb, track) = 97\n",
      "-------------------------\n",
      "1.3mm SiPM, 15mm pitch: \n",
      "   N_d(Qbb) = 103716\n",
      "   N_d(Kr) = 1793\n",
      "   dN_dt(Qbb, blob) = 277\n",
      "   dN_dt(Qbb, track) = 97\n",
      "-------------------------\n",
      "3mm SiPM, 3mm pitch: \n",
      "   N_d(Qbb) = 14816648\n",
      "   N_d(Kr) = 256204\n",
      "   dN_dt(Qbb, blob) = 1454\n",
      "   dN_dt(Qbb, track) = 508\n",
      "-------------------------\n",
      "3mm SiPM, 7mm pitch: \n",
      "   N_d(Qbb) = 4741327\n",
      "   N_d(Kr) = 81985\n",
      "   dN_dt(Qbb, blob) = 1454\n",
      "   dN_dt(Qbb, track) = 508\n",
      "-------------------------\n",
      "3mm SiPM, 15mm pitch: \n",
      "   N_d(Qbb) = 1037165\n",
      "   N_d(Kr) = 17934\n",
      "   dN_dt(Qbb, blob) = 1454\n",
      "   dN_dt(Qbb, track) = 508\n",
      "-------------------------\n",
      "6mm SiPM, 6mm pitch: \n",
      "   N_d(Qbb) = 14816648\n",
      "   N_d(Kr) = 256204\n",
      "   dN_dt(Qbb, blob) = 5519\n",
      "   dN_dt(Qbb, track) = 1931\n",
      "-------------------------\n",
      "6mm SiPM, 15mm pitch: \n",
      "   N_d(Qbb) = 4148661\n",
      "   N_d(Kr) = 71737\n",
      "   dN_dt(Qbb, blob) = 5519\n",
      "   dN_dt(Qbb, track) = 1931\n",
      "-------------------------\n"
     ]
    }
   ],
   "source": [
    "print('-------------------------')\n",
    "print('NEXT Flex SiPMs')\n",
    "for mc in mcs:\n",
    "    f_flex = SAF_Plane(r_TP_flex, 0, d_A_flex-sipm_width) * mc['C']\n",
    "    f_sipm = SAF_SiPM(mc['size'], 0, d_A_flex-sipm_width)\n",
    "    print('-------------------------')\n",
    "    print(mc['name']+': ')\n",
    "    print('   N_d(Qbb) = '+str(int(N_d(E_qbb, eta_flex, epsilon_flex, f_flex))))\n",
    "    print('   N_d(Kr) = '+str(int(N_d(E_kr, eta_flex, epsilon_flex, f_flex))))\n",
    "    print('   dN_dt(Qbb, blob) = '+str(int(dN_dt(dEdx_qbb_blob, v_drift_flex, eta_flex, epsilon_flex, f_sipm))))\n",
    "    print('   dN_dt(Qbb, track) = '+str(int(dN_dt(dEdx_qbb_track, v_drift_flex, eta_flex, epsilon_flex, f_sipm))))\n",
    "print('-------------------------')"
   ]
  },
  {
   "cell_type": "code",
   "execution_count": 17,
   "metadata": {},
   "outputs": [
    {
     "name": "stdout",
     "output_type": "stream",
     "text": [
      "-------------------------\n",
      "NEXT Flex PMTs\n",
      "-------------------------\n",
      "1.3mm SiPM, 1.3mm pitch: \n",
      "   N_d(Qbb) = 3641291\n",
      "   N_d(Kr) = 62963\n",
      "-------------------------\n",
      "1.3mm SiPM, 7mm pitch: \n",
      "   N_d(Qbb) = 3641291\n",
      "   N_d(Kr) = 62963\n",
      "-------------------------\n",
      "1.3mm SiPM, 15mm pitch: \n",
      "   N_d(Qbb) = 3641291\n",
      "   N_d(Kr) = 62963\n",
      "-------------------------\n",
      "3mm SiPM, 3mm pitch: \n",
      "   N_d(Qbb) = 3641291\n",
      "   N_d(Kr) = 62963\n",
      "-------------------------\n",
      "3mm SiPM, 7mm pitch: \n",
      "   N_d(Qbb) = 3641291\n",
      "   N_d(Kr) = 62963\n",
      "-------------------------\n",
      "3mm SiPM, 15mm pitch: \n",
      "   N_d(Qbb) = 3641291\n",
      "   N_d(Kr) = 62963\n",
      "-------------------------\n",
      "6mm SiPM, 6mm pitch: \n",
      "   N_d(Qbb) = 3641291\n",
      "   N_d(Kr) = 62963\n",
      "-------------------------\n",
      "6mm SiPM, 15mm pitch: \n",
      "   N_d(Qbb) = 3641291\n",
      "   N_d(Kr) = 62963\n",
      "-------------------------\n"
     ]
    }
   ],
   "source": [
    "print('-------------------------')\n",
    "print('NEXT Flex PMTs')\n",
    "for mc in mcs:\n",
    "    f_flex = SAF_Plane(r_TP_flex, d_EL_flex+d_active_flex, d_A_flex-sipm_width) * C_pmts\n",
    "    print('-------------------------')\n",
    "    print(mc['name']+': ')\n",
    "    print('   N_d(Qbb) = '+str(int(N_d(E_qbb, eta_flex, 1.0, f_flex))))\n",
    "    print('   N_d(Kr) = '+str(int(N_d(E_kr, eta_flex, 1.0, f_flex))))\n",
    "print('-------------------------')"
   ]
  },
  {
   "cell_type": "markdown",
   "metadata": {},
   "source": [
    "## DEMO"
   ]
  },
  {
   "cell_type": "code",
   "execution_count": null,
   "metadata": {},
   "outputs": [],
   "source": [
    "# Constants in demo\n",
    "eta_demo = 1100\n",
    "epsilon_demo = .22 * .88 # effective detection efficiency * anode transparaency \n",
    "r_TP_demo = 300./2. # mm\n",
    "d_EL_demo = 5. # mm\n",
    "d_A_demo = 2. # mm\n",
    "s_demo = 1. # mm\n",
    "N_sipms_demo = 256\n",
    "C_demo = Coverage(r_TP_demo, s_demo, N_sipms_demo)\n",
    "f_demo = SAF_Plane(r_TP_demo, d_EL_demo, d_A_demo) * C_demo\n",
    "f_sipm_demo = SAF_SiPM(s_demo, d_EL_demo, d_A_demo, 0)\n",
    "v_drift_demo = 1.0\n",
    "\n",
    "print('N_d(Qbb) = '+str(int(N_d(E_qbb, eta_demo, epsilon_demo, f_demo))))\n",
    "print('N_d(kr) = '+str(int(N_d(E_kr, eta_demo, epsilon_demo, f_demo))))"
   ]
  },
  {
   "cell_type": "code",
   "execution_count": null,
   "metadata": {},
   "outputs": [],
   "source": [
    "f_sipm_min = SAF_square(s_demo, d_EL_demo + d_A_demo)\n",
    "f_sipm_max = SAF_square(s_demo, d_A_demo)\n",
    "f_sipm_approx = SAF_square_approx(s_demo, d_EL_demo + d_A_demo)\n",
    "print('f_SiPM range = '+str(f_sipm_min)+'-'+str(f_sipm_max))\n",
    "print('f_SiPM(approx) = '+str(f_sipm_approx))\n",
    "print('f_SiPM / f_SiPM(approx) = '+str(f_sipm_min / f_sipm_approx))\n",
    "print('f_SiPM_max / f_SiPM_min = '+str(f_sipm_max/f_sipm_min))\n",
    "print('f_SiPM_mean / f_SiPM_min = '+str(f_sipm_demo/f_sipm_min))"
   ]
  },
  {
   "cell_type": "code",
   "execution_count": null,
   "metadata": {},
   "outputs": [],
   "source": [
    "print('-------------------------')\n",
    "print('DEMO SiPMs')\n",
    "print('   N_d(Qbb) = '+str(int(N_d(E_qbb, eta_demo, epsilon_demo, f_demo))))\n",
    "print('   N_d(Kr) = '+str(int(N_d(E_kr, eta_demo, epsilon_demo, f_demo))))\n",
    "print('   dN_dt(Qbb, blob) = '+str(int(dN_dt(dEdx_qbb_blob, v_drift_demo, eta_demo, epsilon_demo, f_sipm_demo))))\n",
    "print('   dN_dt(Qbb, track) = '+str(int(dN_dt(dEdx_qbb_track, v_drift_demo, eta_demo, epsilon_demo, f_sipm_demo))))\n",
    "print('   dN_dt(Qbb, track, approx like Javi) = '+str(int(dN_dt(dEdx_qbb_track, v_drift_demo, eta_demo, epsilon_demo, SAF_square_approx(s_demo, d_EL_demo+d_A_demo)))))\n",
    "print('-------------------------')"
   ]
  },
  {
   "cell_type": "code",
   "execution_count": null,
   "metadata": {},
   "outputs": [],
   "source": [
    "print('-------------------------')\n",
    "print('DEMO PMTs')\n",
    "print('   N_d(Qbb) = '+str(int(N_d(E_qbb, eta_demo, 1.0, f_demo))))\n",
    "print('   N_d(Kr) = '+str(int(N_d(E_kr, eta_demo, 1.0, f_demo))))\n",
    "print('-------------------------')"
   ]
  },
  {
   "cell_type": "markdown",
   "metadata": {},
   "source": [
    "## NEW\n",
    "\n",
    "SiPMs see about 22,000 pes total for a kr event. This was done roughly with run 7470, not cuts."
   ]
  },
  {
   "cell_type": "code",
   "execution_count": null,
   "metadata": {
    "scrolled": true
   },
   "outputs": [],
   "source": [
    "# Constants in demo\n",
    "P_new = 10. # bar \n",
    "Efield_new = 17. # kV/cm\n",
    "epsilon_new = .07 # should edit this somehow\n",
    "r_TP_new = 454./2. # mm\n",
    "d_EL_new = 10. # mm\n",
    "d_A_new = 2. # mm # to fix\n",
    "eta_new = EL_yield(d_EL_new, Efield_new, P_new)\n",
    "s_new = 1.3 # mm\n",
    "N_sipms_new = 1792\n",
    "C_new = Coverage(r_TP_new, s_new, N_sipms_new)\n",
    "f_new = SAF_Plane(r_TP_new, d_EL_new, d_A_new) * C_new\n",
    "f_sipm_new = SAF_SiPM(s_new, d_EL_new, d_A_new)\n",
    "v_drift_new = 1. # mm/us\n",
    "d_drift_new = 664.5 # mm\n",
    "\n",
    "N_d_data = 22000 # roughly average total signal in SiPMs from kr events in NEW in run 7470\n",
    "eff_new = N_d_data / (N_i(E_kr, W_i=21.9) * eta_new * f_new)"
   ]
  },
  {
   "cell_type": "code",
   "execution_count": null,
   "metadata": {},
   "outputs": [],
   "source": [
    "eta_new"
   ]
  },
  {
   "cell_type": "code",
   "execution_count": null,
   "metadata": {},
   "outputs": [],
   "source": [
    "eff_new"
   ]
  },
  {
   "cell_type": "code",
   "execution_count": null,
   "metadata": {},
   "outputs": [],
   "source": [
    "print('-------------------------')\n",
    "print('NEW SiPMs')\n",
    "print('   N_d(Qbb) = '+str(int(N_d(E_qbb, eta_new, epsilon_new, f_new))))\n",
    "print('   N_d(Kr) = '+str(int(N_d(E_kr, eta_new, epsilon_new, f_new))))\n",
    "print('   dN_dt(Qbb, blob) = '+str(int(dN_dt(dEdx_qbb_blob, v_drift_new, eta_new, epsilon_new, f_sipm))))\n",
    "print('-------------------------')"
   ]
  },
  {
   "cell_type": "code",
   "execution_count": null,
   "metadata": {},
   "outputs": [],
   "source": [
    "print('-------------------------')\n",
    "print('NEW PMTs')\n",
    "print('   N_d(Qbb) = '+str(int(N_d(E_qbb, eta_new, 1.0, f_new))))\n",
    "print('   N_d(Kr) = '+str(int(N_d(E_kr, eta_new, 1.0, f_new))))\n",
    "print('-------------------------')"
   ]
  },
  {
   "cell_type": "code",
   "execution_count": null,
   "metadata": {},
   "outputs": [],
   "source": [
    "import matplotlib.pyplot as plt"
   ]
  },
  {
   "cell_type": "code",
   "execution_count": null,
   "metadata": {},
   "outputs": [],
   "source": [
    "# Testing eres stuff\n",
    "names = ['s12mmp15', 's13mmp7mm','s3mmp15mm', 's6mmp15mm', 's3mmp7mm', 's3mmp3mm','s6mmp6mm']\n",
    "coverages = [0.73514, 3.3930, 3.914965, 15.65986, 18.0694, 98.37593, 98.394868]\n",
    "coverages = [1., 3., 5., 18., 20., 99., 100.]\n",
    "nt_fwhm = [471.68,1541.88,2033.38,7321.10,8175.60, 44389.90, 49565.82]\n",
    "nt_mean = [120187.23,553314.64,793155.23,3512105.58,3662840.31,20399213.63,22473237.79]"
   ]
  },
  {
   "cell_type": "code",
   "execution_count": null,
   "metadata": {},
   "outputs": [],
   "source": [
    "plt.plot(coverages, nt_fwhm)"
   ]
  },
  {
   "cell_type": "markdown",
   "metadata": {},
   "source": [
    "# Comparing with Detsim functions"
   ]
  },
  {
   "cell_type": "code",
   "execution_count": null,
   "metadata": {},
   "outputs": [],
   "source": [
    "from invisible_cities.core import system_of_units as units\n",
    "from typing import Tuple"
   ]
  },
  {
   "cell_type": "code",
   "execution_count": null,
   "metadata": {},
   "outputs": [],
   "source": [
    "def generate_ionization_electrons(energies    : np.ndarray,\n",
    "                                  wi          : float = 22.4 * units.eV,\n",
    "                                  fano_factor : float = 0.15) -> np.ndarray:\n",
    "    \"\"\" Generate secondary ionization electrons from energy deposits\n",
    "    Parameters:\n",
    "        :wi: float\n",
    "            Mean ionization energy\n",
    "        :fano_factor: float\n",
    "            Fano-factor. related with the deviation in ionization electrons\n",
    "        :energies: np.ndarray\n",
    "            Energy hits\n",
    "    Returns:\n",
    "        :nes: np.ndarray\n",
    "            The ionization electrons per hit\n",
    "    Comment:\n",
    "        The quotient energy/wi gives the mean value of the ionization electrons produced\n",
    "        in a hit (N).\n",
    "        The number ionization electrons produced in a hit (N) are assumed to be normally\n",
    "        distributed with mean N and variance (N*F). (Being F the fano_factor).\n",
    "        If the variance is such that <1, the electrons are assumed to be poisson distributed.\n",
    "    \"\"\"\n",
    "    nes = energies / wi\n",
    "    var = nes * fano_factor\n",
    "    pois = var < 1      #See docstring for explanation\n",
    "    nes[ pois] = np.random.poisson(nes[pois])\n",
    "    nes[~pois] = np.round(np.random.normal(nes[~pois], np.sqrt(var[~pois])))\n",
    "    nes[nes<0] = 0\n",
    "    return nes.astype(int)\n",
    "\n",
    "def drift_electrons(zs             : np.ndarray,\n",
    "                    n_electrons    : np.ndarray,\n",
    "                    lifetime       : float = 12 * units.ms,\n",
    "                    drift_velocity : float = 1  * units.mm / units.mus) -> np.ndarray:\n",
    "    \"\"\" Returns number of electrons due to lifetime losses from secondary electrons\n",
    "    Parameters:\n",
    "        :lifetime: float\n",
    "            Electron lifetime\n",
    "        :drift_velocity: float\n",
    "            Drift velocity at the active volume of the detector\n",
    "        :zs:\n",
    "            z coordinate of the ionization hits\n",
    "        :electrons:\n",
    "            Number of ionization electrons in each hit\n",
    "    Returns:\n",
    "        :nes: np.ndarray\n",
    "            Number of ionization electrons that reach the EL gap\n",
    "    \"\"\"\n",
    "    @np.vectorize\n",
    "    def attachment(n_ie, t):\n",
    "        return np.count_nonzero(-lifetime * np.log(np.random.uniform(size=n_ie)) > t)\n",
    "\n",
    "    ts  = zs / drift_velocity\n",
    "    return attachment(n_electrons, ts)\n",
    "\n",
    "def diffuse_electrons(xs                     : np.ndarray,\n",
    "                      ys                     : np.ndarray,\n",
    "                      zs                     : np.ndarray,\n",
    "                      n_electrons            : np.ndarray,\n",
    "                      transverse_diffusion   : float = 1.0 * units.mm / units.cm**0.5,\n",
    "                      longitudinal_diffusion : float = 0.2 * units.mm / units.cm**0.5)\\\n",
    "                      -> Tuple[np.ndarray, np.ndarray, np.ndarray]:\n",
    "    \"\"\"\n",
    "    Starting from hits with positions xs, ys, zs, and number of electrons,\n",
    "    apply diffusion and return diffused positions xs, ys, zs for each electron.\n",
    "    Paramters:\n",
    "        :transverse_diffusion: float\n",
    "        :longitudinal_diffusion: float\n",
    "        :xs, ys, zs: np.ndarray (1D of size: #hits)\n",
    "            Postions of initial hits\n",
    "        :electrons:\n",
    "            Number of ionization electrons per hit before drifting\n",
    "    Returns:\n",
    "        :dxs, dys, dzs: np.ndarray (1D of size: #hits x #electrons-per-hit)\n",
    "            Diffused positions at the EL\n",
    "    \"\"\"\n",
    "    xs = np.repeat(xs, n_electrons)\n",
    "    ys = np.repeat(ys, n_electrons)\n",
    "    zs = np.repeat(zs, n_electrons)\n",
    "\n",
    "    # substitute z<0 to z=0\n",
    "    sel = zs<0\n",
    "    zs[sel] = 0\n",
    "\n",
    "    sqrtz = zs ** 0.5\n",
    "    dxs  = np.random.normal(xs, sqrtz *   transverse_diffusion)\n",
    "    dys  = np.random.normal(ys, sqrtz *   transverse_diffusion)\n",
    "    dzs  = np.random.normal(zs, sqrtz * longitudinal_diffusion)\n",
    "\n",
    "    return (dxs, dys, dzs)\n",
    "\n",
    "def ielectron_simulator(*, wi: float, fano_factor: float, lifetime: float,\n",
    "                        transverse_diffusion: float, longitudinal_diffusion: float, drift_velocity:float,\n",
    "                        el_gain: float, conde_policarpo_factor: float):\n",
    "    \"\"\"\n",
    "    Function that simulates electron creation, drift, diffusion and photon generation at the EL\n",
    "    Parameters: floats\n",
    "        parameter names are self-descriptive.\n",
    "    Returns:\n",
    "        :simulate_ielectrons:\n",
    "            function that returns the positions emission times and number of photons at the EL\n",
    "    \"\"\"\n",
    "    def simulate_ielectrons(x, y, z, time, energy):\n",
    "        nelectrons = generate_ionization_electrons(energy, wi, fano_factor)\n",
    "        nelectrons = drift_electrons(z, nelectrons, lifetime, drift_velocity)\n",
    "        dx, dy, dz = diffuse_electrons(x, y, z, nelectrons, transverse_diffusion, longitudinal_diffusion)\n",
    "        dtimes = dz/drift_velocity + np.repeat(time, nelectrons)\n",
    "        nphotons = np.random.normal(el_gain, np.sqrt(el_gain * conde_policarpo_factor), size=nelectrons.sum())\n",
    "        nphotons = np.round(nphotons).astype(np.int32)\n",
    "        return dx, dy, dz, dtimes, nphotons\n",
    "    return simulate_ielectrons\n",
    "\n"
   ]
  },
  {
   "cell_type": "code",
   "execution_count": null,
   "metadata": {},
   "outputs": [],
   "source": [
    "zs = np.random.uniform(0,1200,1000)\n",
    "xs = np.random.uniform(0,500,1000)\n",
    "ys = np.random.uniform(0,500,1000)\n",
    "ts = np.repeat(1.0, 1000)\n",
    "es = np.repeat(41.5, 1000) # keV"
   ]
  },
  {
   "cell_type": "code",
   "execution_count": null,
   "metadata": {},
   "outputs": [],
   "source": [
    "plt.hist(xs)\n",
    "plt.show()\n",
    "\n",
    "plt.hist(ys)\n",
    "plt.show()\n",
    "\n",
    "plt.hist(es)\n",
    "plt.show()"
   ]
  },
  {
   "cell_type": "code",
   "execution_count": null,
   "metadata": {},
   "outputs": [],
   "source": [
    "detsim_nphotons = ielectron_simulator(wi=21.9, fano_factor=0.15, lifetime=1000, \n",
    "                                      transverse_diffusion=0.0, longitudinal_diffusion=0.0, \n",
    "                                      drift_velocity=1.0, el_gain=980, conde_policarpo_factor=1.0)\n"
   ]
  },
  {
   "cell_type": "code",
   "execution_count": null,
   "metadata": {},
   "outputs": [],
   "source": [
    "_, _, _, _, nphotons = detsim_nphotons(xs,ys,zs, zs, es)"
   ]
  },
  {
   "cell_type": "code",
   "execution_count": null,
   "metadata": {},
   "outputs": [],
   "source": [
    "plt.hist(nphotons)"
   ]
  },
  {
   "cell_type": "code",
   "execution_count": null,
   "metadata": {},
   "outputs": [],
   "source": [
    "np.mean(nphotons)"
   ]
  },
  {
   "cell_type": "code",
   "execution_count": null,
   "metadata": {},
   "outputs": [],
   "source": [
    "N_i(41.5), np.mean(generate_ionization_electrons(np.repeat([41.5/1000.],1000)))"
   ]
  },
  {
   "cell_type": "markdown",
   "metadata": {},
   "source": [
    "# Checking PSF Values"
   ]
  },
  {
   "cell_type": "code",
   "execution_count": null,
   "metadata": {},
   "outputs": [],
   "source": [
    "s13 = SAF_square(1.3, d_EL_flex + d_A_flex-sipm_width)\n",
    "s3 = SAF_square(3, d_EL_flex + d_A_flex-sipm_width)\n",
    "s6 = SAF_square(6, d_EL_flex + d_A_flex-sipm_width)"
   ]
  },
  {
   "cell_type": "code",
   "execution_count": null,
   "metadata": {},
   "outputs": [],
   "source": [
    "# Simulation specific constants are included in the dictionary for that simulation\n",
    "mcs = []\n",
    "mcs.append({\"size\":1.3, \"pitch\":1.3, 'C':1.0, 'name':'1.3mm SiPM, 1.3mm pitch', \"dir\":\"s1.3mmp1.3mm\", \"psf0\":0.00011871001215240151, \"psf300\":1.2470967623013107e-07})\n",
    "mcs.append({\"size\":1.3, \"pitch\":7., 'C':0.034, 'name': '1.3mm SiPM, 7mm pitch',\"dir\": \"s1.3mmp7mm\", \"psf0\":0.00011856003388343188, \"psf300\":1.1494174531864561e-07})\n",
    "mcs.append({\"size\":1.3, \"pitch\":15., 'C':0.007, 'name': '1.3mm SiPM, 15mm pitch',\"dir\": \"s1.3mmp15mm\", \"psf0\":0.00011893361389618711, \"psf300\":1.146742916606954e-07})\n",
    "\n",
    "mcs.append({\"size\":3., \"pitch\":3., 'C':1.0, 'name':'3mm SiPM, 3mm pitch', \"dir\":\"s3mmp3mm\", \"psf0\":0.0007919782296415871, \"psf300\":6.549495756436136e-07})\n",
    "mcs.append({\"size\":3., \"pitch\":7., 'C':0.32, 'name': '3mm SiPM, 7mm pitch',\"dir\": \"s3mmp7mm\", \"psf0\":0.0008247988368565524, \"psf300\":6.801043281436533e-07})\n",
    "mcs.append({\"size\":3., \"pitch\":15., 'C':0.07, 'name': '3mm SiPM, 15mm pitch', \"dir\": \"s3mmp15mm\", \"psf0\":0.0008261087191711004, \"psf300\":6.723618271161723e-07})\n",
    "\n",
    "mcs.append({\"size\":6., \"pitch\":6., 'C':1.0, 'name':'6mm SiPM, 6mm pitch', \"dir\":\"s6mmp6mm\", \"psf0\":0.00365791515029429, \"psf300\":3.009927449907834e-06})\n",
    "mcs.append({\"size\":6., \"pitch\":15., 'C':0.28, 'name': '6mm SiPM, 15mm pitch', \"dir\": \"s6mmp15mm\", \"psf0\":0.0036578596110938173, \"psf300\":2.8116593176238095e-06})"
   ]
  },
  {
   "cell_type": "code",
   "execution_count": null,
   "metadata": {},
   "outputs": [],
   "source": [
    "# Simulation specific constants are included in the dictionary for that simulation\n",
    "mcs_teflon = []\n",
    "mcs_teflon.append({\"size\":1.3, \"pitch\":7., 'C':0.034, 'name': '1.3mm SiPM, 7mm pitch',\"dir\": \"s1.3mmp7mm\", \"psf0\":0.0001185036876623839, \"psf300\":1.692104419689629e-07})\n",
    "mcs_teflon.append({\"size\":1.3, \"pitch\":15., 'C':0.007, 'name': '1.3mm SiPM, 15mm pitch',\"dir\": \"s1.3mmp15mm\", \"psf0\":0.00011884015628012157, \"psf300\":1.916884227450357e-07})\n",
    "\n",
    "mcs_teflon.append({\"size\":3., \"pitch\":7., 'C':0.32, 'name': '3mm SiPM, 7mm pitch',\"dir\": \"s3mmp7mm\", \"psf0\":0.000827469692453882, \"psf300\":9.675857892767514e-07})\n",
    "mcs_teflon.append({\"size\":3., \"pitch\":15., 'C':0.07, 'name': '3mm SiPM, 15mm pitch', \"dir\": \"s3mmp15mm\", \"psf0\":0.0008256528548501207, \"psf300\":1.104158323637117e-06})\n",
    "\n",
    "mcs_teflon.append({\"size\":6., \"pitch\":15., 'C':0.28, 'name': '6mm SiPM, 15mm pitch', \"dir\": \"s6mmp15mm\", \"psf0\":0.003659652481641934, \"psf300\":4.2901024227073796e-06})"
   ]
  },
  {
   "cell_type": "code",
   "execution_count": null,
   "metadata": {},
   "outputs": [],
   "source": [
    "for mc in mcs:\n",
    "    mc['sipm_saf'] = SAF_square_approx(mc['size'], d_EL_flex + d_A_flex-sipm_width)\n",
    "for mc in mcs_teflon:\n",
    "    mc['sipm_saf'] = SAF_square_approx(mc['size'], d_EL_flex + d_A_flex-sipm_width)"
   ]
  },
  {
   "cell_type": "code",
   "execution_count": null,
   "metadata": {},
   "outputs": [],
   "source": [
    "for mc in mcs:\n",
    "    for mc_teflon in mcs_teflon:\n",
    "        if mc['size'] == mc_teflon['size'] and mc['pitch'] == mc_teflon['pitch']:\n",
    "            print(mc['name'])\n",
    "            print('    PSF(d=0) no teflon / teflon = '+str(mc['psf0']/mc_teflon['psf0']))\n",
    "            print('    PSF(d=300) no teflon / teflon = '+str(mc['psf300']/mc_teflon['psf300']))"
   ]
  },
  {
   "cell_type": "code",
   "execution_count": null,
   "metadata": {},
   "outputs": [],
   "source": [
    "mcs_bysize = {1.3:[], 3.0:[], 6.0:[]}\n",
    "for mc in mcs:\n",
    "    mcs_bysize[mc['size']].append(mc)\n",
    "mcs_bysize_t = {1.3:[], 3.0:[], 6.0:[]}\n",
    "for mc in mcs_teflon:\n",
    "    mcs_bysize_t[mc['size']].append(mc)\n",
    "    \n",
    "mcs_bypitch = {1.3:[], 3.0:[], 6.0:[], 7.0:[], 15.0:[]}\n",
    "for mc in mcs:\n",
    "    mcs_bypitch[mc['pitch']].append(mc)\n",
    "mcs_bypitch_t = {1.3:[], 3.0:[], 6.0:[], 7.0:[], 15.0:[]}\n",
    "for mc in mcs_teflon:\n",
    "    mcs_bypitch_t[mc['pitch']].append(mc)"
   ]
  },
  {
   "cell_type": "code",
   "execution_count": null,
   "metadata": {},
   "outputs": [],
   "source": [
    "for pitchs in mcs_bypitch:\n",
    "    print(str(pitchs) + 'mm pitch')\n",
    "    for i in range(len(mcs_bypitch[pitchs])):\n",
    "        for j in range(len(mcs_bypitch[pitchs])):\n",
    "            if i != j:\n",
    "                print('   PSF(d=0) '+ str(mcs_bypitch[pitchs][i]['size']) + '/'+ str(mcs_bypitch[pitchs][j]['size']) + ' = ' +\n",
    "                      str(mcs_bypitch[pitchs][i]['psf0']/mcs_bypitch[pitchs][j]['psf0']))\n",
    "                print('   SiPM SAF '+ str(mcs_bypitch[pitchs][i]['size']) + '/'+ str(mcs_bypitch[pitchs][j]['size']) + ' = ' +\n",
    "                      str(mcs_bypitch[pitchs][i]['sipm_saf']/mcs_bypitch[pitchs][j]['sipm_saf']))"
   ]
  },
  {
   "cell_type": "code",
   "execution_count": null,
   "metadata": {},
   "outputs": [],
   "source": [
    "for sizes in mcs_bysize:\n",
    "    print(str(sizes) + 'mm size')\n",
    "    done = []\n",
    "    for i in range(len(mcs_bysize[sizes])):\n",
    "        done.append(i)\n",
    "        for j in range(len(mcs_bysize[sizes])):\n",
    "            if i != j and j not in done:\n",
    "                print('   PSF(d=0) '+ str(mcs_bysize[sizes][i]['pitch']) + '/'+ str(mcs_bysize[sizes][j]['pitch']) + ' = ' +\n",
    "                      str(mcs_bysize[sizes][i]['psf0']/mcs_bysize[sizes][j]['psf0']))\n",
    "                print('   PSF(d=300) '+ str(mcs_bysize[sizes][i]['pitch']) + '/'+ str(mcs_bysize[sizes][j]['pitch']) + ' = ' +\n",
    "                      str(mcs_bysize[sizes][i]['psf300']/mcs_bysize[sizes][j]['psf300']))"
   ]
  },
  {
   "cell_type": "code",
   "execution_count": null,
   "metadata": {},
   "outputs": [],
   "source": [
    "for mc in mcs:\n",
    "    print(mc['name']+': PSF(d=0) / SiPM SAF = '+str(mc['psf0']/mc['sipm_saf']))"
   ]
  },
  {
   "cell_type": "code",
   "execution_count": null,
   "metadata": {},
   "outputs": [],
   "source": []
  },
  {
   "cell_type": "code",
   "execution_count": null,
   "metadata": {},
   "outputs": [],
   "source": []
  }
 ],
 "metadata": {
  "kernelspec": {
   "display_name": "Python 3",
   "language": "python",
   "name": "python3"
  },
  "language_info": {
   "codemirror_mode": {
    "name": "ipython",
    "version": 3
   },
   "file_extension": ".py",
   "mimetype": "text/x-python",
   "name": "python",
   "nbconvert_exporter": "python",
   "pygments_lexer": "ipython3",
   "version": "3.7.9"
  }
 },
 "nbformat": 4,
 "nbformat_minor": 4
}
