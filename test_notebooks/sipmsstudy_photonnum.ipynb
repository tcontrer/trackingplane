{
 "cells": [
  {
   "cell_type": "code",
   "execution_count": null,
   "metadata": {},
   "outputs": [],
   "source": [
    "import pandas as pd\n",
    "import matplotlib.pyplot as plt\n"
   ]
  },
  {
   "cell_type": "code",
   "execution_count": null,
   "metadata": {},
   "outputs": [],
   "source": [
    "file_name = \"flex.kr83m.1.s3mmp15mm.nexus.h5\"\n",
    "this_dir = \"/Users/taylorcontreras/Development/Research/Odyssey_sipmstudy/\""
   ]
  },
  {
   "cell_type": "code",
   "execution_count": null,
   "metadata": {},
   "outputs": [],
   "source": [
    "sns_response = pd.read_hdf(this_dir+file_name, 'MC/sns_response')"
   ]
  },
  {
   "cell_type": "code",
   "execution_count": null,
   "metadata": {},
   "outputs": [],
   "source": [
    "# Sort to sum up all charges for each sipms\n",
    "sns_response_sorted = sns_response.sort_values(by=['sensor_id'])\n",
    "sipm_response = sns_response_sorted.loc[sns_response_sorted[\"sensor_id\"] >999]"
   ]
  },
  {
   "cell_type": "code",
   "execution_count": null,
   "metadata": {},
   "outputs": [],
   "source": [
    "top_sipms = sipm_response.groupby('event_id',as_index=False).apply(lambda grp: grp.nlargest(10,'charge'))"
   ]
  },
  {
   "cell_type": "code",
   "execution_count": null,
   "metadata": {},
   "outputs": [],
   "source": [
    "top_sipms"
   ]
  },
  {
   "cell_type": "code",
   "execution_count": null,
   "metadata": {},
   "outputs": [],
   "source": [
    "top_sipms_by_event = top_sipms.groupby('event_id')\n",
    "top_10_sipms = [top_sipms_by_event.apply(lambda grp: grp.iloc[i]) for i in range(0,10)]"
   ]
  },
  {
   "cell_type": "code",
   "execution_count": null,
   "metadata": {},
   "outputs": [],
   "source": [
    "for event, group in top_sipms_by_event:\n",
    "    display(group.loc[:,'sensor_id':'charge'])\n",
    "    "
   ]
  },
  {
   "cell_type": "code",
   "execution_count": null,
   "metadata": {},
   "outputs": [],
   "source": [
    "[plt.hist(top_10_sipms[i]['charge'], alpha=0.5, label=str(i+1),bins=20,range=(0,250)) for i in range(0,5)]\n",
    "plt.xlabel('Charge [pes]')\n",
    "plt.ylabel('Top i-th sipm in charge per event')\n",
    "plt.legend()"
   ]
  },
  {
   "cell_type": "code",
   "execution_count": null,
   "metadata": {},
   "outputs": [],
   "source": [
    "mcs = [{'files':[file_name], 'pitch':5, 'dir':''}]\n",
    "for mc in mcs:\n",
    "    print(\"Looping in mcs\")\n",
    "    top_sipms = pd.DataFrame()\n",
    "\n",
    "    for file in mc[\"files\"]:\n",
    "        print(\"Looping files in mc\")\n",
    "        sns_response = pd.read_hdf(file, 'MC/sns_response')\n",
    "\n",
    "        # Sort to sum up all charges for each sipms                                                                \n",
    "        sns_response_sorted = sns_response.sort_values(by=['sensor_id'])\n",
    "        sipm_response = sns_response_sorted.loc[sns_response_sorted[\"sensor_id\"] >999]\n",
    "\n",
    "        top_10_sipms = sipm_response.groupby('event_id',as_index=False).apply(lambda grp: grp.nlargest(10,'charge'))\n",
    "        top_sipms_by_event = top_10_sipms.groupby('event_id')\n",
    "\n",
    "    mc[\"top_sipms\"] = [top_sipms_by_event.apply(lambda grp: grp.iloc[i]) for i in range(0,10)]\n"
   ]
  },
  {
   "cell_type": "code",
   "execution_count": null,
   "metadata": {},
   "outputs": [],
   "source": [
    "outdir = ''\n",
    "for mc in mcs:\n",
    "    for i in range(0,10):\n",
    "        plt.hist(mc['top_sipms'][i]['charge'], bins=50, range=(0,250))\n",
    "        plt.xlabel('charge [pes]')\n",
    "        plt.title('NEXT-100, 3mmx3mm SiPMs, '+str(mc['pitch'])+' pitch, '+str(i)+' largest sipm signal per event')\n",
    "        plt.savefig(outdir+mc['dir']+\"_\"+str(i)+\"largest_sipm.png\")\n",
    "        plt.close()"
   ]
  }
 ],
 "metadata": {
  "kernelspec": {
   "display_name": "Python 3",
   "language": "python",
   "name": "python3"
  },
  "language_info": {
   "codemirror_mode": {
    "name": "ipython",
    "version": 3
   },
   "file_extension": ".py",
   "mimetype": "text/x-python",
   "name": "python",
   "nbconvert_exporter": "python",
   "pygments_lexer": "ipython3",
   "version": "3.7.4"
  }
 },
 "nbformat": 4,
 "nbformat_minor": 2
}
