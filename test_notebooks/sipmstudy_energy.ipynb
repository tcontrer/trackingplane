{
 "cells": [
  {
   "cell_type": "code",
   "execution_count": 1,
   "metadata": {},
   "outputs": [],
   "source": [
    "import pandas as pd\n",
    "import matplotlib.pyplot as plt\n",
    "import numpy as np\n",
    "from scipy.optimize import curve_fit\n",
    "from scipy.stats import norm\n",
    "\n",
    "import numpy as np\n",
    "\n",
    "#from mc_io_functions import load_mc_particles\n",
    "#from mc_io_functions import load_mc_hits\n",
    "#from mc_io_functions import load_mc_sensor_response\n",
    "\n",
    "from invisible_cities.core.core_functions  import shift_to_bin_centers\n",
    "from invisible_cities.core                 import fit_functions as fitf\n",
    "#from invisible_cities.icaro.hst_functions import hist\n",
    "#from invisible_cities.icaro.hst_functions import hist2d\n",
    "#from invisible_cities.icaro.hst_functions import hist2d_profile\n",
    "#from invisible_cities.icaro.hst_functions import labels\n"
   ]
  },
  {
   "cell_type": "code",
   "execution_count": 2,
   "metadata": {},
   "outputs": [],
   "source": [
    "def hist(*args, **kwargs):\n",
    "    \"\"\"\n",
    "    Create a figure and then the histogram\n",
    "    \"\"\"\n",
    "    create_new_figure(kwargs)\n",
    "\n",
    "    y, x, p = plt.hist(*args, **kwargs)\n",
    "    return y, shift_to_bin_centers(x), p\n",
    "\n",
    "\n",
    "def hist2d(*args, **kwargs):\n",
    "    \"\"\"\n",
    "    Create a figure and then the histogram\n",
    "    \"\"\"\n",
    "    create_new_figure(kwargs)\n",
    "\n",
    "    z, x, y, p = plt.hist2d(*args, **kwargs)\n",
    "    return z, shift_to_bin_centers(x), shift_to_bin_centers(y), p\n",
    "\n",
    "def hist2d_profile(x, y, z, nbinx, nbiny, xrange, yrange, **kwargs):\n",
    "    \"\"\"\n",
    "    Create a profile 2d of the data and plot it as an histogram.\n",
    "    \"\"\"\n",
    "    x, y, z, ze = fitf.profileXY(x, y, z, nbinx, nbiny, xrange, yrange)\n",
    "    plot_output = display_matrix(x, y, z, **kwargs)\n",
    "    return ((x, y, z, ze), *plot_output)\n",
    "\n",
    "def display_matrix(x, y, z, mask=None, **kwargs):\n",
    "    \"\"\"\n",
    "    Display the matrix z using the coordinates x and y as the bin centers.\n",
    "    \"\"\"\n",
    "    nx = x = np.size(x)\n",
    "    ny = np.size(y)\n",
    "\n",
    "    dx = (np.max(x) - np.min(x)) / nx\n",
    "    dy = (np.max(y) - np.min(y)) / ny\n",
    "\n",
    "    x_binning = np.linspace(np.min(x) - dx, np.max(x) + dx, nx + 1)\n",
    "    y_binning = np.linspace(np.min(y) - dy, np.max(y) + dy, ny + 1)\n",
    "\n",
    "    x_ = np.repeat(x, ny)\n",
    "    y_ = np.tile  (y, nx)\n",
    "    z_ = z.flatten()\n",
    "\n",
    "    if mask is None:\n",
    "        mask = np.ones_like(z_, dtype=bool)\n",
    "    else:\n",
    "        mask = mask.flatten()\n",
    "    h  = hist2d(x_[mask], y_[mask], (x_binning,\n",
    "                                     y_binning),\n",
    "                weights = z_[mask],\n",
    "                **kwargs)\n",
    "    return h, plt.colorbar()\n",
    "\n",
    "def create_new_figure(kwargs):\n",
    "    if kwargs.setdefault(\"new_figure\", True):\n",
    "        plt.figure()\n",
    "    del kwargs[\"new_figure\"]\n",
    "\n",
    "def labels(xlabel, ylabel, title=\"\"):\n",
    "    \"\"\"\n",
    "    Set x and y labels.\n",
    "    \"\"\"\n",
    "    plt.xlabel(xlabel)\n",
    "    plt.ylabel(ylabel)\n",
    "    plt.title ( title)\n",
    "    \n",
    "def EnergyRes(x):\n",
    "    mu = np.mean(x)\n",
    "    sigma = np.std(x)\n",
    "    fwhm = 2.355*sigma/mu\n",
    "    e_event = 41 # keV\n",
    "    eres = fwhm*e_event\n",
    "    return fwhm*100 # FWHM  # what units is this????"
   ]
  },
  {
   "cell_type": "code",
   "execution_count": 3,
   "metadata": {},
   "outputs": [],
   "source": [
    "#nfiles = 2\n",
    "#dirname = \"/n/holystore01/LABS/guenette_lab/Users/tcontreras/nexus-production/test/\"\n",
    "#files = [\"flex.kr83m.\"+str(i)+\".nexus.h5\" for i in range(1,2)]\n",
    "#files_8 = [\"/Users/taylorcontreras/Development/Research/Odyssey_sipmstudy/pitch_8mm/flex.kr83m.\"+str(i)+\".nexus.h5\" for i in range(0,nfiles)]\n",
    "#config = pd.read_hdf(files[0], \"MC/configuration\")\n",
    "tbin_sipms = 1.0 #mus\n",
    "t1_s1 = 99 #  mus\n",
    "t2_s1 = 102 #mus\n",
    "t1_s2 = 102 #mus\n",
    "\n",
    "test_file = [\"/Users/taylorcontreras/Development/Research/trackingplane/s3mmp15mm/flex.kr83m.1.nexus.h5\"]\n",
    "config = pd.read_hdf(test_file[0], \"MC/configuration\")"
   ]
  },
  {
   "cell_type": "code",
   "execution_count": 4,
   "metadata": {},
   "outputs": [
    {
     "data": {
      "text/html": [
       "<div>\n",
       "<style scoped>\n",
       "    .dataframe tbody tr th:only-of-type {\n",
       "        vertical-align: middle;\n",
       "    }\n",
       "\n",
       "    .dataframe tbody tr th {\n",
       "        vertical-align: top;\n",
       "    }\n",
       "\n",
       "    .dataframe thead th {\n",
       "        text-align: right;\n",
       "    }\n",
       "</style>\n",
       "<table border=\"1\" class=\"dataframe\">\n",
       "  <thead>\n",
       "    <tr style=\"text-align: right;\">\n",
       "      <th></th>\n",
       "      <th>param_key</th>\n",
       "      <th>param_value</th>\n",
       "    </tr>\n",
       "  </thead>\n",
       "  <tbody>\n",
       "    <tr>\n",
       "      <th>0</th>\n",
       "      <td>event_type</td>\n",
       "      <td>other</td>\n",
       "    </tr>\n",
       "    <tr>\n",
       "      <th>1</th>\n",
       "      <td>num_events</td>\n",
       "      <td>100</td>\n",
       "    </tr>\n",
       "    <tr>\n",
       "      <th>2</th>\n",
       "      <td>saved_events</td>\n",
       "      <td>100</td>\n",
       "    </tr>\n",
       "    <tr>\n",
       "      <th>3</th>\n",
       "      <td>interacting_events</td>\n",
       "      <td>0</td>\n",
       "    </tr>\n",
       "    <tr>\n",
       "      <th>4</th>\n",
       "      <td>PmtR11410_binning</td>\n",
       "      <td>0.025000 mus</td>\n",
       "    </tr>\n",
       "    <tr>\n",
       "      <th>...</th>\n",
       "      <td>...</td>\n",
       "      <td>...</td>\n",
       "    </tr>\n",
       "    <tr>\n",
       "      <th>69</th>\n",
       "      <td>/event/verbose</td>\n",
       "      <td>0</td>\n",
       "    </tr>\n",
       "    <tr>\n",
       "      <th>70</th>\n",
       "      <td>/tracking/verbose</td>\n",
       "      <td>0</td>\n",
       "    </tr>\n",
       "    <tr>\n",
       "      <th>71</th>\n",
       "      <td>/nexus/random_seed</td>\n",
       "      <td>2</td>\n",
       "    </tr>\n",
       "    <tr>\n",
       "      <th>72</th>\n",
       "      <td>/nexus/persistency/start_id</td>\n",
       "      <td>100</td>\n",
       "    </tr>\n",
       "    <tr>\n",
       "      <th>73</th>\n",
       "      <td>/nexus/persistency/outputFile</td>\n",
       "      <td>/n/holystore01/LABS/guenette_lab/Users/tcontre...</td>\n",
       "    </tr>\n",
       "  </tbody>\n",
       "</table>\n",
       "<p>74 rows × 2 columns</p>\n",
       "</div>"
      ],
      "text/plain": [
       "                        param_key  \\\n",
       "0                      event_type   \n",
       "1                      num_events   \n",
       "2                    saved_events   \n",
       "3              interacting_events   \n",
       "4               PmtR11410_binning   \n",
       "..                            ...   \n",
       "69                 /event/verbose   \n",
       "70              /tracking/verbose   \n",
       "71             /nexus/random_seed   \n",
       "72    /nexus/persistency/start_id   \n",
       "73  /nexus/persistency/outputFile   \n",
       "\n",
       "                                          param_value  \n",
       "0                                               other  \n",
       "1                                                 100  \n",
       "2                                                 100  \n",
       "3                                                   0  \n",
       "4                                        0.025000 mus  \n",
       "..                                                ...  \n",
       "69                                                  0  \n",
       "70                                                  0  \n",
       "71                                                  2  \n",
       "72                                                100  \n",
       "73  /n/holystore01/LABS/guenette_lab/Users/tcontre...  \n",
       "\n",
       "[74 rows x 2 columns]"
      ]
     },
     "execution_count": 4,
     "metadata": {},
     "output_type": "execute_result"
    }
   ],
   "source": [
    "config"
   ]
  },
  {
   "cell_type": "code",
   "execution_count": 5,
   "metadata": {},
   "outputs": [
    {
     "data": {
      "text/html": [
       "<div>\n",
       "<style scoped>\n",
       "    .dataframe tbody tr th:only-of-type {\n",
       "        vertical-align: middle;\n",
       "    }\n",
       "\n",
       "    .dataframe tbody tr th {\n",
       "        vertical-align: top;\n",
       "    }\n",
       "\n",
       "    .dataframe thead th {\n",
       "        text-align: right;\n",
       "    }\n",
       "</style>\n",
       "<table border=\"1\" class=\"dataframe\">\n",
       "  <thead>\n",
       "    <tr style=\"text-align: right;\">\n",
       "      <th></th>\n",
       "      <th>sensor_id</th>\n",
       "      <th>sensor_name</th>\n",
       "      <th>x</th>\n",
       "      <th>y</th>\n",
       "      <th>z</th>\n",
       "    </tr>\n",
       "  </thead>\n",
       "  <tbody>\n",
       "    <tr>\n",
       "      <th>0</th>\n",
       "      <td>8</td>\n",
       "      <td>PmtR11410</td>\n",
       "      <td>-125.0</td>\n",
       "      <td>216.506348</td>\n",
       "      <td>1468.699951</td>\n",
       "    </tr>\n",
       "    <tr>\n",
       "      <th>1</th>\n",
       "      <td>22</td>\n",
       "      <td>PmtR11410</td>\n",
       "      <td>-187.5</td>\n",
       "      <td>-324.759521</td>\n",
       "      <td>1468.699951</td>\n",
       "    </tr>\n",
       "    <tr>\n",
       "      <th>2</th>\n",
       "      <td>23</td>\n",
       "      <td>PmtR11410</td>\n",
       "      <td>187.5</td>\n",
       "      <td>-324.759521</td>\n",
       "      <td>1468.699951</td>\n",
       "    </tr>\n",
       "    <tr>\n",
       "      <th>3</th>\n",
       "      <td>37</td>\n",
       "      <td>PmtR11410</td>\n",
       "      <td>250.0</td>\n",
       "      <td>433.012695</td>\n",
       "      <td>1468.699951</td>\n",
       "    </tr>\n",
       "    <tr>\n",
       "      <th>4</th>\n",
       "      <td>5</td>\n",
       "      <td>PmtR11410</td>\n",
       "      <td>62.5</td>\n",
       "      <td>-108.253174</td>\n",
       "      <td>1468.699951</td>\n",
       "    </tr>\n",
       "    <tr>\n",
       "      <th>...</th>\n",
       "      <td>...</td>\n",
       "      <td>...</td>\n",
       "      <td>...</td>\n",
       "      <td>...</td>\n",
       "      <td>...</td>\n",
       "    </tr>\n",
       "    <tr>\n",
       "      <th>3363</th>\n",
       "      <td>1796</td>\n",
       "      <td>TP_SiPM</td>\n",
       "      <td>-112.5</td>\n",
       "      <td>-202.500000</td>\n",
       "      <td>-23.301001</td>\n",
       "    </tr>\n",
       "    <tr>\n",
       "      <th>3364</th>\n",
       "      <td>1942</td>\n",
       "      <td>TP_SiPM</td>\n",
       "      <td>277.5</td>\n",
       "      <td>-172.500000</td>\n",
       "      <td>-23.301001</td>\n",
       "    </tr>\n",
       "    <tr>\n",
       "      <th>3365</th>\n",
       "      <td>1470</td>\n",
       "      <td>TP_SiPM</td>\n",
       "      <td>37.5</td>\n",
       "      <td>-292.500000</td>\n",
       "      <td>-23.301001</td>\n",
       "    </tr>\n",
       "    <tr>\n",
       "      <th>3366</th>\n",
       "      <td>2929</td>\n",
       "      <td>TP_SiPM</td>\n",
       "      <td>-217.5</td>\n",
       "      <td>67.500000</td>\n",
       "      <td>-23.301001</td>\n",
       "    </tr>\n",
       "    <tr>\n",
       "      <th>3367</th>\n",
       "      <td>1142</td>\n",
       "      <td>TP_SiPM</td>\n",
       "      <td>-157.5</td>\n",
       "      <td>-397.500000</td>\n",
       "      <td>-23.301001</td>\n",
       "    </tr>\n",
       "  </tbody>\n",
       "</table>\n",
       "<p>3368 rows × 5 columns</p>\n",
       "</div>"
      ],
      "text/plain": [
       "      sensor_id sensor_name      x           y            z\n",
       "0             8   PmtR11410 -125.0  216.506348  1468.699951\n",
       "1            22   PmtR11410 -187.5 -324.759521  1468.699951\n",
       "2            23   PmtR11410  187.5 -324.759521  1468.699951\n",
       "3            37   PmtR11410  250.0  433.012695  1468.699951\n",
       "4             5   PmtR11410   62.5 -108.253174  1468.699951\n",
       "...         ...         ...    ...         ...          ...\n",
       "3363       1796     TP_SiPM -112.5 -202.500000   -23.301001\n",
       "3364       1942     TP_SiPM  277.5 -172.500000   -23.301001\n",
       "3365       1470     TP_SiPM   37.5 -292.500000   -23.301001\n",
       "3366       2929     TP_SiPM -217.5   67.500000   -23.301001\n",
       "3367       1142     TP_SiPM -157.5 -397.500000   -23.301001\n",
       "\n",
       "[3368 rows x 5 columns]"
      ]
     },
     "execution_count": 5,
     "metadata": {},
     "output_type": "execute_result"
    }
   ],
   "source": [
    "sns_response = pd.read_hdf(test_file[0], 'MC/sns_response')\n",
    "sns_positions = pd.read_hdf(test_file[0], 'MC/sns_positions')\n",
    "sns_positions = sns_positions.drop_duplicates(subset='sensor_id')\n",
    "sns_positions"
   ]
  },
  {
   "cell_type": "code",
   "execution_count": null,
   "metadata": {},
   "outputs": [],
   "source": []
  },
  {
   "cell_type": "code",
   "execution_count": null,
   "metadata": {},
   "outputs": [],
   "source": []
  },
  {
   "cell_type": "code",
   "execution_count": 6,
   "metadata": {
    "scrolled": true
   },
   "outputs": [
    {
     "data": {
      "text/html": [
       "<div>\n",
       "<style scoped>\n",
       "    .dataframe tbody tr th:only-of-type {\n",
       "        vertical-align: middle;\n",
       "    }\n",
       "\n",
       "    .dataframe tbody tr th {\n",
       "        vertical-align: top;\n",
       "    }\n",
       "\n",
       "    .dataframe thead th {\n",
       "        text-align: right;\n",
       "    }\n",
       "</style>\n",
       "<table border=\"1\" class=\"dataframe\">\n",
       "  <thead>\n",
       "    <tr style=\"text-align: right;\">\n",
       "      <th></th>\n",
       "      <th>param_key</th>\n",
       "      <th>param_value</th>\n",
       "    </tr>\n",
       "  </thead>\n",
       "  <tbody>\n",
       "    <tr>\n",
       "      <th>0</th>\n",
       "      <td>event_type</td>\n",
       "      <td>other</td>\n",
       "    </tr>\n",
       "    <tr>\n",
       "      <th>1</th>\n",
       "      <td>num_events</td>\n",
       "      <td>100</td>\n",
       "    </tr>\n",
       "    <tr>\n",
       "      <th>2</th>\n",
       "      <td>saved_events</td>\n",
       "      <td>100</td>\n",
       "    </tr>\n",
       "    <tr>\n",
       "      <th>3</th>\n",
       "      <td>interacting_events</td>\n",
       "      <td>0</td>\n",
       "    </tr>\n",
       "    <tr>\n",
       "      <th>4</th>\n",
       "      <td>PmtR11410_binning</td>\n",
       "      <td>0.025000 mus</td>\n",
       "    </tr>\n",
       "    <tr>\n",
       "      <th>...</th>\n",
       "      <td>...</td>\n",
       "      <td>...</td>\n",
       "    </tr>\n",
       "    <tr>\n",
       "      <th>69</th>\n",
       "      <td>/event/verbose</td>\n",
       "      <td>0</td>\n",
       "    </tr>\n",
       "    <tr>\n",
       "      <th>70</th>\n",
       "      <td>/tracking/verbose</td>\n",
       "      <td>0</td>\n",
       "    </tr>\n",
       "    <tr>\n",
       "      <th>71</th>\n",
       "      <td>/nexus/random_seed</td>\n",
       "      <td>2</td>\n",
       "    </tr>\n",
       "    <tr>\n",
       "      <th>72</th>\n",
       "      <td>/nexus/persistency/start_id</td>\n",
       "      <td>100</td>\n",
       "    </tr>\n",
       "    <tr>\n",
       "      <th>73</th>\n",
       "      <td>/nexus/persistency/outputFile</td>\n",
       "      <td>/n/holystore01/LABS/guenette_lab/Users/tcontre...</td>\n",
       "    </tr>\n",
       "  </tbody>\n",
       "</table>\n",
       "<p>74 rows × 2 columns</p>\n",
       "</div>"
      ],
      "text/plain": [
       "                        param_key  \\\n",
       "0                      event_type   \n",
       "1                      num_events   \n",
       "2                    saved_events   \n",
       "3              interacting_events   \n",
       "4               PmtR11410_binning   \n",
       "..                            ...   \n",
       "69                 /event/verbose   \n",
       "70              /tracking/verbose   \n",
       "71             /nexus/random_seed   \n",
       "72    /nexus/persistency/start_id   \n",
       "73  /nexus/persistency/outputFile   \n",
       "\n",
       "                                          param_value  \n",
       "0                                               other  \n",
       "1                                                 100  \n",
       "2                                                 100  \n",
       "3                                                   0  \n",
       "4                                        0.025000 mus  \n",
       "..                                                ...  \n",
       "69                                                  0  \n",
       "70                                                  0  \n",
       "71                                                  2  \n",
       "72                                                100  \n",
       "73  /n/holystore01/LABS/guenette_lab/Users/tcontre...  \n",
       "\n",
       "[74 rows x 2 columns]"
      ]
     },
     "execution_count": 6,
     "metadata": {},
     "output_type": "execute_result"
    }
   ],
   "source": [
    "pd.read_hdf(test_file[0], \"MC/configuration\")"
   ]
  },
  {
   "cell_type": "code",
   "execution_count": null,
   "metadata": {},
   "outputs": [],
   "source": []
  },
  {
   "cell_type": "code",
   "execution_count": 7,
   "metadata": {},
   "outputs": [],
   "source": [
    "#config"
   ]
  },
  {
   "cell_type": "code",
   "execution_count": 8,
   "metadata": {},
   "outputs": [],
   "source": [
    "all_sipms = pd.DataFrame()\n",
    "all_pmts = pd.DataFrame()\n",
    "events_allsensors = pd.DataFrame()\n",
    "events_allsipms = pd.DataFrame()\n",
    "events_allpmts = pd.DataFrame()\n",
    "for file in test_file:\n",
    "    sns_response = pd.read_hdf(file, 'MC/sns_response')\n",
    "    sns_positions = pd.read_hdf(file, 'MC/sns_positions')\n",
    "    #print(\"len of data\", sns_response)\n",
    "    # Sort to get the sipms\n",
    "    sns_pos_sorted = sns_positions.sort_values(by=['sensor_id'])\n",
    "    sipm_positions = sns_pos_sorted[sns_pos_sorted[\"sensor_name\"].str.contains(\"SiPM\")]\n",
    "\n",
    "    # Sort to sum up all charges for each sipms\n",
    "    sns_response_sorted = sns_response.sort_values(by=['sensor_id'])\n",
    "    sipm_response = sns_response_sorted.loc[sns_response_sorted[\"sensor_id\"] >999]\n",
    "    response_byid = sipm_response.groupby('sensor_id')\n",
    "    summed_charges = response_byid.agg({\"charge\":\"sum\"}) \n",
    "\n",
    "    # Make data frame with sipms ids, position, and total charge\n",
    "    #print(\"summed_charges:\",summed_charges)\n",
    "    #print(\"sipms_positions:\", sipm_positions)\n",
    "    new_sipm_positions = sipm_positions.set_index('sensor_id')\n",
    "    new_df = pd.concat([new_sipm_positions.iloc[:,1:5], summed_charges], axis=1)\n",
    "    all_sipms = all_sipms.append(new_df)\n",
    "    \n",
    "    # Sum of charges in an event\n",
    "    response_byevent = sns_response_sorted.groupby('event_id')\n",
    "    event_charge = response_byevent.agg({\"charge\":\"sum\"})\n",
    "    events_allsensors = events_allsensors.append(event_charge)\n",
    "    \n",
    "    # Sum of charges in sipms per event\n",
    "    this = sipm_response.groupby('event_id')\n",
    "    charges = this.agg({\"charge\":\"sum\"})\n",
    "    events_allsipms = events_allsipms.append(charges)\n",
    "    \n",
    "    # pmts\n",
    "    pmt_response = sns_response_sorted.loc[sns_response_sorted[\"sensor_id\"] < 60]\n",
    "    response_byid_pmt = pmt_response.groupby('sensor_id')\n",
    "    summed_charges_pmt = response_byid_pmt.agg({\"charge\":\"sum\"})\n",
    "    pmt_positions = sns_pos_sorted[sns_pos_sorted[\"sensor_name\"].str.contains(\"Pmt\")]\n",
    "    new_pmt_positions = pmt_positions.set_index('sensor_id')\n",
    "    new_df_pmt = pd.concat([new_pmt_positions.iloc[:,1:5], summed_charges_pmt], axis=1)\n",
    "    all_pmts = all_pmts.append(new_df_pmt)\n",
    "    \n",
    "    this_pmts = pmt_response.groupby('event_id')\n",
    "    charges_pmt = this_pmts.agg({\"charge\":\"sum\"})\n",
    "    events_allpmts = events_allpmts.append(charges_pmt)"
   ]
  },
  {
   "cell_type": "code",
   "execution_count": 9,
   "metadata": {},
   "outputs": [
    {
     "name": "stdout",
     "output_type": "stream",
     "text": [
      "                             charge\n",
      "event_id event_id sensor_id        \n",
      "100      100      1004            3\n",
      "                  1010            2\n",
      "                  1011            2\n",
      "                  1020            2\n",
      "                  1021            2\n",
      "...                             ...\n",
      "199      199      4296            2\n",
      "                  4297            2\n",
      "                  4298            4\n",
      "                  4305            2\n",
      "                  4306            2\n",
      "\n",
      "[94267 rows x 1 columns]\n",
      "<class 'pandas.core.frame.DataFrame'>\n"
     ]
    }
   ],
   "source": [
    "sipm_response = sns_response_sorted.loc[sns_response_sorted[\"sensor_id\"] >999]\n",
    "sipm_response_byevent = sipm_response.groupby('event_id')\n",
    "charges = sipm_response_byevent.agg({\"charge\":\"sum\"})\n",
    "#sipms = sipms.append(charges) #[events_allsipms.charge > 0]\n",
    "sum_sipms_byevent = sipm_response_byevent.apply(lambda group: group.groupby('sensor_id').agg({\"charge\":\"sum\"})).groupby('event_id')\n",
    "#for I, grp in sum_sipms_byevent:\n",
    "#    print(grp[grp.charge > 1])\n",
    "print(sum_sipms_byevent.apply(lambda group: group[group.charge>1]))\n",
    "print(type(charges))"
   ]
  },
  {
   "cell_type": "code",
   "execution_count": null,
   "metadata": {},
   "outputs": [],
   "source": []
  },
  {
   "cell_type": "code",
   "execution_count": 10,
   "metadata": {},
   "outputs": [],
   "source": [
    "from dataclasses import dataclass\n",
    "from typing      import Tuple\n",
    "from typing      import TypeVar\n",
    "from typing      import Callable\n",
    "from collections import namedtuple\n",
    "from scipy.optimize          import OptimizeWarning\n",
    "import warnings\n",
    "\n",
    "from invisible_cities.evm  .ic_containers import FitFunction\n",
    "from   invisible_cities.core.core_functions    import in_range\n",
    "from   invisible_cities.core .stat_functions import poisson_sigma\n",
    "\n",
    "Measurement = namedtuple('Measurement', 'value uncertainty')\n",
    "Number = TypeVar('Number', None, int, float)\n",
    "NN = np.nan\n",
    "\n",
    "@dataclass\n",
    "class HistoPar:\n",
    "    var    : np.array\n",
    "    nbins  : int\n",
    "    range  : Tuple[float]\n",
    "        \n",
    "@dataclass\n",
    "class GaussPar:\n",
    "    mu    : Measurement\n",
    "    std   : Measurement\n",
    "    amp   : Measurement\n",
    "        \n",
    "@dataclass\n",
    "class ProfilePar:\n",
    "    x  : np.array\n",
    "    y  : np.array\n",
    "    xu : np.array\n",
    "    yu : np.array\n",
    "        \n",
    "@dataclass\n",
    "class FitPar(ProfilePar):\n",
    "    f     : FitFunction\n",
    "        \n",
    "@dataclass\n",
    "class FitResult:\n",
    "    par   : np.array\n",
    "    err   : np.array\n",
    "    chi2  : float\n",
    "    valid : bool\n",
    "        \n",
    "@dataclass\n",
    "class FitCollection:\n",
    "    fp   : FitPar\n",
    "    hp   : HistoPar\n",
    "    fr   : FitResult\n",
    "        \n",
    "def gaussian_parameters(x : np.array, range : Tuple[Number], bin_size : float = 1)->GaussPar:\n",
    "    \"\"\"\n",
    "    Return the parameters defining a Gaussian\n",
    "    g = N * exp(x - mu)**2 / (2 * std**2)\n",
    "    where N is the normalization: N = 1 / (sqrt(2 * np.pi) * std)\n",
    "    The parameters returned are the mean (mu), standard deviation (std)\n",
    "    and the amplitude (inverse of N).\n",
    "    \"\"\"\n",
    "    mu, std = mean_and_std(x, range)\n",
    "    ff     = np.sqrt(2 * np.pi) * std\n",
    "\n",
    "    amp     = len(x) * bin_size / ff\n",
    "\n",
    "    sel  = in_range(x, *range)\n",
    "    N = len(x[sel])              # number of samples in range\n",
    "    mu_u  = std / np.sqrt(N)\n",
    "    std_u = std / np.sqrt(2 * (N -1))\n",
    "    amp_u = np.sqrt(2 * np.pi) * std_u\n",
    "\n",
    "    return GaussPar(mu  = Measurement(mu, mu_u),\n",
    "                    std = Measurement(std, std_u),\n",
    "                    amp = Measurement(amp, amp_u))\n",
    "\n",
    "def gaussian_fit(x       : np.array,\n",
    "                 y       : np.array,\n",
    "                 seed    : GaussPar,\n",
    "                 n_sigma : int)  ->Tuple[FitPar, FitResult]:\n",
    "    \"\"\"Gaussian fit to x,y variables, with fit range defined by n_sigma\"\"\"\n",
    "\n",
    "    mu  = seed.mu.value\n",
    "    std = seed.std.value\n",
    "    amp = seed.amp.value\n",
    "    fit_range = mu - n_sigma * std, mu + n_sigma * std\n",
    "\n",
    "    x, y      = x[in_range(x, *fit_range)], y[in_range(x, *fit_range)]\n",
    "    yu        = poisson_sigma(y)\n",
    "    fseed     = (amp, mu, std)\n",
    "\n",
    "    par, err = par_and_err_from_seed(seed)\n",
    "    fr = FitResult(par = par,\n",
    "                   err = err,\n",
    "                   chi2 = NN,\n",
    "                   valid = False)\n",
    "    fp = None\n",
    "\n",
    "    with warnings.catch_warnings():\n",
    "        warnings.filterwarnings('error')  # in order to handle fit failures here\n",
    "        try:\n",
    "            fp, fr = gfit(x, y, yu, fseed)\n",
    "        except RuntimeWarning:   # this is the most usual failure, and usually solved trying fitx\n",
    "                                 # with a different seed\n",
    "            print(f' fit failed for seed  = {seed}, due to RunTimeWarning, retry fit ')\n",
    "            fseed = (10*fseed[0], fseed[1], fseed[2] )\n",
    "            try:\n",
    "                fp, fr = gfit(x, y, yu, fseed)\n",
    "            except RuntimeWarning: #  Give up on second failure\n",
    "                print(f' fit failed for seed  = {seed}, due to RunTimeWarning, give up ')\n",
    "        except OptimizeWarning:\n",
    "            print(f' OptimizeWarning was raised for seed  = {seed} due to OptimizeWarning')\n",
    "        except RuntimeError:\n",
    "            print(f' fit failed for seed  = {seed}  due to RunTimeError')\n",
    "        except TypeError:\n",
    "            print(f' fit failed for seed  = {seed}  due to TypeError')\n",
    "\n",
    "    return fp, fr\n",
    "\n",
    "def fit_energy(e : np.array,\n",
    "               nbins   : int,\n",
    "               range   : Tuple[float],\n",
    "               n_sigma : float = 3.0)->FitCollection:\n",
    "    \"\"\"\n",
    "    Takes an \"energy vector\" (e.g, 1d array), with number of bins enbins and range erange, then:\n",
    "        1. Computes the histogram of e with enbins in erange. This returns an array of bin\n",
    "        edges (b), and bin contents (y). The array (b) is shifted to bin centers (x)\n",
    "        2. The arrays x and y are fitted to a gaussian, in a range given by an interval\n",
    "        arround the estimation of the maximum of the gaussian. The interval size is estimated\n",
    "        by multiplying n_sigma by the estimation of the gaussian std.\n",
    "    The result of the fit is a fit collection, that includes a FitPar and a HistoPar objects\n",
    "    needed for printing and plotting the fit result.\n",
    "       \"\"\"\n",
    "\n",
    "    y, b = np.histogram(e, bins= nbins, range=range)\n",
    "    x = shift_to_bin_centers(b)\n",
    "    bin_size = (range[1] - range[0]) / nbins\n",
    "    seed = gaussian_parameters(e, range, bin_size)\n",
    "\n",
    "    fp, fr = gaussian_fit(x, y, seed, n_sigma)\n",
    "\n",
    "    hp = HistoPar(var      = e,\n",
    "                  nbins    = nbins,\n",
    "                  range    = range)\n",
    "\n",
    "    return FitCollection(fp = fp, hp = hp, fr = fr)\n",
    "\n",
    "def mean_and_std(x : np.array, range_ : Tuple[Number, Number])->Tuple[Number, Number]:\n",
    "    \"\"\"Computes mean and std for an array within a range: takes into account nans\"\"\"\n",
    "\n",
    "    mu  = NN\n",
    "    std = NN\n",
    "\n",
    "    if all(np.isnan(x)):  # all elements are nan\n",
    "        mu  = NN\n",
    "        std = NN\n",
    "    else:\n",
    "        x_nonnan = x[np.isfinite(x)]\n",
    "        y = x_nonnan[in_range(x_nonnan, *range_)]\n",
    "        if len(y) == 0:\n",
    "            warnings.warn(f'warning, empty slice of x = {x} in range = {range_}')\n",
    "            mu  = NN\n",
    "            std = NN\n",
    "        else:\n",
    "            mu  = np.mean(y)\n",
    "            std = np.std(y)\n",
    "\n",
    "    return mu, std\n",
    "\n",
    "def par_and_err_from_seed(seed : GaussPar) ->Tuple[np.array, np.array]:\n",
    "    par = np.zeros(3)\n",
    "    err = np.zeros(3)\n",
    "    par[0] = seed.amp.value\n",
    "    par[1] = seed.mu.value\n",
    "    par[2] = seed.std.value\n",
    "    err[0] = seed.amp.uncertainty\n",
    "    err[1] = seed.mu.uncertainty\n",
    "    err[2] = seed.std.uncertainty\n",
    "    return par, err\n",
    "\n",
    "def gfit(x     : np.array,\n",
    "         y     : np.array,\n",
    "         yu    : np.array,\n",
    "         fseed : Tuple[float, float, float]) ->Tuple[FitPar, FitResult]:\n",
    "\n",
    "    f     = fitf.fit(fitf.gauss, x, y, fseed, sigma=yu)\n",
    "    c2    = chi2(f, x, y, yu)\n",
    "    par  = np.array(f.values)\n",
    "    err  = np.array(f.errors)\n",
    "    xu   = np.diff(x) * 0.5\n",
    "\n",
    "    fr = FitResult(par = par,\n",
    "                   err = err,\n",
    "                   chi2 = c2,\n",
    "                   valid = True)\n",
    "    fp = FitPar(x  = x, y  = y, xu = xu, yu = yu, f  = f.fn)\n",
    "\n",
    "    return fp, fr\n",
    "\n",
    "def chi2f(f   : Callable,\n",
    "          nfp : int,        # number of function parameters\n",
    "          x   : np.array,\n",
    "          y   : np.array,\n",
    "          yu  : np.array)->float:\n",
    "    \"\"\"\n",
    "    Computes the chi2 of a function f applied over array x and compared\n",
    "    with array y with error yu\n",
    "    \"\"\"\n",
    "\n",
    "    assert len(x) == len(y) == len(yu)\n",
    "    fitx  = f(x)\n",
    "    chi2_ = np.sum(((y - fitx) / yu)**2)\n",
    "\n",
    "    if len(x) > nfp:\n",
    "        return chi2_/(len(x)-nfp)\n",
    "    else:\n",
    "        warnings.warn('nof = 0 in chi2 calculation, return chi2 = {chi2_}', UserWarning)\n",
    "        return chi2_\n",
    "\n",
    "\n",
    "\n",
    "def chi2(f : FitFunction,\n",
    "         x : np.array,\n",
    "         y : np.array,\n",
    "         sy: np.array)->float:\n",
    "    \"\"\"\n",
    "    Computes the chi2 of a function f applied over array x and compared\n",
    "    with array y with error yu. The object f is of type FitFunction.\n",
    "    \"\"\"\n",
    "    return chi2f(f.fn, len(f.values), x, y, sy)\n",
    "\n",
    "def plot_fit_energy(fc : FitCollection):\n",
    "\n",
    "    if fc.fr.valid:\n",
    "        par  = fc.fr.par\n",
    "        x    = fc.hp.var\n",
    "        r    = 2.35 * 100 *  par[2] / par[1]\n",
    "        entries  =  f'Entries = {len(x)}'\n",
    "        mean     =  r'$\\mu$ = {:7.2f}'.format(par[1])\n",
    "        sigma    =  r'$\\sigma$ = {:7.2f}'.format(par[2])\n",
    "        rx       =  r'$\\sigma/mu$ (FWHM)  = {:7.2f}'.format(r)\n",
    "        stat     =  f'{entries}\\n{mean}\\n{sigma}\\n{rx}'\n",
    "\n",
    "        _, _, _   = plt.hist(fc.hp.var,\n",
    "                             bins = fc.hp.nbins,\n",
    "                             range=fc.hp.range,\n",
    "                             histtype='step',\n",
    "                             edgecolor='black',\n",
    "                             linewidth=1.5,\n",
    "                             label=stat)\n",
    "\n",
    "        plt.plot(fc.fp.x, fc.fp.f(fc.fp.x), \"r-\", lw=4)\n",
    "    else:\n",
    "        warnings.warn(f' fit did not succeed, cannot plot ', UserWarning)\n",
    "\n",
    "\n",
    "def print_fit_energy(fc : FitCollection):\n",
    "\n",
    "    par  = fc.fr.par\n",
    "    err  = fc.fr.err\n",
    "    try:\n",
    "        r  = 2.35 * 100 *  par[2] / par[1]\n",
    "        fe = np.sqrt(41 / 2458) * r\n",
    "        print(f'  Fit was valid = {fc.fr.valid}')\n",
    "        print(f' Emu       = {par[1]} +-{err[1]} ')\n",
    "        print(f' E sigma   = {par[2]} +-{err[2]} ')\n",
    "        print(f' chi2    = {fc.fr.chi2} ')\n",
    "\n",
    "        print(f' sigma E/E (FWHM)     (%) ={r}')\n",
    "        print(f' sigma E/E (FWHM) Qbb (%) ={fe} ')\n",
    "    except ZeroDivisionError:\n",
    "        warnings.warn(f' mu  = {par[1]} ', UserWarning)\n"
   ]
  },
  {
   "cell_type": "code",
   "execution_count": 11,
   "metadata": {},
   "outputs": [],
   "source": [
    "fe = fit_energy(events_allsipms.charge, 100, (np.min(events_allsipms.charge), np.max(events_allsipms.charge)))"
   ]
  },
  {
   "cell_type": "code",
   "execution_count": 12,
   "metadata": {},
   "outputs": [
    {
     "name": "stdout",
     "output_type": "stream",
     "text": [
      "  Fit was valid = True\n",
      " Emu       = 8216.57815438712 +-19.411588280210534 \n",
      " E sigma   = 144.31716195675804 +-16.7390068875065 \n",
      " chi2    = 0.32075072117340253 \n",
      " sigma E/E (FWHM)     (%) =4.127573841883312\n",
      " sigma E/E (FWHM) Qbb (%) =0.5330842366338624 \n"
     ]
    },
    {
     "data": {
      "image/png": "[encoded data removed]",
      "text/plain": [
       "<Figure size 432x288 with 1 Axes>"
      ]
     },
     "metadata": {
      "needs_background": "light"
     },
     "output_type": "display_data"
    }
   ],
   "source": [
    "plot_fit_energy(fe)\n",
    "plt.savefig('test')\n",
    "print_fit_energy(fe)"
   ]
  },
  {
   "cell_type": "code",
   "execution_count": 13,
   "metadata": {},
   "outputs": [
    {
     "data": {
      "text/plain": [
       "FitResult(par=array([4172.30870483, 8216.57815439,  144.31716196]), err=array([503.62215002,  19.41158828,  16.73900689]), chi2=0.32075072117340253, valid=True)"
      ]
     },
     "execution_count": 13,
     "metadata": {},
     "output_type": "execute_result"
    }
   ],
   "source": [
    "fe.fr"
   ]
  },
  {
   "cell_type": "code",
   "execution_count": 14,
   "metadata": {},
   "outputs": [
    {
     "ename": "TypeError",
     "evalue": "'FitResult' object is not subscriptable",
     "output_type": "error",
     "traceback": [
      "\u001b[0;31m---------------------------------------------------------------------------\u001b[0m",
      "\u001b[0;31mTypeError\u001b[0m                                 Traceback (most recent call last)",
      "\u001b[0;32m<ipython-input-14-e22b05fd0bcc>\u001b[0m in \u001b[0;36m<module>\u001b[0;34m\u001b[0m\n\u001b[0;32m----> 1\u001b[0;31m \u001b[0mfe\u001b[0m\u001b[0;34m.\u001b[0m\u001b[0mfr\u001b[0m\u001b[0;34m[\u001b[0m\u001b[0;36m0\u001b[0m\u001b[0;34m]\u001b[0m\u001b[0;34m\u001b[0m\u001b[0;34m\u001b[0m\u001b[0m\n\u001b[0m",
      "\u001b[0;31mTypeError\u001b[0m: 'FitResult' object is not subscriptable"
     ]
    }
   ],
   "source": [
    "fe.fr[0]"
   ]
  },
  {
   "cell_type": "code",
   "execution_count": null,
   "metadata": {},
   "outputs": [],
   "source": []
  },
  {
   "cell_type": "code",
   "execution_count": null,
   "metadata": {},
   "outputs": [],
   "source": []
  },
  {
   "cell_type": "code",
   "execution_count": null,
   "metadata": {},
   "outputs": [],
   "source": []
  },
  {
   "cell_type": "code",
   "execution_count": null,
   "metadata": {},
   "outputs": [],
   "source": []
  },
  {
   "cell_type": "code",
   "execution_count": null,
   "metadata": {},
   "outputs": [],
   "source": []
  },
  {
   "cell_type": "code",
   "execution_count": null,
   "metadata": {},
   "outputs": [],
   "source": []
  },
  {
   "cell_type": "code",
   "execution_count": 15,
   "metadata": {},
   "outputs": [
    {
     "ename": "NotImplementedError",
     "evalue": "Support for generic buffers has not been implemented.",
     "output_type": "error",
     "traceback": [
      "\u001b[0;31m---------------------------------------------------------------------------\u001b[0m",
      "\u001b[0;31mNotImplementedError\u001b[0m                       Traceback (most recent call last)",
      "\u001b[0;32m<ipython-input-15-b83eb4bb4f9e>\u001b[0m in \u001b[0;36m<module>\u001b[0;34m\u001b[0m\n\u001b[1;32m      5\u001b[0m \u001b[0mevents_allpmts8\u001b[0m \u001b[0;34m=\u001b[0m \u001b[0mpd\u001b[0m\u001b[0;34m.\u001b[0m\u001b[0mDataFrame\u001b[0m\u001b[0;34m(\u001b[0m\u001b[0;34m)\u001b[0m\u001b[0;34m\u001b[0m\u001b[0;34m\u001b[0m\u001b[0m\n\u001b[1;32m      6\u001b[0m \u001b[0;32mfor\u001b[0m \u001b[0mfile\u001b[0m \u001b[0;32min\u001b[0m \u001b[0;34m[\u001b[0m\u001b[0mtest_file\u001b[0m\u001b[0;34m]\u001b[0m\u001b[0;34m:\u001b[0m\u001b[0;34m\u001b[0m\u001b[0;34m\u001b[0m\u001b[0m\n\u001b[0;32m----> 7\u001b[0;31m     \u001b[0msns_response\u001b[0m \u001b[0;34m=\u001b[0m \u001b[0mpd\u001b[0m\u001b[0;34m.\u001b[0m\u001b[0mread_hdf\u001b[0m\u001b[0;34m(\u001b[0m\u001b[0mfile\u001b[0m\u001b[0;34m,\u001b[0m \u001b[0;34m'MC/sns_response'\u001b[0m\u001b[0;34m)\u001b[0m\u001b[0;34m\u001b[0m\u001b[0;34m\u001b[0m\u001b[0m\n\u001b[0m\u001b[1;32m      8\u001b[0m     \u001b[0msns_positions\u001b[0m \u001b[0;34m=\u001b[0m \u001b[0mpd\u001b[0m\u001b[0;34m.\u001b[0m\u001b[0mread_hdf\u001b[0m\u001b[0;34m(\u001b[0m\u001b[0mfile\u001b[0m\u001b[0;34m,\u001b[0m \u001b[0;34m'MC/sns_positions'\u001b[0m\u001b[0;34m)\u001b[0m\u001b[0;34m\u001b[0m\u001b[0;34m\u001b[0m\u001b[0m\n\u001b[1;32m      9\u001b[0m \u001b[0;34m\u001b[0m\u001b[0m\n",
      "\u001b[0;32m~/anaconda3/envs/IC-3.7-2020-06-16/lib/python3.7/site-packages/pandas/io/pytables.py\u001b[0m in \u001b[0;36mread_hdf\u001b[0;34m(path_or_buf, key, mode, errors, where, start, stop, columns, iterator, chunksize, **kwargs)\u001b[0m\n\u001b[1;32m    383\u001b[0m         \u001b[0;32mif\u001b[0m \u001b[0;32mnot\u001b[0m \u001b[0misinstance\u001b[0m\u001b[0;34m(\u001b[0m\u001b[0mpath_or_buf\u001b[0m\u001b[0;34m,\u001b[0m \u001b[0mstr\u001b[0m\u001b[0;34m)\u001b[0m\u001b[0;34m:\u001b[0m\u001b[0;34m\u001b[0m\u001b[0;34m\u001b[0m\u001b[0m\n\u001b[1;32m    384\u001b[0m             raise NotImplementedError(\n\u001b[0;32m--> 385\u001b[0;31m                 \u001b[0;34m\"Support for generic buffers has not been implemented.\"\u001b[0m\u001b[0;34m\u001b[0m\u001b[0;34m\u001b[0m\u001b[0m\n\u001b[0m\u001b[1;32m    386\u001b[0m             )\n\u001b[1;32m    387\u001b[0m         \u001b[0;32mtry\u001b[0m\u001b[0;34m:\u001b[0m\u001b[0;34m\u001b[0m\u001b[0;34m\u001b[0m\u001b[0m\n",
      "\u001b[0;31mNotImplementedError\u001b[0m: Support for generic buffers has not been implemented."
     ]
    }
   ],
   "source": [
    "all_sipms8 = pd.DataFrame()\n",
    "all_pmts8 = pd.DataFrame()\n",
    "events_allsensors8 = pd.DataFrame()\n",
    "events_allsipms8 = pd.DataFrame()\n",
    "events_allpmts8 = pd.DataFrame()\n",
    "for file in [test_file]:\n",
    "    sns_response = pd.read_hdf(file, 'MC/sns_response')\n",
    "    sns_positions = pd.read_hdf(file, 'MC/sns_positions')\n",
    "\n",
    "    # Sort to get the sipms\n",
    "    sns_pos_sorted = sns_positions.sort_values(by=['sensor_id'])\n",
    "    sipm_positions = sns_pos_sorted[sns_pos_sorted[\"sensor_name\"].str.contains(\"SiPM\")]\n",
    "\n",
    "    # Sort to sum up all charges for each sipms\n",
    "    sns_response_sorted = sns_response.sort_values(by=['sensor_id'])\n",
    "    sipm_response = sns_response_sorted.loc[sns_response_sorted[\"sensor_id\"] >999]\n",
    "    response_byid = sipm_response.groupby('sensor_id')\n",
    "    summed_charges = response_byid.agg({\"charge\":\"sum\"}) \n",
    "\n",
    "    # Make data frame with sipms ids, position, and total charge\n",
    "    new_sipm_positions = sipm_positions.set_index('sensor_id')\n",
    "    new_df = pd.concat([new_sipm_positions.iloc[:,1:5], summed_charges], axis=1)\n",
    "    all_sipms8 = all_sipms8.append(new_df)\n",
    "    \n",
    "    # Sum of charges in an event\n",
    "    response_byevent = sns_response_sorted.groupby('event_id')\n",
    "    event_charge = response_byevent.agg({\"charge\":\"sum\"})\n",
    "    events_allsensors8 = events_allsensors8.append(event_charge)\n",
    "    \n",
    "    # Sum of charges in sipms per event\n",
    "    this = sipm_response.groupby('event_id')\n",
    "    charges = this.agg({\"charge\":\"sum\"})\n",
    "    events_allsipms8 = events_allsipms8.append(charges)\n",
    "    \n",
    "    # pmts\n",
    "    pmt_response = sns_response_sorted.loc[sns_response_sorted[\"sensor_id\"] < 60]\n",
    "    response_byid_pmt = pmt_response.groupby('sensor_id')\n",
    "    summed_charges_pmt = response_byid_pmt.agg({\"charge\":\"sum\"})\n",
    "    pmt_positions = sns_pos_sorted[sns_pos_sorted[\"sensor_name\"].str.contains(\"Pmt\")]\n",
    "    new_pmt_positions = pmt_positions.set_index('sensor_id')\n",
    "    new_df_pmt = pd.concat([new_pmt_positions.iloc[:,1:5], summed_charges_pmt], axis=1)\n",
    "    all_pmts8 = all_pmts8.append(new_df_pmt)\n",
    "    \n",
    "    this_pmts = pmt_response.groupby('event_id')\n",
    "    charges_pmt = this_pmts.agg({\"charge\":\"sum\"})\n",
    "    events_allpmts8 = events_allpmts8.append(charges_pmt)"
   ]
  },
  {
   "cell_type": "code",
   "execution_count": 16,
   "metadata": {},
   "outputs": [],
   "source": [
    "def DrawSiPM(t, s):\n",
    "    # drawing first side\n",
    "    t.forward(s) # Forward turtle by s units\n",
    "    t.left(90) # Turn turtle by 90 degree\n",
    "\n",
    "    # drawing second side\n",
    "    t.forward(s) # Forward turtle by s units\n",
    "    t.left(90) # Turn turtle by 90 degree\n",
    "\n",
    "    # drawing third side\n",
    "    t.forward(s) # Forward turtle by s units\n",
    "    t.left(90) # Turn turtle by 90 degree\n",
    "\n",
    "    # drawing fourth side\n",
    "    t.forward(s) # Forward turtle by s units\n",
    "    t.left(90) # Turn turtle by 90 degree"
   ]
  },
  {
   "cell_type": "code",
   "execution_count": 17,
   "metadata": {},
   "outputs": [],
   "source": [
    "import turtle\n",
    "#x = [x for x in sipm_positions.x]\n",
    "#y = [y for y in sipm_positions.y]\n",
    "s = 5 # mm\n",
    "t = turtle.Turtle() \n",
    "window = turtle.Screen()\n",
    "window.bgcolor(\"white\")\n",
    "window.exitonclick()"
   ]
  },
  {
   "cell_type": "code",
   "execution_count": 16,
   "metadata": {},
   "outputs": [
    {
     "ename": "NameError",
     "evalue": "name 'DrawSiPM' is not defined",
     "output_type": "error",
     "traceback": [
      "\u001b[0;31m---------------------------------------------------------------------------\u001b[0m",
      "\u001b[0;31mNameError\u001b[0m                                 Traceback (most recent call last)",
      "\u001b[0;32m<ipython-input-16-b765ed7c88fe>\u001b[0m in \u001b[0;36m<module>\u001b[0;34m\u001b[0m\n\u001b[0;32m----> 1\u001b[0;31m \u001b[0mDrawSiPM\u001b[0m\u001b[0;34m(\u001b[0m\u001b[0mt\u001b[0m\u001b[0;34m,\u001b[0m \u001b[0ms\u001b[0m\u001b[0;34m)\u001b[0m\u001b[0;34m\u001b[0m\u001b[0;34m\u001b[0m\u001b[0m\n\u001b[0m\u001b[1;32m      2\u001b[0m \u001b[0mt\u001b[0m\u001b[0;34m.\u001b[0m\u001b[0mcircle\u001b[0m\u001b[0;34m(\u001b[0m\u001b[0;36m10\u001b[0m\u001b[0;34m)\u001b[0m\u001b[0;34m\u001b[0m\u001b[0;34m\u001b[0m\u001b[0m\n",
      "\u001b[0;31mNameError\u001b[0m: name 'DrawSiPM' is not defined"
     ]
    }
   ],
   "source": [
    "DrawSiPM(t, s)\n",
    "t.circle(10)"
   ]
  },
  {
   "cell_type": "code",
   "execution_count": null,
   "metadata": {},
   "outputs": [],
   "source": [
    "import pygame\n",
    "\n",
    "pygame.init()\n",
    "\n",
    "white = (255,255,255)\n",
    "black = (0,0,0)\n",
    "\n",
    "red = (255,0,0)\n",
    "green = (0,255,0)\n",
    "blue = (0,0,255)\n",
    "\n",
    "gameDisplay = pygame.display.set_mode((800,600))\n",
    "gameDisplay.fill(black)"
   ]
  },
  {
   "cell_type": "code",
   "execution_count": null,
   "metadata": {},
   "outputs": [],
   "source": []
  },
  {
   "cell_type": "code",
   "execution_count": null,
   "metadata": {},
   "outputs": [],
   "source": []
  },
  {
   "cell_type": "code",
   "execution_count": null,
   "metadata": {
    "scrolled": true
   },
   "outputs": [],
   "source": [
    "plt.hist(events_allsensors.charge, label=\"10mm pitch\")\n",
    "#plt.hist(events_allsensors8.charge, label='8mm pitch')\n",
    "plt.xlabel(\"Charge per event [pes]\")\n",
    "plt.title(\"NEXT-100, 6mm sipms\")\n",
    "plt.legend()\n",
    "plt.show()\n",
    "\n",
    "plt.hist(events_allsensors.charge, label=\"All sensors\", histtype=\"step\", bins=50, range=(0,16000), linewidth=2)\n",
    "plt.hist(events_allsipms.charge, label=\"SiPMs\", histtype=\"step\", bins=50, range=(0,16000), linewidth=2)\n",
    "plt.hist(events_allpmts.charge, label=\"PMTs\", histtype=\"step\", bins=50, range=(0,16000), linewidth=2)\n",
    "plt.xlabel(\"Charge per event [pes]\")\n",
    "plt.title(\"NEXT-100, 6mm sipms, 10mm pitch\")\n",
    "plt.legend()\n",
    "plt.show()\n",
    "\n",
    "#plt.hist(events_allsensors8.charge, label=\"All sensors\", histtype=\"step\", bins=50, range=(0,16000), linewidth=2)\n",
    "#plt.hist(events_allsipms8.charge, label=\"SiPMs\", histtype=\"step\", bins=50, range=(0,16000), linewidth=2)\n",
    "#plt.hist(events_allpmts8.charge, label=\"PMTs\", histtype=\"step\", bins=50, range=(0,16000), linewidth=2)\n",
    "#plt.xlabel(\"Charge per event [pes]\")\n",
    "#plt.title(\"NEXT-100, 6mm sipms, 8mm pitch\")\n",
    "#plt.legend()\n",
    "#plt.show()\n",
    "\n",
    "# Plot sipm positions\n",
    "#XYrange       =  -500, 500\n",
    "#hist2d(sipm_positions.x, sipm_positions.y, (25,25), [XYrange, XYrange])\n",
    "#plt.plot(sipm_positions.x, sipm_positions.y, \".\")\n",
    "#plt.xlim(-50,50)\n",
    "#plt.ylim(-50,50)\n",
    "#plt.savefig(\"sipm_positions.png\")\n",
    "#plt.close()\n"
   ]
  },
  {
   "cell_type": "code",
   "execution_count": null,
   "metadata": {},
   "outputs": [],
   "source": [
    "print(EnergyRes(events_allsensors.charge),EnergyRes(events_allpmts.charge), EnergyRes(events_allsipms.charge))"
   ]
  },
  {
   "cell_type": "code",
   "execution_count": null,
   "metadata": {},
   "outputs": [],
   "source": [
    "y = events_allsipms8.charge.nunique()"
   ]
  },
  {
   "cell_type": "code",
   "execution_count": null,
   "metadata": {},
   "outputs": [],
   "source": [
    "plt.plot(events_allsipms8.apply(lambda x: (x//100)*100).sort_values('charge').charge.value_counts(), 'o')"
   ]
  },
  {
   "cell_type": "code",
   "execution_count": null,
   "metadata": {},
   "outputs": [],
   "source": [
    "x = events_allsipms8.apply(lambda x: (x//100)*100).sort_values('charge').charge\n",
    "y = x.value_counts()"
   ]
  },
  {
   "cell_type": "code",
   "execution_count": null,
   "metadata": {},
   "outputs": [],
   "source": [
    "def gaus(x,a,x0,sigma):\n",
    "    return a*np.exp(-(x-x0)**2/(2*sigma**2))"
   ]
  },
  {
   "cell_type": "code",
   "execution_count": null,
   "metadata": {},
   "outputs": [],
   "source": [
    "#popt, pcov = curve_fit(gaus, x.unique(), y)\n",
    "mean,std=norm.fit(events_allsipms8)"
   ]
  },
  {
   "cell_type": "code",
   "execution_count": null,
   "metadata": {},
   "outputs": [],
   "source": [
    "mean, std"
   ]
  },
  {
   "cell_type": "markdown",
   "metadata": {},
   "source": [
    "# Testing noise thresholding"
   ]
  },
  {
   "cell_type": "code",
   "execution_count": 25,
   "metadata": {},
   "outputs": [],
   "source": [
    "dark_rate = 10.\n",
    "dark_count  = sipm_timing*dark_rate\n",
    "dark_count = dark_count.rename(columns={0:'dark_count'})\n",
    "def Thresh_by_Event(group, args=dark_count):\n",
    "    event = group.index.tolist()[0] #.event_id.max()\n",
    "    thresh = dark_count.loc[event].dark_count\n",
    "    return group[group.charge > thresh]"
   ]
  },
  {
   "cell_type": "code",
   "execution_count": 26,
   "metadata": {},
   "outputs": [
    {
     "name": "stdout",
     "output_type": "stream",
     "text": [
      "event_id  event_id\n",
      "100       100         8138\n",
      "101       101         8255\n",
      "102       102         8254\n",
      "103       103         4683\n",
      "104       104         8377\n",
      "105       105         7794\n",
      "106       106         8142\n",
      "107       107         8235\n",
      "108       108         8221\n",
      "109       109         8082\n",
      "110       110         8205\n",
      "111       111         8366\n",
      "112       112         8133\n",
      "113       113         8053\n",
      "114       114         8220\n",
      "115       115         8066\n",
      "116       116         8175\n",
      "117       117         3017\n",
      "118       118         7994\n",
      "119       119         6956\n",
      "120       120         8185\n",
      "121       121         8489\n",
      "122       122         8431\n",
      "123       123         8053\n",
      "124       124         8187\n",
      "125       125         8320\n",
      "126       126         8421\n",
      "127       127         8271\n",
      "128       128         8175\n",
      "129       129         8108\n",
      "                      ... \n",
      "170       170         3312\n",
      "171       171         7611\n",
      "172       172         8144\n",
      "173       173         8398\n",
      "174       174         8037\n",
      "175       175         7376\n",
      "176       176         6607\n",
      "177       177         8404\n",
      "178       178         8126\n",
      "179       179         8277\n",
      "180       180         8282\n",
      "181       181         8218\n",
      "182       182         8003\n",
      "183       183         3312\n",
      "184       184         7811\n",
      "185       185         8144\n",
      "186       186         8361\n",
      "187       187         8200\n",
      "188       188         8012\n",
      "189       189         8038\n",
      "190       190         8186\n",
      "191       191         8307\n",
      "192       192         8138\n",
      "193       193         8070\n",
      "194       194         8491\n",
      "195       195         7171\n",
      "196       196         7844\n",
      "197       197         7364\n",
      "198       198         7970\n",
      "199       199         7647\n",
      "Name: charge, Length: 100, dtype: uint32\n"
     ]
    }
   ],
   "source": [
    "this = events_allsipms.groupby('event_id')\n",
    "thresh_sipm_response = this.apply(Thresh_by_Event, args=(dark_count))#.set_index('event_id') #.groupby('event_id')\n",
    "#for grp, _ in this:\n",
    "#    event = _.index.tolist()[0] #.event_id.max()\n",
    "#    thresh = dark_count.loc[event].dark_count\n",
    "#    print(_.charge > thresh)\n",
    "\n",
    "print(thresh_sipm_response.charge)"
   ]
  },
  {
   "cell_type": "code",
   "execution_count": null,
   "metadata": {},
   "outputs": [],
   "source": []
  },
  {
   "cell_type": "code",
   "execution_count": null,
   "metadata": {},
   "outputs": [],
   "source": []
  },
  {
   "cell_type": "code",
   "execution_count": 27,
   "metadata": {},
   "outputs": [
    {
     "name": "stdout",
     "output_type": "stream",
     "text": [
      "dark_count    134.3\n",
      "dtype: float64\n"
     ]
    }
   ],
   "source": [
    "all_sipms = pd.DataFrame()\n",
    "all_pmts = pd.DataFrame()\n",
    "events_allsensors = pd.DataFrame()\n",
    "events_allsipms = pd.DataFrame()\n",
    "events_allpmts = pd.DataFrame()\n",
    "sipm_timing = pd.DataFrame()\n",
    "pmt_timing = pd.DataFrame()\n",
    "for file in test_file:\n",
    "    sns_response = pd.read_hdf(file, 'MC/sns_response')\n",
    "    sns_positions = pd.read_hdf(file, 'MC/sns_positions')\n",
    "    \n",
    "    # Sort to get the sipms\n",
    "    sns_pos_sorted = sns_positions.sort_values(by=['sensor_id'])\n",
    "    sipm_positions = sns_pos_sorted[sns_pos_sorted[\"sensor_name\"].str.contains(\"SiPM\")]\n",
    "\n",
    "    # Sort to sum up all charges for each sipms\n",
    "    sns_response_sorted = sns_response.sort_values(by=['sensor_id'])\n",
    "    sipm_response = sns_response_sorted.loc[sns_response_sorted[\"sensor_id\"] >999]\n",
    "    sipm_response = sipm_response.loc[sipm_response[\"time_bin\"] >0]\n",
    "    response_byid = sipm_response.groupby('sensor_id')\n",
    "    summed_charges = response_byid.agg({\"charge\":\"sum\"}) \n",
    "\n",
    "    # Make data frame with sipms ids, position, and total charge\n",
    "    new_sipm_positions = sipm_positions.set_index('sensor_id')\n",
    "    new_df = pd.concat([new_sipm_positions.iloc[:,1:5], summed_charges], axis=1)\n",
    "    all_sipms = all_sipms.append(new_df)\n",
    "    \n",
    "    # Sum of charges in an event\n",
    "    response_byevent = sns_response_sorted.groupby('event_id')\n",
    "    event_charge = response_byevent.agg({\"charge\":\"sum\"})\n",
    "    events_allsensors = events_allsensors.append(event_charge)\n",
    "    \n",
    "    # Sum of charges in sipms per event\n",
    "    this = sipm_response.groupby('event_id')\n",
    "    charges = this.agg({\"charge\":\"sum\"})\n",
    "    events_allsipms = events_allsipms.append(charges)\n",
    "    \n",
    "    # pmts\n",
    "    pmt_response = sns_response_sorted.loc[sns_response_sorted[\"sensor_id\"] < 60]\n",
    "    pmt_response = pmt_response.loc[pmt_response[\"time_bin\"] >0]\n",
    "    response_byid_pmt = pmt_response.groupby('sensor_id')\n",
    "    summed_charges_pmt = response_byid_pmt.agg({\"charge\":\"sum\"})\n",
    "    pmt_positions = sns_pos_sorted[sns_pos_sorted[\"sensor_name\"].str.contains(\"Pmt\")]\n",
    "    new_pmt_positions = pmt_positions.set_index('sensor_id')\n",
    "    new_df_pmt = pd.concat([new_pmt_positions.iloc[:,1:5], summed_charges_pmt], axis=1)\n",
    "    all_pmts = all_pmts.append(new_df_pmt)\n",
    "    \n",
    "    # Sum of charges in pmts per event\n",
    "    this_pmts = pmt_response.groupby('event_id')\n",
    "    charges_pmt = this_pmts.agg({\"charge\":\"sum\"})\n",
    "    events_allpmts = events_allpmts.append(charges_pmt)\n",
    "    \n",
    "    # Time length of events\n",
    "    pmt_timing = pmt_timing.append(pmt_response.groupby(['event_id'])\\\n",
    "                    .apply(lambda group: group['time_bin'].max() - group['time_bin'].min()).to_frame())\n",
    "    sipm_timing = sipm_timing.append(sipm_response.groupby(['event_id'])\\\n",
    "                    .apply(lambda group: group['time_bin'].max() - group['time_bin'].min()).to_frame())\n",
    "\n",
    "    # Threshold event based on dark noise\n",
    "    this = events_allsipms.groupby('event_id')\n",
    "    dark_rate = 10.\n",
    "    dark_count  = sipm_timing*dark_rate\n",
    "    dark_count = dark_count.rename(columns={0:'dark_count'})\n",
    "    print(dark_count.mean())\n",
    "    thresh_sipm_response = this.apply(Thresh_by_Event, args=(dark_count))#.set_index('event_id') #.groupby('event_id')\n"
   ]
  },
  {
   "cell_type": "code",
   "execution_count": 29,
   "metadata": {},
   "outputs": [
    {
     "data": {
      "text/html": [
       "<div>\n",
       "<style scoped>\n",
       "    .dataframe tbody tr th:only-of-type {\n",
       "        vertical-align: middle;\n",
       "    }\n",
       "\n",
       "    .dataframe tbody tr th {\n",
       "        vertical-align: top;\n",
       "    }\n",
       "\n",
       "    .dataframe thead th {\n",
       "        text-align: right;\n",
       "    }\n",
       "</style>\n",
       "<table border=\"1\" class=\"dataframe\">\n",
       "  <thead>\n",
       "    <tr style=\"text-align: right;\">\n",
       "      <th></th>\n",
       "      <th>dark_count</th>\n",
       "    </tr>\n",
       "    <tr>\n",
       "      <th>event_id</th>\n",
       "      <th></th>\n",
       "    </tr>\n",
       "  </thead>\n",
       "  <tbody>\n",
       "    <tr>\n",
       "      <th>100</th>\n",
       "      <td>180.0</td>\n",
       "    </tr>\n",
       "    <tr>\n",
       "      <th>101</th>\n",
       "      <td>100.0</td>\n",
       "    </tr>\n",
       "    <tr>\n",
       "      <th>102</th>\n",
       "      <td>120.0</td>\n",
       "    </tr>\n",
       "    <tr>\n",
       "      <th>103</th>\n",
       "      <td>100.0</td>\n",
       "    </tr>\n",
       "    <tr>\n",
       "      <th>104</th>\n",
       "      <td>110.0</td>\n",
       "    </tr>\n",
       "    <tr>\n",
       "      <th>105</th>\n",
       "      <td>90.0</td>\n",
       "    </tr>\n",
       "    <tr>\n",
       "      <th>106</th>\n",
       "      <td>120.0</td>\n",
       "    </tr>\n",
       "    <tr>\n",
       "      <th>107</th>\n",
       "      <td>120.0</td>\n",
       "    </tr>\n",
       "    <tr>\n",
       "      <th>108</th>\n",
       "      <td>170.0</td>\n",
       "    </tr>\n",
       "    <tr>\n",
       "      <th>109</th>\n",
       "      <td>100.0</td>\n",
       "    </tr>\n",
       "    <tr>\n",
       "      <th>110</th>\n",
       "      <td>120.0</td>\n",
       "    </tr>\n",
       "    <tr>\n",
       "      <th>111</th>\n",
       "      <td>150.0</td>\n",
       "    </tr>\n",
       "    <tr>\n",
       "      <th>112</th>\n",
       "      <td>160.0</td>\n",
       "    </tr>\n",
       "    <tr>\n",
       "      <th>113</th>\n",
       "      <td>190.0</td>\n",
       "    </tr>\n",
       "    <tr>\n",
       "      <th>114</th>\n",
       "      <td>170.0</td>\n",
       "    </tr>\n",
       "    <tr>\n",
       "      <th>115</th>\n",
       "      <td>160.0</td>\n",
       "    </tr>\n",
       "    <tr>\n",
       "      <th>116</th>\n",
       "      <td>110.0</td>\n",
       "    </tr>\n",
       "    <tr>\n",
       "      <th>117</th>\n",
       "      <td>130.0</td>\n",
       "    </tr>\n",
       "    <tr>\n",
       "      <th>118</th>\n",
       "      <td>150.0</td>\n",
       "    </tr>\n",
       "    <tr>\n",
       "      <th>119</th>\n",
       "      <td>110.0</td>\n",
       "    </tr>\n",
       "    <tr>\n",
       "      <th>120</th>\n",
       "      <td>130.0</td>\n",
       "    </tr>\n",
       "    <tr>\n",
       "      <th>121</th>\n",
       "      <td>140.0</td>\n",
       "    </tr>\n",
       "    <tr>\n",
       "      <th>122</th>\n",
       "      <td>50.0</td>\n",
       "    </tr>\n",
       "    <tr>\n",
       "      <th>123</th>\n",
       "      <td>50.0</td>\n",
       "    </tr>\n",
       "    <tr>\n",
       "      <th>124</th>\n",
       "      <td>130.0</td>\n",
       "    </tr>\n",
       "    <tr>\n",
       "      <th>125</th>\n",
       "      <td>80.0</td>\n",
       "    </tr>\n",
       "    <tr>\n",
       "      <th>126</th>\n",
       "      <td>160.0</td>\n",
       "    </tr>\n",
       "    <tr>\n",
       "      <th>127</th>\n",
       "      <td>90.0</td>\n",
       "    </tr>\n",
       "    <tr>\n",
       "      <th>128</th>\n",
       "      <td>130.0</td>\n",
       "    </tr>\n",
       "    <tr>\n",
       "      <th>129</th>\n",
       "      <td>50.0</td>\n",
       "    </tr>\n",
       "    <tr>\n",
       "      <th>...</th>\n",
       "      <td>...</td>\n",
       "    </tr>\n",
       "    <tr>\n",
       "      <th>170</th>\n",
       "      <td>170.0</td>\n",
       "    </tr>\n",
       "    <tr>\n",
       "      <th>171</th>\n",
       "      <td>60.0</td>\n",
       "    </tr>\n",
       "    <tr>\n",
       "      <th>172</th>\n",
       "      <td>160.0</td>\n",
       "    </tr>\n",
       "    <tr>\n",
       "      <th>173</th>\n",
       "      <td>100.0</td>\n",
       "    </tr>\n",
       "    <tr>\n",
       "      <th>174</th>\n",
       "      <td>160.0</td>\n",
       "    </tr>\n",
       "    <tr>\n",
       "      <th>175</th>\n",
       "      <td>100.0</td>\n",
       "    </tr>\n",
       "    <tr>\n",
       "      <th>176</th>\n",
       "      <td>130.0</td>\n",
       "    </tr>\n",
       "    <tr>\n",
       "      <th>177</th>\n",
       "      <td>110.0</td>\n",
       "    </tr>\n",
       "    <tr>\n",
       "      <th>178</th>\n",
       "      <td>100.0</td>\n",
       "    </tr>\n",
       "    <tr>\n",
       "      <th>179</th>\n",
       "      <td>130.0</td>\n",
       "    </tr>\n",
       "    <tr>\n",
       "      <th>180</th>\n",
       "      <td>170.0</td>\n",
       "    </tr>\n",
       "    <tr>\n",
       "      <th>181</th>\n",
       "      <td>160.0</td>\n",
       "    </tr>\n",
       "    <tr>\n",
       "      <th>182</th>\n",
       "      <td>130.0</td>\n",
       "    </tr>\n",
       "    <tr>\n",
       "      <th>183</th>\n",
       "      <td>180.0</td>\n",
       "    </tr>\n",
       "    <tr>\n",
       "      <th>184</th>\n",
       "      <td>160.0</td>\n",
       "    </tr>\n",
       "    <tr>\n",
       "      <th>185</th>\n",
       "      <td>170.0</td>\n",
       "    </tr>\n",
       "    <tr>\n",
       "      <th>186</th>\n",
       "      <td>140.0</td>\n",
       "    </tr>\n",
       "    <tr>\n",
       "      <th>187</th>\n",
       "      <td>170.0</td>\n",
       "    </tr>\n",
       "    <tr>\n",
       "      <th>188</th>\n",
       "      <td>120.0</td>\n",
       "    </tr>\n",
       "    <tr>\n",
       "      <th>189</th>\n",
       "      <td>70.0</td>\n",
       "    </tr>\n",
       "    <tr>\n",
       "      <th>190</th>\n",
       "      <td>120.0</td>\n",
       "    </tr>\n",
       "    <tr>\n",
       "      <th>191</th>\n",
       "      <td>170.0</td>\n",
       "    </tr>\n",
       "    <tr>\n",
       "      <th>192</th>\n",
       "      <td>160.0</td>\n",
       "    </tr>\n",
       "    <tr>\n",
       "      <th>193</th>\n",
       "      <td>150.0</td>\n",
       "    </tr>\n",
       "    <tr>\n",
       "      <th>194</th>\n",
       "      <td>150.0</td>\n",
       "    </tr>\n",
       "    <tr>\n",
       "      <th>195</th>\n",
       "      <td>130.0</td>\n",
       "    </tr>\n",
       "    <tr>\n",
       "      <th>196</th>\n",
       "      <td>160.0</td>\n",
       "    </tr>\n",
       "    <tr>\n",
       "      <th>197</th>\n",
       "      <td>160.0</td>\n",
       "    </tr>\n",
       "    <tr>\n",
       "      <th>198</th>\n",
       "      <td>140.0</td>\n",
       "    </tr>\n",
       "    <tr>\n",
       "      <th>199</th>\n",
       "      <td>180.0</td>\n",
       "    </tr>\n",
       "  </tbody>\n",
       "</table>\n",
       "<p>100 rows × 1 columns</p>\n",
       "</div>"
      ],
      "text/plain": [
       "          dark_count\n",
       "event_id            \n",
       "100            180.0\n",
       "101            100.0\n",
       "102            120.0\n",
       "103            100.0\n",
       "104            110.0\n",
       "105             90.0\n",
       "106            120.0\n",
       "107            120.0\n",
       "108            170.0\n",
       "109            100.0\n",
       "110            120.0\n",
       "111            150.0\n",
       "112            160.0\n",
       "113            190.0\n",
       "114            170.0\n",
       "115            160.0\n",
       "116            110.0\n",
       "117            130.0\n",
       "118            150.0\n",
       "119            110.0\n",
       "120            130.0\n",
       "121            140.0\n",
       "122             50.0\n",
       "123             50.0\n",
       "124            130.0\n",
       "125             80.0\n",
       "126            160.0\n",
       "127             90.0\n",
       "128            130.0\n",
       "129             50.0\n",
       "...              ...\n",
       "170            170.0\n",
       "171             60.0\n",
       "172            160.0\n",
       "173            100.0\n",
       "174            160.0\n",
       "175            100.0\n",
       "176            130.0\n",
       "177            110.0\n",
       "178            100.0\n",
       "179            130.0\n",
       "180            170.0\n",
       "181            160.0\n",
       "182            130.0\n",
       "183            180.0\n",
       "184            160.0\n",
       "185            170.0\n",
       "186            140.0\n",
       "187            170.0\n",
       "188            120.0\n",
       "189             70.0\n",
       "190            120.0\n",
       "191            170.0\n",
       "192            160.0\n",
       "193            150.0\n",
       "194            150.0\n",
       "195            130.0\n",
       "196            160.0\n",
       "197            160.0\n",
       "198            140.0\n",
       "199            180.0\n",
       "\n",
       "[100 rows x 1 columns]"
      ]
     },
     "execution_count": 29,
     "metadata": {},
     "output_type": "execute_result"
    }
   ],
   "source": [
    "sipm_timin"
   ]
  },
  {
   "cell_type": "code",
   "execution_count": 28,
   "metadata": {},
   "outputs": [
    {
     "ename": "NameError",
     "evalue": "name 'thresh_sipm_response' is not defined",
     "output_type": "error",
     "traceback": [
      "\u001b[0;31m---------------------------------------------------------------------------\u001b[0m",
      "\u001b[0;31mNameError\u001b[0m                                 Traceback (most recent call last)",
      "\u001b[0;32m<ipython-input-28-ce38af892db1>\u001b[0m in \u001b[0;36m<module>\u001b[0;34m\u001b[0m\n\u001b[0;32m----> 1\u001b[0;31m \u001b[0mfe\u001b[0m \u001b[0;34m=\u001b[0m \u001b[0mfit_energy\u001b[0m\u001b[0;34m(\u001b[0m\u001b[0mthresh_sipm_response\u001b[0m\u001b[0;34m.\u001b[0m\u001b[0mcharge\u001b[0m\u001b[0;34m,\u001b[0m \u001b[0;36m100\u001b[0m\u001b[0;34m,\u001b[0m \u001b[0;34m(\u001b[0m\u001b[0mnp\u001b[0m\u001b[0;34m.\u001b[0m\u001b[0mmin\u001b[0m\u001b[0;34m(\u001b[0m\u001b[0mthresh_sipm_response\u001b[0m\u001b[0;34m.\u001b[0m\u001b[0mcharge\u001b[0m\u001b[0;34m)\u001b[0m\u001b[0;34m,\u001b[0m \u001b[0mnp\u001b[0m\u001b[0;34m.\u001b[0m\u001b[0mmax\u001b[0m\u001b[0;34m(\u001b[0m\u001b[0mthresh_sipm_response\u001b[0m\u001b[0;34m.\u001b[0m\u001b[0mcharge\u001b[0m\u001b[0;34m)\u001b[0m\u001b[0;34m)\u001b[0m\u001b[0;34m)\u001b[0m\u001b[0;34m\u001b[0m\u001b[0;34m\u001b[0m\u001b[0m\n\u001b[0m\u001b[1;32m      2\u001b[0m \u001b[0;34m\u001b[0m\u001b[0m\n\u001b[1;32m      3\u001b[0m \u001b[0mplot_fit_energy\u001b[0m\u001b[0;34m(\u001b[0m\u001b[0mfe\u001b[0m\u001b[0;34m)\u001b[0m\u001b[0;34m\u001b[0m\u001b[0;34m\u001b[0m\u001b[0m\n\u001b[1;32m      4\u001b[0m \u001b[0mplt\u001b[0m\u001b[0;34m.\u001b[0m\u001b[0msavefig\u001b[0m\u001b[0;34m(\u001b[0m\u001b[0;34m'test'\u001b[0m\u001b[0;34m)\u001b[0m\u001b[0;34m\u001b[0m\u001b[0;34m\u001b[0m\u001b[0m\n\u001b[1;32m      5\u001b[0m \u001b[0mprint_fit_energy\u001b[0m\u001b[0;34m(\u001b[0m\u001b[0mfe\u001b[0m\u001b[0;34m)\u001b[0m\u001b[0;34m\u001b[0m\u001b[0;34m\u001b[0m\u001b[0m\n",
      "\u001b[0;31mNameError\u001b[0m: name 'thresh_sipm_response' is not defined"
     ]
    }
   ],
   "source": [
    "fe = fit_energy(thresh_sipm_response.charge, 100, (np.min(thresh_sipm_response.charge), np.max(thresh_sipm_response.charge)))\n",
    "\n",
    "plot_fit_energy(fe)\n",
    "plt.savefig('test')\n",
    "print_fit_energy(fe)\n",
    "fe[0]"
   ]
  },
  {
   "cell_type": "code",
   "execution_count": 32,
   "metadata": {},
   "outputs": [
    {
     "name": "stdout",
     "output_type": "stream",
     "text": [
      "3.0.1\n"
     ]
    }
   ],
   "source": [
    "import matplotlib\n",
    "print(matplotlib.__version__)"
   ]
  },
  {
   "cell_type": "code",
   "execution_count": 27,
   "metadata": {},
   "outputs": [
    {
     "ename": "AttributeError",
     "evalue": "'AxesSubplot' object has no attribute 'secondary_yaxis'",
     "output_type": "error",
     "traceback": [
      "\u001b[0;31m---------------------------------------------------------------------------\u001b[0m",
      "\u001b[0;31mAttributeError\u001b[0m                            Traceback (most recent call last)",
      "\u001b[0;32m<ipython-input-27-7ac70295ae4b>\u001b[0m in \u001b[0;36m<module>\u001b[0;34m\u001b[0m\n\u001b[1;32m     11\u001b[0m \u001b[0;34m\u001b[0m\u001b[0m\n\u001b[1;32m     12\u001b[0m \u001b[0;34m\u001b[0m\u001b[0m\n\u001b[0;32m---> 13\u001b[0;31m \u001b[0msecax\u001b[0m \u001b[0;34m=\u001b[0m \u001b[0max\u001b[0m\u001b[0;34m.\u001b[0m\u001b[0msecondary_yaxis\u001b[0m\u001b[0;34m(\u001b[0m\u001b[0;34m'right'\u001b[0m\u001b[0;34m,\u001b[0m \u001b[0mfunctions\u001b[0m\u001b[0;34m=\u001b[0m\u001b[0;34m(\u001b[0m\u001b[0mto_qbb\u001b[0m\u001b[0;34m,\u001b[0m \u001b[0mback_tokr\u001b[0m\u001b[0;34m)\u001b[0m\u001b[0;34m)\u001b[0m\u001b[0;34m\u001b[0m\u001b[0;34m\u001b[0m\u001b[0m\n\u001b[0m\u001b[1;32m     14\u001b[0m \u001b[0mplt\u001b[0m\u001b[0;34m.\u001b[0m\u001b[0mshow\u001b[0m\u001b[0;34m(\u001b[0m\u001b[0;34m)\u001b[0m\u001b[0;34m\u001b[0m\u001b[0;34m\u001b[0m\u001b[0m\n",
      "\u001b[0;31mAttributeError\u001b[0m: 'AxesSubplot' object has no attribute 'secondary_yaxis'"
     ]
    },
    {
     "data": {
      "image/png": "[encoded data removed]",
      "text/plain": [
       "<Figure size 432x288 with 1 Axes>"
      ]
     },
     "metadata": {
      "needs_background": "light"
     },
     "output_type": "display_data"
    }
   ],
   "source": [
    "fig, ax = plt.subplots()\n",
    "r  = 2.35 * 100 *  fe.fr.par[2] / fe.fr.par[1]\n",
    "ax.plot(15., r)\n",
    "\n",
    "\n",
    "def to_qbb(x):\n",
    "    return x / np.sqrt(2.4)\n",
    "\n",
    "def back_tokr(x):\n",
    "    return x * np.sqrt(2.4)\n",
    "\n",
    "\n",
    "secax = ax.secondary_yaxis('right', functions=(to_qbb, back_tokr))\n",
    "plt.show()"
   ]
  },
  {
   "cell_type": "markdown",
   "metadata": {},
   "source": [
    "# Testing exp+gaussian fit"
   ]
  },
  {
   "cell_type": "code",
   "execution_count": 15,
   "metadata": {},
   "outputs": [
    {
     "name": "stdout",
     "output_type": "stream",
     "text": [
      "[1.77245385 1.         0.70710678]\n"
     ]
    }
   ],
   "source": [
    "import invisible_cities.core.fit_functions as fit\n",
    "x = sipm_response.charge\n",
    "y = np.exp(-(x-1.)**2)\n",
    "f = fit.fit(fit.gauss, x, y, (1., 2., 3))\n",
    "print(f.values)"
   ]
  },
  {
   "cell_type": "code",
   "execution_count": 55,
   "metadata": {},
   "outputs": [
    {
     "data": {
      "text/plain": [
       "[<matplotlib.lines.Line2D at 0x7fa307133290>]"
      ]
     },
     "execution_count": 55,
     "metadata": {},
     "output_type": "execute_result"
    },
    {
     "data": {
      "image/png": "[encoded data removed]",
      "text/plain": [
       "<Figure size 432x288 with 1 Axes>"
      ]
     },
     "metadata": {
      "needs_background": "light"
     },
     "output_type": "display_data"
    }
   ],
   "source": [
    "count = sipm_response.pivot_table(index=['charge'], aggfunc='size')\n",
    "hist(sipm_response.charge, bins=100)\n",
    "plt.plot(sipm_response.sort_values(by='charge').charge.drop_duplicates(), count)"
   ]
  },
  {
   "cell_type": "code",
   "execution_count": 18,
   "metadata": {},
   "outputs": [
    {
     "name": "stderr",
     "output_type": "stream",
     "text": [
      "/Users/taylorcontreras/anaconda3/envs/IC-3.7-2020-06-16/lib/python3.7/site-packages/scipy/stats/_continuous_distns.py:1535: RuntimeWarning: divide by zero encountered in log\n",
      "  return exparg + np.log(0.5 * invK * sc.erfc(-(x - invK) / np.sqrt(2)))\n"
     ]
    }
   ],
   "source": [
    "import scipy\n",
    "fit_params = scipy.stats.exponnorm.fit(events_allsipms.charge.charge, loc=8000, scale=1)\n",
    "fit_line = scipy.stats.exponnorm.rvs(fit_params[0], fit_params[1], fit_params[2], size=100)"
   ]
  },
  {
   "cell_type": "code",
   "execution_count": 212,
   "metadata": {},
   "outputs": [
    {
     "data": {
      "text/plain": [
       "[<matplotlib.lines.Line2D at 0x7fa30ad13550>]"
      ]
     },
     "execution_count": 212,
     "metadata": {},
     "output_type": "execute_result"
    },
    {
     "data": {
      "image/png": "[encoded data removed]",
      "text/plain": [
       "<Figure size 432x288 with 1 Axes>"
      ]
     },
     "metadata": {
      "needs_background": "light"
     },
     "output_type": "display_data"
    }
   ],
   "source": [
    "data = events_allsipms.groupby('charge').agg({'charge':'sum'}).charge #.to_numpy()\n",
    "x = data.index.to_numpy()\n",
    "y = data.to_numpy()\n",
    "plt.plot(x,y)\n",
    "#plt.xlim(0,25)\n",
    "#plt.plot(sipm_response.charge, sipm_response.charge.count)"
   ]
  },
  {
   "cell_type": "code",
   "execution_count": 213,
   "metadata": {},
   "outputs": [
    {
     "name": "stderr",
     "output_type": "stream",
     "text": [
      "/Users/taylorcontreras/anaconda3/envs/IC-3.7-2020-06-16/lib/python3.7/site-packages/scipy/optimize/minpack.py:808: OptimizeWarning: Covariance of the parameters could not be estimated\n",
      "  category=OptimizeWarning)\n"
     ]
    }
   ],
   "source": [
    "popt, _ = curve_fit(exp_plus_gauss, x, y)"
   ]
  },
  {
   "cell_type": "code",
   "execution_count": 214,
   "metadata": {},
   "outputs": [
    {
     "name": "stderr",
     "output_type": "stream",
     "text": [
      "/Users/taylorcontreras/anaconda3/envs/IC-3.7-2020-06-16/lib/python3.7/site-packages/ipykernel_launcher.py:5: RuntimeWarning: overflow encountered in exp\n",
      "  \"\"\"\n"
     ]
    },
    {
     "data": {
      "text/plain": [
       "[<matplotlib.lines.Line2D at 0x7fa30ad7b490>]"
      ]
     },
     "execution_count": 214,
     "metadata": {},
     "output_type": "execute_result"
    },
    {
     "data": {
      "image/png": "[encoded data removed]",
      "text/plain": [
       "<Figure size 432x288 with 1 Axes>"
      ]
     },
     "metadata": {
      "needs_background": "light"
     },
     "output_type": "display_data"
    }
   ],
   "source": [
    "mean, sigma, a, b = popt\n",
    "new_y = [gauss(this_x, mean, sigma) for this_x in x]\n",
    "plt.plot(x, new_y)"
   ]
  },
  {
   "cell_type": "code",
   "execution_count": 24,
   "metadata": {},
   "outputs": [
    {
     "data": {
      "text/plain": [
       "(array([  0.,   0.,   0.,   0.,   0., 100.,   0.,   0.,   0.,   0.]),\n",
       " array([9655.6543306, 9655.7543306, 9655.8543306, 9655.9543306,\n",
       "        9656.0543306, 9656.1543306, 9656.2543306, 9656.3543306,\n",
       "        9656.4543306, 9656.5543306, 9656.6543306]),\n",
       " <a list of 10 Patch objects>)"
      ]
     },
     "execution_count": 24,
     "metadata": {},
     "output_type": "execute_result"
    },
    {
     "data": {
      "image/png": "[encoded data removed]",
      "text/plain": [
       "<Figure size 432x288 with 1 Axes>"
      ]
     },
     "metadata": {
      "needs_background": "light"
     },
     "output_type": "display_data"
    }
   ],
   "source": [
    "plt.hist(fit_line)\n",
    "#plt.hist(sipm_response.charge)"
   ]
  },
  {
   "cell_type": "code",
   "execution_count": 64,
   "metadata": {},
   "outputs": [
    {
     "data": {
      "image/png": "[encoded data removed]",
      "text/plain": [
       "<Figure size 432x288 with 1 Axes>"
      ]
     },
     "metadata": {
      "needs_background": "light"
     },
     "output_type": "display_data"
    }
   ],
   "source": [
    "from scipy.stats import exponnorm\n",
    "import matplotlib.pyplot as plt\n",
    "fig, ax = plt.subplots(1, 1)"
   ]
  },
  {
   "cell_type": "code",
   "execution_count": 175,
   "metadata": {},
   "outputs": [],
   "source": [
    "K = .09\n",
    "loc = 10\n",
    "scale = 7\n",
    "mean, var, skew, kurt = exponnorm.stats(K=K, loc=loc, scale=scale, moments='mvsk')"
   ]
  },
  {
   "cell_type": "code",
   "execution_count": 186,
   "metadata": {},
   "outputs": [
    {
     "data": {
      "text/plain": [
       "[<matplotlib.lines.Line2D at 0x7fa30929c210>]"
      ]
     },
     "execution_count": 186,
     "metadata": {},
     "output_type": "execute_result"
    },
    {
     "data": {
      "image/png": "[encoded data removed]",
      "text/plain": [
       "<Figure size 432x288 with 1 Axes>"
      ]
     },
     "metadata": {
      "needs_background": "light"
     },
     "output_type": "display_data"
    }
   ],
   "source": [
    "x = np.linspace(exponnorm.ppf(0.01, K=K, loc=loc, scale=scale),\n",
    "                exponnorm.ppf(0.99, K=K, loc=loc, scale=scale), 100)\n",
    "plt.plot(x, exponnorm.pdf(x, K),\n",
    "       'r-', lw=5, alpha=0.6, label='exponnorm pdf')\n"
   ]
  },
  {
   "cell_type": "code",
   "execution_count": 199,
   "metadata": {},
   "outputs": [],
   "source": [
    "def exp_plus_gauss(x, mean, sigma, a, b):\n",
    "    return (1./(sigma*np.sqrt(np.pi*2))) * np.exp(-.5*((x-mean)/sigma)**2) + a*np.exp(-x/b)\n",
    "\n",
    "def gauss(x, mean, sigma):\n",
    "    return np.exp(-.5*((x-mean)/sigma)**2) + a*np.exp(-x/b)"
   ]
  },
  {
   "cell_type": "code",
   "execution_count": 200,
   "metadata": {},
   "outputs": [],
   "source": [
    "# fit curve\n",
    "popt, _ = curve_fit(exp_plus_gauss, x, exponnorm.pdf(x, K))"
   ]
  },
  {
   "cell_type": "code",
   "execution_count": 201,
   "metadata": {},
   "outputs": [],
   "source": [
    "mean, sigma, a, b = popt"
   ]
  },
  {
   "cell_type": "code",
   "execution_count": 202,
   "metadata": {},
   "outputs": [
    {
     "data": {
      "text/plain": [
       "[-1.0715370923099622e-05,\n",
       " -9.479599155213657e-06,\n",
       " -6.965597946733394e-06,\n",
       " 2.078089042627927e-06,\n",
       " 3.961735338542862e-05,\n",
       " 0.00018695646789691444,\n",
       " 0.00070930156630627,\n",
       " 0.0023653116771755072,\n",
       " 0.0070453602897907145,\n",
       " 0.018810296441273265,\n",
       " 0.04505424040633581,\n",
       " 0.09683279022261267,\n",
       " 0.1867605050240216,\n",
       " 0.32324569643300893,\n",
       " 0.5020752490889346,\n",
       " 0.6998330295396407,\n",
       " 0.8754071938748175,\n",
       " 0.9826888943842786,\n",
       " 0.9899478957576159,\n",
       " 0.8949504922631113,\n",
       " 0.726065946442527,\n",
       " 0.5286198487444149,\n",
       " 0.34538311272721006,\n",
       " 0.20251104956808574,\n",
       " 0.10655792826148355,\n",
       " 0.05031654247579752,\n",
       " 0.02132160568515017,\n",
       " 0.008107776558588884,\n",
       " 0.0027664342655043606,\n",
       " 0.0008467414916723256,\n",
       " 0.00023223065115424117,\n",
       " 5.681250675330557e-05,\n",
       " 1.2133356972168637e-05,\n",
       " 1.9937143785716294e-06,\n",
       " -3.556452297486941e-08,\n",
       " -3.714731580651729e-07,\n",
       " -3.945263563387787e-07,\n",
       " -3.6826606859806114e-07,\n",
       " -3.3724823579006033e-07,\n",
       " -3.0799495261002054e-07,\n",
       " -2.811784266756927e-07,\n",
       " -2.56686039313273e-07,\n",
       " -2.343260688226377e-07,\n",
       " -2.139137924790904e-07,\n",
       " -1.952796344083508e-07,\n",
       " -1.7826870850754163e-07,\n",
       " -1.6273961452140091e-07,\n",
       " -1.4856326921323107e-07,\n",
       " -1.3562183383694984e-07,\n",
       " -1.2380773464871107e-07,\n",
       " -1.1302276871786006e-07,\n",
       " -1.0317728762985549e-07,\n",
       " -9.41894522972494e-08,\n",
       " -8.598455268452616e-08,\n",
       " -7.849438679211808e-08,\n",
       " -7.16566937374956e-08,\n",
       " -6.54146362209028e-08,\n",
       " -5.971632807381329e-08,\n",
       " -5.451440296292279e-08,\n",
       " -4.9765620664595466e-08,\n",
       " -4.543050763697895e-08,\n",
       " -4.147302890209778e-08,\n",
       " -3.7860288510494305e-08,\n",
       " -3.456225609857406e-08,\n",
       " -3.155151726570463e-08,\n",
       " -2.8803045696114984e-08,\n",
       " -2.6293995131392646e-08,\n",
       " -2.400350946438118e-08,\n",
       " -2.191254937591222e-08,\n",
       " -2.000373407331542e-08,\n",
       " -1.8261196815181716e-08,\n",
       " -1.667045302145098e-08,\n",
       " -1.5218279872508923e-08,\n",
       " -1.3892606396478862e-08,\n",
       " -1.2682413131075253e-08,\n",
       " -1.1577640525973313e-08,\n",
       " -1.0569105324303164e-08,\n",
       " -9.648424228201935e-09,\n",
       " -8.807944213905522e-09,\n",
       " -8.040678917134369e-09,\n",
       " -7.3402505599864195e-09,\n",
       " -6.700836936613192e-09,\n",
       " -6.117123017005395e-09,\n",
       " -5.584256766601754e-09,\n",
       " -5.097808814478181e-09,\n",
       " -4.653735634865154e-09,\n",
       " -4.248345935945157e-09,\n",
       " -3.878269976542124e-09,\n",
       " -3.5404315556524436e-09,\n",
       " -3.2320224419846907e-09,\n",
       " -2.9504790309574727e-09,\n",
       " -2.693461035120184e-09,\n",
       " -2.45883203086396e-09,\n",
       " -2.244641699720307e-09,\n",
       " -2.0491096166308356e-09,\n",
       " -1.8706104504305373e-09,\n",
       " -1.7076604535258226e-09,\n",
       " -1.5589051284648024e-09,\n",
       " -1.4231079688800168e-09,\n",
       " -1.2991401812143912e-09]"
      ]
     },
     "execution_count": 202,
     "metadata": {},
     "output_type": "execute_result"
    }
   ],
   "source": [
    "new_y = [gauss(this_x, mean, sigma) for this_x in x]\n",
    "new_y"
   ]
  },
  {
   "cell_type": "code",
   "execution_count": 203,
   "metadata": {},
   "outputs": [
    {
     "data": {
      "text/plain": [
       "[<matplotlib.lines.Line2D at 0x7fa3097ad090>]"
      ]
     },
     "execution_count": 203,
     "metadata": {},
     "output_type": "execute_result"
    },
    {
     "data": {
      "image/png": "[encoded data removed]",
      "text/plain": [
       "<Figure size 432x288 with 1 Axes>"
      ]
     },
     "metadata": {
      "needs_background": "light"
     },
     "output_type": "display_data"
    }
   ],
   "source": [
    "plt.plot(x, new_y)"
   ]
  },
  {
   "cell_type": "code",
   "execution_count": null,
   "metadata": {},
   "outputs": [],
   "source": []
  },
  {
   "cell_type": "code",
   "execution_count": null,
   "metadata": {},
   "outputs": [],
   "source": []
  },
  {
   "cell_type": "code",
   "execution_count": null,
   "metadata": {},
   "outputs": [],
   "source": []
  },
  {
   "cell_type": "code",
   "execution_count": null,
   "metadata": {},
   "outputs": [],
   "source": []
  },
  {
   "cell_type": "markdown",
   "metadata": {},
   "source": [
    "# Testing R cuts"
   ]
  },
  {
   "cell_type": "code",
   "execution_count": 28,
   "metadata": {},
   "outputs": [],
   "source": [
    "def Center_of_Event(sipm_response_in_event, sipm_positions):\n",
    "    top_sipms = sipm_response_in_event[sipm_response_in_event.charge > max(sipm_response_in_event.charge)*.1]\n",
    "    sensor_positions = sipm_positions.loc[sipm_positions.sensor_id.isin(top_sipms.sensor_id.tolist())]\n",
    "    sensor_positions = sensor_positions.reindex(sensor_positions.index.repeat(top_sipms.groupby('sensor_id').sensor_id.count().values))\n",
    "    top_sipms = top_sipms.merge(sensor_positions)\n",
    "\n",
    "    x = np.sum(top_sipms.charge*top_sipms.x)/np.sum(top_sipms.charge)\n",
    "    y = np.sum(top_sipms.charge*top_sipms.y)/np.sum(top_sipms.charge)\n",
    "    z = np.sum(top_sipms.charge*top_sipms.z)/np.sum(top_sipms.charge)\n",
    "    charge = np.sum(top_sipms.charge)\n",
    "    event_id = top_sipms.event_id[0]\n",
    "    \n",
    "    r = np.sqrt(x**2 + y**2 + z**2)\n",
    "\n",
    "    return pd.Series({'event_id':event_id, 'charge':charge,'x':x, 'y':y, 'z':z, 'r':r})\n",
    "\n"
   ]
  },
  {
   "cell_type": "code",
   "execution_count": 38,
   "metadata": {},
   "outputs": [],
   "source": [
    "event_centers = sipm_response.groupby('event_id').apply(lambda grp: Center_of_Event(grp, sipm_positions))\n",
    "sipm_response = sipm_response[sipm_response.event_id.isin(event_centers[event_centers.r < 400].event_id)]\n",
    "\n"
   ]
  },
  {
   "cell_type": "code",
   "execution_count": null,
   "metadata": {},
   "outputs": [],
   "source": []
  }
 ],
 "metadata": {
  "kernelspec": {
   "display_name": "Python 3",
   "language": "python",
   "name": "python3"
  },
  "language_info": {
   "codemirror_mode": {
    "name": "ipython",
    "version": 3
   },
   "file_extension": ".py",
   "mimetype": "text/x-python",
   "name": "python",
   "nbconvert_exporter": "python",
   "pygments_lexer": "ipython3",
   "version": "3.7.9"
  }
 },
 "nbformat": 4,
 "nbformat_minor": 4
}
