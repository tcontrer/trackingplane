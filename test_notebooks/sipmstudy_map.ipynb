{
 "cells": [
  {
   "cell_type": "code",
   "execution_count": null,
   "metadata": {},
   "outputs": [],
   "source": [
    "import pandas as pd\n",
    "import matplotlib.pyplot as plt\n",
    "import numpy as np\n",
    "\n",
    "from invisible_cities.core.core_functions  import shift_to_bin_centers\n",
    "from invisible_cities.core                 import fit_functions as fitf"
   ]
  },
  {
   "cell_type": "code",
   "execution_count": null,
   "metadata": {},
   "outputs": [],
   "source": [
    "def hist(*args, **kwargs):\n",
    "    \"\"\"\n",
    "    Create a figure and then the histogram\n",
    "    \"\"\"\n",
    "    create_new_figure(kwargs)\n",
    "\n",
    "    y, x, p = plt.hist(*args, **kwargs)\n",
    "    return y, shift_to_bin_centers(x), p\n",
    "\n",
    "\n",
    "def hist2d(*args, **kwargs):\n",
    "    \"\"\"\n",
    "    Create a figure and then the histogram\n",
    "    \"\"\"\n",
    "    create_new_figure(kwargs)\n",
    "\n",
    "    z, x, y, p = plt.hist2d(*args, **kwargs)\n",
    "    return z, shift_to_bin_centers(x), shift_to_bin_centers(y), p\n",
    "\n",
    "def hist2d_profile(x, y, z, nbinx, nbiny, xrange, yrange, **kwargs):\n",
    "    \"\"\"\n",
    "    Create a profile 2d of the data and plot it as an histogram.\n",
    "    \"\"\"\n",
    "    x, y, z, ze = fitf.profileXY(x, y, z, nbinx, nbiny, xrange, yrange)\n",
    "    plot_output = display_matrix(x, y, z, **kwargs)\n",
    "    return ((x, y, z, ze), *plot_output)\n",
    "\n",
    "def display_matrix(x, y, z, mask=None, **kwargs):\n",
    "    \"\"\"\n",
    "    Display the matrix z using the coordinates x and y as the bin centers.\n",
    "    \"\"\"\n",
    "    nx = x = np.size(x)\n",
    "    ny = np.size(y)\n",
    "\n",
    "    dx = (np.max(x) - np.min(x)) / nx\n",
    "    dy = (np.max(y) - np.min(y)) / ny\n",
    "\n",
    "    x_binning = np.linspace(np.min(x) - dx, np.max(x) + dx, nx + 1)\n",
    "    y_binning = np.linspace(np.min(y) - dy, np.max(y) + dy, ny + 1)\n",
    "\n",
    "    x_ = np.repeat(x, ny)\n",
    "    y_ = np.tile  (y, nx)\n",
    "    z_ = z.flatten()\n",
    "\n",
    "    if mask is None:\n",
    "        mask = np.ones_like(z_, dtype=bool)\n",
    "    else:\n",
    "        mask = mask.flatten()\n",
    "    h  = hist2d(x_[mask], y_[mask], (x_binning,\n",
    "                                     y_binning),\n",
    "                weights = z_[mask],\n",
    "                **kwargs)\n",
    "    return h, plt.colorbar()\n",
    "\n",
    "def create_new_figure(kwargs):\n",
    "    if kwargs.setdefault(\"new_figure\", True):\n",
    "        plt.figure()\n",
    "    del kwargs[\"new_figure\"]\n",
    "\n",
    "def labels(xlabel, ylabel, title=\"\"):\n",
    "    \"\"\"\n",
    "    Set x and y labels.\n",
    "    \"\"\"\n",
    "    plt.xlabel(xlabel)\n",
    "    plt.ylabel(ylabel)\n",
    "    plt.title ( title)"
   ]
  },
  {
   "cell_type": "code",
   "execution_count": null,
   "metadata": {},
   "outputs": [],
   "source": [
    "file_name = \"flex.kr83m.1.s3mmp15mm.nexus.h5\"\n",
    "this_dir = \"/Users/taylorcontreras/Development/Research/Odyssey_sipmstudy/\""
   ]
  },
  {
   "cell_type": "code",
   "execution_count": null,
   "metadata": {
    "scrolled": true
   },
   "outputs": [],
   "source": [
    "# Get all sensor responses and all the sensor positions\n",
    "sns_response = pd.read_hdf(this_dir+file_name, 'MC/sns_response')\n",
    "sns_positions = pd.read_hdf(this_dir+file_name, 'MC/sns_positions')\n",
    "\n",
    "# Sort to get the sipm positions\n",
    "sns_pos_sorted = sns_positions.sort_values(by=['sensor_id'])\n",
    "sipm_positions = sns_pos_sorted[sns_pos_sorted[\"sensor_name\"].str.contains(\"SiPM\")]\n",
    "\n",
    "# Create separate dataframes for the sipm and pmt response\n",
    "sns_response_sorted = sns_response.sort_values(by=['sensor_id'])\n",
    "sipm_response = sns_response_sorted.loc[sns_response_sorted[\"sensor_id\"] >999]\n",
    "pmt_response = sns_response_sorted.loc[sns_response_sorted[\"sensor_id\"] < 60]\n",
    "\n",
    "# Summed pmt energy per event\n",
    "response_perevent_pmt = pmt_response.groupby('event_id')\n",
    "summed_charges_byevent_pmt = response_perevent_pmt.agg({\"charge\":\"sum\"})\n",
    "\n",
    "# Summed sipm energy per event\n",
    "response_perevent_sipm = sipm_response.groupby('event_id')\n",
    "summed_charges_byevent_sipm = response_perevent_sipm.agg({\"charge\":\"sum\"})\n",
    "\n",
    "# Position of the event(sipm with the max charge)\n",
    "idx = sipm_response.groupby(['event_id'])['charge'].transform(max) == sipm_response['charge']\n",
    "max_sipms = sipm_response[idx].sort_values('sensor_id').set_index('sensor_id')\n",
    "new_max_sipm_positions = sipm_positions.set_index('sensor_id')\n",
    "this = new_max_sipm_positions.loc[max_sipms.index.values.tolist()] \n",
    "event_map = pd.concat([max_sipms.loc[:,'event_id'],this.loc[:,['x','y','z']]], axis=1).set_index('event_id').sort_values(by='event_id')\n",
    "\n",
    "pmt_map = pd.concat([summed_charges_byevent_pmt,event_map],axis=1)\n",
    "sipm_map = pd.concat([summed_charges_byevent_sipm,event_map],axis=1)\n",
    "\n",
    "# Make position a function of r\n",
    "pmt_r = pmt_map.apply(lambda row: np.sqrt(row.x**2 + row.y**2), axis=1)\n",
    "pmt_r = pmt_r.to_frame()\n",
    "pmt_r = pmt_r.rename(columns = {pmt_r.columns[0]:'r'})\n",
    "pmt_map = pd.concat([pmt_map, pmt_r],axis=1).sort_values(by='r')\n",
    "sipm_r = sipm_map.apply(lambda row: np.sqrt(row.x**2 + row.y**2), axis=1)\n",
    "sipm_r = sipm_r.to_frame()\n",
    "sipm_r = sipm_r.rename(columns = {sipm_r.columns[0]:'r'})\n",
    "sipm_map = pd.concat([sipm_map, sipm_r],axis=1).sort_values(by='r')"
   ]
  },
  {
   "cell_type": "code",
   "execution_count": null,
   "metadata": {},
   "outputs": [],
   "source": [
    "def Center_of_Event(sipm_response_in_event, sipm_positions):\n",
    "    sensor_ids = sipm_response_in_event.sensor_id\n",
    "    sensor_positions = sipm_positions.loc[sensor_ids]\n",
    "    \n",
    "    denominator = np.sum(sipm_response_in_event.charge)\n",
    "    numerator = np.sum(sipm_response_in_event.set_index('sensor_id').charge*sensor_positions)\n",
    "\n",
    "    return numerator/denominator\n",
    "\n",
    "def Thresh_by_Event(group):\n",
    "    return group[group.charge > max(group.charge)*.1]"
   ]
  },
  {
   "cell_type": "code",
   "execution_count": null,
   "metadata": {},
   "outputs": [],
   "source": [
    "# Set the event position as center of mass\n",
    "sipm_response_by_event = sipm_response.groupby('event_id')\n",
    "thresh_sipm_response = sipm_response_by_event.apply(Thresh_by_Event).set_index('event_id').groupby('event_id')\n",
    "event_x = thresh_sipm_response.apply(lambda row: Center_of_Event(row,sipm_positions.set_index('sensor_id').x))\n",
    "event_x = pd.DataFrame({'event_id':event_x.index,'x':event_x.values}).set_index('event_id')\n",
    "event_y = thresh_sipm_response.apply(lambda row: Center_of_Event(row,sipm_positions.set_index('sensor_id').y))\n",
    "event_y = pd.DataFrame({'event_id':event_y.index,'y':event_y.values}).set_index('event_id')\n",
    "\n",
    "sipm_charge = sipm_response_by_event.agg({\"charge\":\"sum\"}).rename(columns={'charge':'sipm_charge'})\n",
    "pmt_charge = pmt_response.groupby('event_id').agg({\"charge\":\"sum\"}).rename(columns={'charge':'pmt_charge'})\n",
    "kr_map = pd.concat([pmt_charge,sipm_charge,event_x,event_y],axis=1)\n",
    "kr_map"
   ]
  },
  {
   "cell_type": "code",
   "execution_count": null,
   "metadata": {},
   "outputs": [],
   "source": [
    "# Testing positions of event as center of mass (energy)\n",
    "i = 0\n",
    "for _, grp in sipm_response.groupby('event_id'):\n",
    "    if i == 10:\n",
    "        break\n",
    "    i += 1\n",
    "    \n",
    "    print(grp.event_id.tolist()[0])\n",
    "    #print(Center_of_Event(grp[grp.charge > max(grp.charge)*.1], sipm_positions)) #filter(lambda row: row.charge > max(grp.charge)*.1)\n",
    "    #sensor_ids = grp.sensor_id\n",
    "    #sensor_positions = sipm_positions.set_index('sensor_id').loc[sensor_ids]\n",
    "    #plt.hist2d(sensor_positions.x, sensor_positions.y, weights=grp.set_index('sensor_id').charge, bins=50)\n",
    "    #plt.show()"
   ]
  },
  {
   "cell_type": "code",
   "execution_count": null,
   "metadata": {},
   "outputs": [],
   "source": []
  },
  {
   "cell_type": "code",
   "execution_count": null,
   "metadata": {},
   "outputs": [],
   "source": [
    "#plt.plot(sipm_map.r, sipm_map.charge)\n",
    "#plt.plot(pmt_map.r, pmt_map.charge)\n",
    "\n",
    "plt.hist2d(sipm_map.x, sipm_map.y, weights = sipm_map.charge, bins=[50,50])\n",
    "plt.colorbar(label='title')"
   ]
  },
  {
   "cell_type": "code",
   "execution_count": null,
   "metadata": {},
   "outputs": [],
   "source": [
    "# Need to figure set pmt position to the position of highest sipm in that event\n"
   ]
  },
  {
   "cell_type": "code",
   "execution_count": null,
   "metadata": {},
   "outputs": [],
   "source": [
    "nbins = 500/10\n",
    "h = hist2d(sipm_map.x, sipm_map.y, (nbins, nbins), weights = sipm_map.charge)\n",
    "labels(\"X [mm]\", \"Y [mm]\", \"SiPMs Light Distribution \\n (NEXT-100, 6mm sipms, 10mm pitch)\")\n",
    "\n",
    "h2 = hist2d(pmt_map.x, pmt_map.y, (nbins, nbins), weights = pmt_map.charge)\n",
    "labels(\"X [mm]\", \"Y [mm]\", \"PMTs Light Distribution \\n (NEXT-100)\")"
   ]
  },
  {
   "cell_type": "code",
   "execution_count": null,
   "metadata": {},
   "outputs": [],
   "source": []
  },
  {
   "cell_type": "code",
   "execution_count": null,
   "metadata": {},
   "outputs": [],
   "source": []
  },
  {
   "cell_type": "markdown",
   "metadata": {},
   "source": [
    "# Testing with thresholding for dark noise"
   ]
  },
  {
   "cell_type": "code",
   "execution_count": null,
   "metadata": {},
   "outputs": [],
   "source": [
    "test_mc = {'files':[this_dir+file_name], \"size\":3, \"pitch\":15, \"dir\": \"s3mmp15mm\"}\n",
    "mcs = [test_mc]\n",
    "for mc in mcs:\n",
    "    print(\"Looping in mcs\")\n",
    "    pmt_map = pd.DataFrame()\n",
    "    sipm_map = pd.DataFrame()\n",
    "    pmt_timing = pd.DataFrame()\n",
    "    sipm_timing = pd.DataFrame()\n",
    "\n",
    "    for file in mc[\"files\"]:\n",
    "        print(\"Looping files in mc\")\n",
    "        # Get all sensor responses and all the sensor positions\n",
    "        sns_response = pd.read_hdf(file, 'MC/sns_response')\n",
    "        sns_positions = pd.read_hdf(file, 'MC/sns_positions')\n",
    "\n",
    "        # Sort to get the sipm positions\n",
    "        sns_pos_sorted = sns_positions.sort_values(by=['sensor_id'])\n",
    "        sipm_positions = sns_pos_sorted[sns_pos_sorted[\"sensor_name\"].str.contains(\"SiPM\")]\n",
    "\n",
    "        # Create separate dataframes for the sipm and pmt response\n",
    "        sns_response_sorted = sns_response.sort_values(by=['sensor_id'])\n",
    "        sipm_response = sns_response_sorted.loc[sns_response_sorted[\"sensor_id\"] >999]\n",
    "        pmt_response = sns_response_sorted.loc[sns_response_sorted[\"sensor_id\"] < 60]\n",
    "        sipm_response = sipm_response.loc[sipm_response[\"time_bin\"] >0]\n",
    "        pmt_response = pmt_response.loc[pmt_response[\"time_bin\"] >0]\n",
    "\n",
    "        # Time length of events\n",
    "        pmt_timing = pmt_timing.append(pmt_response.groupby(['event_id'])\\\n",
    "                        .apply(lambda group: group['time_bin'].max() - group['time_bin'].min()).to_frame())\n",
    "        sipm_timing = sipm_timing.append(sipm_response.groupby(['event_id'])\\\n",
    "                        .apply(lambda group: group['time_bin'].max() - group['time_bin'].min()).to_frame())\n",
    "\n",
    "\n",
    "        # Summed pmt energy per event\n",
    "        response_perevent_pmt = pmt_response.groupby('event_id')\n",
    "        summed_charges_byevent_pmt = response_perevent_pmt.agg({\"charge\":\"sum\"})\n",
    "\n",
    "        # Summed sipm energy per event\n",
    "        response_perevent_sipm = sipm_response.groupby('event_id')\n",
    "        summed_charges_byevent_sipm = response_perevent_sipm.agg({\"charge\":\"sum\"})\n",
    "        \n",
    "        dark_rate = 10.\n",
    "        dark_count  = sipm_timing*dark_rate\n",
    "        dark_count = dark_count.rename(columns={0:'dark_count'})\n",
    "        this = summed_charges_byevent_sipm.groupby('event_id')\n",
    "        summed_charged_byevent_sipm = this.apply(Thresh_by_Event, args=(dark_count))#.set_index('event_id') #.groupby('event_id')\n",
    "\n",
    "        # Position of the event(sipm with the max charge)\n",
    "        sipm_response = sipm_response[sipm_response.event_id.isin(summed_charges_byevent_sipm.index)]\n",
    "        idx = sipm_response.groupby(['event_id'])['charge'].transform(max) == sipm_response['charge']\n",
    "        max_sipms = sipm_response[idx].sort_values('sensor_id').set_index('sensor_id')\n",
    "        new_max_sipm_positions = sipm_positions.set_index('sensor_id')\n",
    "        this = new_max_sipm_positions.loc[max_sipms.index.values.tolist()]\n",
    "        event_map = pd.concat([max_sipms.loc[:,'event_id'],this.loc[:,['x','y','z']]], axis=1).set_index('event_id').sort_values(by='event_id') \n",
    "        \n",
    "        pmt_map = pmt_map.append(pd.concat([summed_charges_byevent_pmt,event_map],axis=1))\n",
    "        sipm_map = sipm_map.append(pd.concat([summed_charges_byevent_sipm,event_map],axis=1))"
   ]
  },
  {
   "cell_type": "code",
   "execution_count": null,
   "metadata": {},
   "outputs": [],
   "source": [
    "def Thresh_by_Event(group, args=dark_count):\n",
    "    event = group.index.tolist()[0] #.event_id.max()\n",
    "    thresh = dark_count.loc[event].dark_count\n",
    "    return group[group.charge > thresh]"
   ]
  },
  {
   "cell_type": "code",
   "execution_count": null,
   "metadata": {},
   "outputs": [],
   "source": [
    "sipm_response[sipm_response.event_id.isin(summed_charges_byevent_sipm.index)]#summed_charges_byevent_sipm.index] #summed_charges_byevent_sipm.index"
   ]
  },
  {
   "cell_type": "code",
   "execution_count": null,
   "metadata": {},
   "outputs": [],
   "source": [
    "dark_rate = 10.\n",
    "dark_count  = sipm_timing*dark_rate\n",
    "dark_count = dark_count.rename(columns={0:'dark_count'})\n",
    "this = summed_charges_byevent_sipm.groupby('event_id')\n",
    "thresh_sipm_response = this.apply(Thresh_by_Event, args=(dark_count))#.set_index('event_id') #.groupby('event_id')\n",
    "print(thresh_sipm_response)\n",
    "\n"
   ]
  },
  {
   "cell_type": "code",
   "execution_count": null,
   "metadata": {},
   "outputs": [],
   "source": [
    "sipm_response"
   ]
  },
  {
   "cell_type": "code",
   "execution_count": null,
   "metadata": {},
   "outputs": [],
   "source": []
  }
 ],
 "metadata": {
  "kernelspec": {
   "display_name": "Python 3",
   "language": "python",
   "name": "python3"
  },
  "language_info": {
   "codemirror_mode": {
    "name": "ipython",
    "version": 3
   },
   "file_extension": ".py",
   "mimetype": "text/x-python",
   "name": "python",
   "nbconvert_exporter": "python",
   "pygments_lexer": "ipython3",
   "version": "3.7.4"
  }
 },
 "nbformat": 4,
 "nbformat_minor": 2
}
