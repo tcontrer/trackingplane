{
 "cells": [
  {
   "cell_type": "code",
   "execution_count": 27,
   "metadata": {},
   "outputs": [],
   "source": [
    "import pandas as pd\n",
    "import numpy as np\n",
    "import matplotlib.pyplot as plt\n",
    "import tables as tb\n",
    "from memory_profiler import memory_usage\n",
    "\n",
    "from invisible_cities.cities import components as cp\n",
    "import invisible_cities.database.load_db"
   ]
  },
  {
   "cell_type": "code",
   "execution_count": 29,
   "metadata": {},
   "outputs": [],
   "source": [
    "import scipy.stats"
   ]
  },
  {
   "cell_type": "code",
   "execution_count": null,
   "metadata": {},
   "outputs": [],
   "source": [
    "num_files = 101\n",
    "data_dir = '/Users/taylorcontreras/Development/Research/trackingplane/data/new_sims/'\n",
    "database = invisible_cities.database.load_db.DataSiPM('flexs13p15')"
   ]
  },
  {
   "cell_type": "code",
   "execution_count": null,
   "metadata": {},
   "outputs": [],
   "source": [
    "h5 = tb.open_file(fast_sims[0])"
   ]
  },
  {
   "cell_type": "code",
   "execution_count": null,
   "metadata": {},
   "outputs": [],
   "source": [
    "def first_nonzero(arr, axis=0, invalid_val=-1):\n",
    "    mask = arr!=0\n",
    "    return np.where(mask.any(axis=axis), mask.argmax(axis=axis), invalid_val)"
   ]
  },
  {
   "cell_type": "code",
   "execution_count": null,
   "metadata": {},
   "outputs": [],
   "source": [
    "%%time\n",
    "events = 100\n",
    "event_id = 0\n",
    "event_ids, sipm_charge, xval, yval, zval, sensors = [], [], [], [], [], []\n",
    "for evt in range(0,events):\n",
    "    sens = 0\n",
    "\n",
    "    for sipmi in h5.root.sipmrd[evt, :]:\n",
    "            if(sum(sipmi) > 0.):\n",
    "                event_ids.append(event_id)\n",
    "                sipm_charge.append(sum(sipmi))\n",
    "                sensor_id = 1000+sens\n",
    "                x = db[db.SensorID == sensor_id].X.values[0]\n",
    "                y = db[db.SensorID == sensor_id].Y.values[0]\n",
    "                z = first_nonzero(np.array(sipmi), 0) - 100\n",
    "                sens = sens + 1\n",
    "                #print(sens)\n",
    "                xval.append(x)\n",
    "                yval.append(y)\n",
    "                zval.append(z)\n",
    "                sensors.append(sensor_id)\n",
    "            else:\n",
    "                sens = sens + 1"
   ]
  },
  {
   "cell_type": "code",
   "execution_count": null,
   "metadata": {},
   "outputs": [],
   "source": []
  },
  {
   "cell_type": "code",
   "execution_count": null,
   "metadata": {},
   "outputs": [],
   "source": [
    "pmt_charge = np.sum(h5.root.pmtrd, axis=2).flatten()\n",
    "np.shape(pmt_charge)"
   ]
  },
  {
   "cell_type": "code",
   "execution_count": null,
   "metadata": {},
   "outputs": [],
   "source": [
    "np.shape(h5.root.pmtrd)[1]"
   ]
  },
  {
   "cell_type": "code",
   "execution_count": null,
   "metadata": {},
   "outputs": [],
   "source": [
    "pmt_charge = np.sum(h5.root.pmtrd, axis=2).flatten()\n",
    "npmts = np.shape(h5.root.pmtrd)[1]\n",
    "pmt_ids = np.arange(0, npmts)\n",
    "event_ids = np.arange(0, events) + event_id\n",
    "event_id = event_ids[-1] + 1\n",
    "pmt_ids = np.repeat([pmt_ids], repeats=events, axis=0).flatten()\n",
    "pmt_events = np.repeat(event_ids, npmts)\n",
    "pmttable = {'event_id': pmt_events,\n",
    "            'charge': pmt_charge,\n",
    "            'sensor_id':pmt_ids}\n",
    "print(pmttable)"
   ]
  },
  {
   "cell_type": "code",
   "execution_count": null,
   "metadata": {},
   "outputs": [],
   "source": [
    "np.shape(h5.root.pmtrd)"
   ]
  },
  {
   "cell_type": "code",
   "execution_count": null,
   "metadata": {},
   "outputs": [],
   "source": []
  },
  {
   "cell_type": "code",
   "execution_count": null,
   "metadata": {},
   "outputs": [],
   "source": [
    "#%%time\n",
    "summed = np.sum(h5.root.sipmrd, axis=2)\n",
    "pmt_charge = np.sum(h5.root.pmtrd, axis=2).flatten()\n",
    "nsipms = np.shape(summed)[1]\n",
    "npmts = np.shape(h5.root.pmtrd)[1]\n",
    "this_data = summed.flatten()\n",
    "sens = 1000\n",
    "# Make sensor and event id numbers, SiPMs start at 1000\n",
    "ids = np.arange(sens, sens+nsipms)\n",
    "event_ids = np.arange(0, events)\n",
    "\n",
    "# Get sensor positions from the database based on sensor id\n",
    "xs = db[db.SensorID.isin(ids)].X.values\n",
    "ys = db[db.SensorID.isin(ids)].Y.values\n",
    "\n",
    "# Get time (z pos) of event based on sensor time bins\n",
    "zs = np.apply_along_axis(first_nonzero, axis=2, arr=h5.root.sipmrd).flatten() - 100\n",
    "\n",
    "# Repeat for the number of events to match size of data\n",
    "ids = np.repeat([ids], repeats=events, axis=0).flatten()\n",
    "xs = np.repeat([xs], repeats=events, axis=0).flatten()\n",
    "ys = np.repeat([ys], repeats=events, axis=0).flatten()\n",
    "zs = np.repeat([zs], repeats=events, axis=0).flatten()\n",
    "\n",
    "# Repeat event ids for number of sensors\n",
    "event_ids = np.arange(0,events)\n",
    "event_ids = np.repeat(event_ids,nsipms)\n",
    "\n",
    "# Remove sensors with zero charge in an event\n",
    "nonzero_entries = np.where(this_data>0)\n",
    "#ids = ids[nonzero_entries]\n",
    "#this_data_nz = this_data[nonzero_entries]\n",
    "#xs = xs[nonzero_entries]\n",
    "#ys = ys[nonzero_entries]\n",
    "#zs = zs[nonzero_entries]\n",
    "#event_ids = event_ids[nonzero_entries]"
   ]
  },
  {
   "cell_type": "code",
   "execution_count": null,
   "metadata": {},
   "outputs": [],
   "source": [
    "np.shape(nonzero_entries)"
   ]
  },
  {
   "cell_type": "code",
   "execution_count": null,
   "metadata": {},
   "outputs": [],
   "source": [
    "np.shape(ids)"
   ]
  },
  {
   "cell_type": "code",
   "execution_count": null,
   "metadata": {},
   "outputs": [],
   "source": [
    "np.shape(this_data)"
   ]
  },
  {
   "cell_type": "code",
   "execution_count": null,
   "metadata": {},
   "outputs": [],
   "source": [
    "xs = xs[nonzero_entries[0]]"
   ]
  },
  {
   "cell_type": "code",
   "execution_count": null,
   "metadata": {},
   "outputs": [],
   "source": [
    "1526800/330800"
   ]
  },
  {
   "cell_type": "code",
   "execution_count": null,
   "metadata": {},
   "outputs": [],
   "source": [
    "plt.plot(event_ids)\n",
    "plt.show()"
   ]
  },
  {
   "cell_type": "code",
   "execution_count": null,
   "metadata": {},
   "outputs": [],
   "source": [
    "plt.plot(zs)\n",
    "plt.plot(zval)"
   ]
  },
  {
   "cell_type": "code",
   "execution_count": null,
   "metadata": {},
   "outputs": [],
   "source": [
    "plt.hist(zs)\n",
    "plt.hist(zval)"
   ]
  },
  {
   "cell_type": "code",
   "execution_count": null,
   "metadata": {},
   "outputs": [],
   "source": [
    "    sipmtable = {'event_id': event_ids,\n",
    "                 'charge': this_data[nonzero_entries],\n",
    "                  'X':xs,\n",
    "                  'Y':ys,\n",
    "                  'Z':zs,\n",
    "                  'sensor_id': ids}\n",
    "    print(sipmtable)\n",
    "\n",
    "    sipmtable_df = pd.DataFrame(sipmtable)"
   ]
  },
  {
   "cell_type": "code",
   "execution_count": null,
   "metadata": {},
   "outputs": [],
   "source": [
    "sipmtable_df"
   ]
  },
  {
   "cell_type": "code",
   "execution_count": null,
   "metadata": {},
   "outputs": [],
   "source": [
    "%%time\n",
    "events = 1\n",
    "event_id = 0\n",
    "event_ids, pmt_charge, xval, yval, zval, sensors = [], [], [], [], [], []\n",
    "for evt in range(0,events):\n",
    "    sens = 0\n",
    "\n",
    "    for pmti in h5.root.pmtrd[evt, :]:\n",
    "            if(sum(pmti) > 0.):\n",
    "                event_ids.append(event_id)\n",
    "                pmt_charge.append(sum(pmti))\n",
    "                sensor_id = sens\n",
    "                #x = db[db.SensorID == sensor_id].X.values[0]\n",
    "                #y = db[db.SensorID == sensor_id].Y.values[0]\n",
    "                #z = first_nonzero(np.array(sipmi), 0) - 100\n",
    "                sens = sens + 1\n",
    "                #print(sens)\n",
    "                print(sens)\n",
    "                print(pmt_charge)\n",
    "                sensors.append(sensor_id)\n",
    "            else:\n",
    "                sens = sens + 1"
   ]
  },
  {
   "cell_type": "code",
   "execution_count": null,
   "metadata": {},
   "outputs": [],
   "source": [
    "np.shape(np.sum(h5.root.pmtrd, axis=2))"
   ]
  },
  {
   "cell_type": "markdown",
   "metadata": {},
   "source": [
    "# Checking Memory Usage"
   ]
  },
  {
   "cell_type": "code",
   "execution_count": null,
   "metadata": {},
   "outputs": [],
   "source": [
    "def BruteForce():\n",
    "    events = 100\n",
    "    event_id = 0\n",
    "    event_ids, event_pmts, sipm_charge, pmt_charge, xval, yval, zval, sensors, pmt_sensors = [], [], [], [], [], [], [], [], []\n",
    "        \n",
    "    for evt in range(0,events):\n",
    "        sens = 1000\n",
    "\n",
    "        for sipmi in h5.root.sipmrd[evt, :]:\n",
    "            charge = sum(sipmi)\n",
    "            if charge > 0:\n",
    "                event_ids.append(event_id)\n",
    "                sipm_charge.append(charge)\n",
    "                xval.append(database[database.SensorID == sens].X.values[0])\n",
    "                yval.append(database[database.SensorID == sens].Y.values[0])\n",
    "                zval.append(first_nonzero(np.array(sipmi), 0) - 100)\n",
    "                sensors.append(sens)\n",
    "            sens += 1\n",
    "                \n",
    "        sens = 0\n",
    "        for pmti in h5.root.pmtrd[evt, :]:\n",
    "            charge = sum(pmti)\n",
    "            if charge > 0:\n",
    "                pmt_charge.append(charge)\n",
    "                pmt_sensors.append(sens)\n",
    "                event_pmts.append(event_id)\n",
    "            sens += 1\n",
    "            \n",
    "        event_id += 1\n",
    "            \n",
    "    sipmtable = {'event_id': event_ids,\n",
    "             'charge': sipm_charge,\n",
    "              'X':xval,\n",
    "              'Y':yval,\n",
    "              'Z':zval,\n",
    "              'sensor_id': sensors}\n",
    "\n",
    "    sipmtable_df = pd.DataFrame(sipmtable)\n",
    "\n",
    "    pmttable = {'event_id': event_pmts,\n",
    "                'charge': pmt_charge,\n",
    "              'sensor_id': pmt_sensors}\n",
    "\n",
    "    pmttable_df = pd.DataFrame(pmttable)\n",
    "    \n",
    "    return sipmtable_df, pmttable_df\n",
    "                    \n",
    "def Vectorize():\n",
    "    events = 100\n",
    "    sipm_charge = np.sum(h5.root.sipmrd, axis=2)\n",
    "    pmt_charge = np.sum(h5.root.pmtrd, axis=2).flatten()\n",
    "    nsipms = np.shape(sipm_charge)[1]\n",
    "    npmts = np.shape(h5.root.pmtrd)[1]\n",
    "    sipm_charge = sipm_charge.flatten()\n",
    "    sens = 1000\n",
    "    # Make sensor and event id numbers, SiPMs start at 1000\n",
    "    ids = np.arange(sens, sens+nsipms)\n",
    "    pmt_ids = np.arange(0,npmts)\n",
    "    event_ids = np.arange(0, events)\n",
    "\n",
    "    # Get sensor positions from the database based on sensor id\n",
    "    xs = database[database.SensorID.isin(ids)].X.values\n",
    "    ys = database[database.SensorID.isin(ids)].Y.values\n",
    "\n",
    "    # Get time (z pos) of event based on sensor time bins\n",
    "    zs = np.apply_along_axis(first_nonzero, axis=2, arr=h5.root.sipmrd).flatten() - 100\n",
    "\n",
    "    # Repeat for the number of events to match size of data\n",
    "    ids = np.repeat([ids], repeats=events, axis=0).flatten()\n",
    "    pmt_ids = np.repeat([pmt_ids], repeats=events, axis=0).flatten()\n",
    "    xs = np.repeat([xs], repeats=events, axis=0).flatten()\n",
    "    ys = np.repeat([ys], repeats=events, axis=0).flatten()\n",
    "    zs = np.repeat([zs], repeats=events, axis=0).flatten()\n",
    "\n",
    "    # Repeat event ids for number of sensors\n",
    "    event_ids = np.arange(0,events)\n",
    "    event_pmts = np.repeat(event_ids, npmts)\n",
    "    event_ids = np.repeat(event_ids,nsipms)\n",
    "\n",
    "    # Remove sensors with zero charge in an event\n",
    "    nonzero_entries = np.where(sipm_charge>0)\n",
    "    ids = ids[nonzero_entries]\n",
    "    sipm_charge = sipm_charge[nonzero_entries]\n",
    "    xs = xs[nonzero_entries]\n",
    "    ys = ys[nonzero_entries]\n",
    "    zs = zs[nonzero_entries]\n",
    "    event_ids = event_ids[nonzero_entries]\n",
    "    \n",
    "    sipmtable = {'event_id': event_ids,\n",
    "             'charge': sipm_charge,\n",
    "              'X':xs,\n",
    "              'Y':ys,\n",
    "              'Z':zs,\n",
    "              'sensor_id': ids}\n",
    "\n",
    "    sipmtable_df = pd.DataFrame(sipmtable)\n",
    "\n",
    "    print(np.shape(event_pmts), np.shape(pmt_charge), np.shape(pmt_ids))\n",
    "    pmttable = {'event_id': event_pmts,\n",
    "                'charge': pmt_charge,\n",
    "              'sensor_id': pmt_ids}\n",
    "\n",
    "    pmttable_df = pd.DataFrame(pmttable)\n",
    "    \n",
    "    return sipmtable_df, pmttable_df\n",
    "    \n",
    "def VectorizeLessMem():\n",
    "    events = 100\n",
    "    sipm_charge = np.sum(h5.root.sipmrd, axis=2)\n",
    "    pmt_charge = np.sum(h5.root.pmtrd, axis=2).ravel()\n",
    "    nsipms = np.shape(sipm_charge)[1]\n",
    "    npmts = np.shape(h5.root.pmtrd)[1]\n",
    "    sipm_charge = sipm_charge.ravel()\n",
    "    sens = 1000\n",
    "    # Make sensor and event id numbers, SiPMs start at 1000\n",
    "    ids = np.arange(sens, sens+nsipms)\n",
    "    pmt_ids = np.arange(0,npmts)\n",
    "    event_ids = np.arange(0, events)\n",
    "\n",
    "    # Get sensor positions from the database based on sensor id\n",
    "    xs = database[database.SensorID.isin(ids)].X.values\n",
    "    ys = database[database.SensorID.isin(ids)].Y.values\n",
    "\n",
    "    # Get time (z pos) of event based on sensor time bins\n",
    "    zs = np.apply_along_axis(first_nonzero, axis=2, arr=h5.root.sipmrd).ravel() - 100\n",
    "\n",
    "    # Repeat for the number of events to match size of data\n",
    "    ids = np.repeat([ids], repeats=events, axis=0).ravel()\n",
    "    pmt_ids = np.repeat([pmt_ids], repeats=events, axis=0).ravel()\n",
    "    xs = np.repeat([xs], repeats=events, axis=0).ravel()\n",
    "    ys = np.repeat([ys], repeats=events, axis=0).ravel()\n",
    "    zs = np.repeat([zs], repeats=events, axis=0).ravel()\n",
    "\n",
    "    # Repeat event ids for number of sensors\n",
    "    event_ids = np.arange(0,events)\n",
    "    event_pmts = np.repeat(event_ids, npmts)\n",
    "    event_ids = np.repeat(event_ids,nsipms)\n",
    "\n",
    "    # Remove sensors with zero charge in an event\n",
    "    nonzero_entries = np.where(sipm_charge>0)\n",
    "    ids = ids[nonzero_entries]\n",
    "    sipm_charge = sipm_charge[nonzero_entries]\n",
    "    xs = xs[nonzero_entries]\n",
    "    ys = ys[nonzero_entries]\n",
    "    zs = zs[nonzero_entries]\n",
    "    event_ids = event_ids[nonzero_entries]\n",
    "    \n",
    "    sipmtable = {'event_id': event_ids,\n",
    "             'charge': sipm_charge,\n",
    "              'X':xs,\n",
    "              'Y':ys,\n",
    "              'Z':zs,\n",
    "              'sensor_id': ids}\n",
    "\n",
    "    sipmtable_df = pd.DataFrame(sipmtable)\n",
    "\n",
    "    print(np.shape(event_pmts), np.shape(pmt_charge), np.shape(pmt_ids))\n",
    "    pmttable = {'event_id': event_pmts,\n",
    "                'charge': pmt_charge,\n",
    "              'sensor_id': pmt_ids}\n",
    "\n",
    "    pmttable_df = pd.DataFrame(pmttable)\n",
    "    \n",
    "    return sipmtable_df, pmttable_df\n",
    "    \n",
    "def VectorizePerEvent(sipm_event, pmt_event, event_id, database):\n",
    "    sipm_charge = np.sum(sipm_event, axis=1)\n",
    "    pmt_charge = np.sum(pmt_event, axis=1) \n",
    "    nsipms = np.shape(sipm_charge)[0]\n",
    "    npmts = np.shape(pmt_charge)[0]\n",
    "    sipm_charge = sipm_charge.ravel()\n",
    "    pmt_charge = pmt_charge.ravel()\n",
    "    sens = 1000\n",
    "    # Make sensor and event id numbers, SiPMs start at 1000\n",
    "    ids = np.arange(sens, sens+nsipms)\n",
    "    pmt_ids = np.arange(0, npmts)\n",
    "\n",
    "    # Get sensor positions from the database based on sensor id\n",
    "    xs = database[database.SensorID.isin(ids)].X.values\n",
    "    ys = database[database.SensorID.isin(ids)].Y.values\n",
    "\n",
    "    # Get time (z pos) of event based on sensor time bins\n",
    "    zs = np.apply_along_axis(first_nonzero, axis=1, arr=sipm_event).ravel() - 100\n",
    "\n",
    "    # Repeat event ids for number of sensors\n",
    "    event_ids = [event_id]\n",
    "    pmt_events = np.repeat(event_ids, npmts)\n",
    "    event_ids = np.repeat(event_ids, nsipms)\n",
    "\n",
    "    # Remove sensors with zero charge in an event\n",
    "    nonzero_entries = np.where(sipm_charge>0)\n",
    "    ids = ids[nonzero_entries]\n",
    "    sipm_charge = sipm_charge[nonzero_entries]\n",
    "    xs = xs[nonzero_entries]\n",
    "    ys = ys[nonzero_entries]\n",
    "    zs = zs[nonzero_entries]\n",
    "    event_ids = event_ids[nonzero_entries]\n",
    "    \n",
    "    return event_ids, sipm_charge, xs, ys, zs, ids, pmt_events, pmt_charge, pmt_ids\n",
    "    \n",
    "def VectorizeEvents(h5, database):\n",
    "    nevents = 100\n",
    "    event_ids = np.arange(0, nevents)\n",
    "    sipm_events = h5.root.sipmrd\n",
    "    pmt_events = h5.root.pmtrd\n",
    "\n",
    "    event_ids, sipm_charge, xs, ys, zs, ids, pmt_eids, pmt_charge, pmt_ids = [], [], [], [], [], [], [], [], []\n",
    "    for event in range(0,nevents):\n",
    "        sipm_data = sipm_events[event]\n",
    "        pmt_data = pmt_events[event]\n",
    "        events, s_charge, x, y, z, i, pmt_event, pmt_c, pmt_id = VectorizePerEvent(sipm_data, pmt_data, event, database)\n",
    "        event_ids.append(events)\n",
    "        sipm_charge.append(s_charge)\n",
    "        xs.append(x)\n",
    "        ys.append(y)\n",
    "        zs.append(z)\n",
    "        ids.append(i)\n",
    "        pmt_eids.append(pmt_event)\n",
    "        pmt_charge.append(pmt_c)\n",
    "        pmt_ids.append(pmt_id)\n",
    "        \n",
    "    sipmtable = {'event_id': event_ids,\n",
    "         'charge': sipm_charge,\n",
    "          'X':xs,\n",
    "          'Y':ys,\n",
    "          'Z':zs,\n",
    "          'sensor_id': ids}\n",
    "\n",
    "    sipmtable_df = pd.DataFrame(sipmtable)\n",
    "\n",
    "    pmttable = {'event_id': pmt_eids,\n",
    "                'charge': pmt_charge,\n",
    "              'sensor_id': pmt_ids}\n",
    "\n",
    "    return sipmtable_df, pmttable_df\n",
    "        \n",
    "def VectorizePerSet(event_set, event_id):\n",
    "    summed = np.sum(event_set, axis=1)\n",
    "    #pmt_charge = np.sum(h5.root.pmtrd, axis=2).flatten()\n",
    "    nsipms = np.shape(summed)[0]\n",
    "    #npmts = np.shape(h5.root.pmtrd)[1]\n",
    "    summed = summed.ravel()\n",
    "    sens = 1000\n",
    "    # Make sensor and event id numbers, SiPMs start at 1000\n",
    "    ids = np.arange(sens, sens+nsipms)\n",
    "    event_ids = np.arange(0, events)\n",
    "\n",
    "    # Get sensor positions from the database based on sensor id\n",
    "    xs = database[database.SensorID.isin(ids)].X.values\n",
    "    ys = database[database.SensorID.isin(ids)].Y.values\n",
    "\n",
    "    # Get time (z pos) of event based on sensor time bins\n",
    "    zs = np.apply_along_axis(first_nonzero, axis=2, arr=h5.root.sipmrd).ravel() - 100\n",
    "\n",
    "    # Repeat for the number of events to match size of data\n",
    "    ids = np.repeat([ids], repeats=events, axis=0).ravel()\n",
    "    xs = np.repeat([xs], repeats=events, axis=0).ravel()\n",
    "    ys = np.repeat([ys], repeats=events, axis=0).ravel()\n",
    "    zs = np.repeat([zs], repeats=events, axis=0).ravel()\n",
    "\n",
    "    # Repeat event ids for number of sensors\n",
    "    event_ids = np.arange(0,events)\n",
    "    event_ids = np.repeat(event_ids,nsipms)\n",
    "\n",
    "    # Remove sensors with zero charge in an event\n",
    "    nonzero_entries = np.where(summed>0)\n",
    "    ids = ids[nonzero_entries]\n",
    "    summed = summed[nonzero_entries]\n",
    "    xs = xs[nonzero_entries]\n",
    "    ys = ys[nonzero_entries]\n",
    "    zs = zs[nonzero_entries]\n",
    "    event_ids = event_ids[nonzero_entries]\n",
    "    \n",
    "def VectorizeAll():\n",
    "    nevents = 100\n",
    "    event_ids = np.arange(0, nevents)\n",
    "    events = h5.root.sipmrd\n",
    "    group_sipms = 1000\n",
    "    event = h5.root.sipmrd[0]\n",
    "    nsipms = np.shape(event)[0]\n",
    "    start_sipms = np.arange(0,nsipms, group_sipms)\n",
    "    for event, event_id in zip(events, event_ids):\n",
    "        for start in start_sipms:\n",
    "            VectorizePerEvent(event[start:start+group_sipms], event_id)"
   ]
  },
  {
   "cell_type": "code",
   "execution_count": null,
   "metadata": {},
   "outputs": [],
   "source": [
    "%%time\n",
    "sipm_data, pmt_data = VectorizeAll()"
   ]
  },
  {
   "cell_type": "code",
   "execution_count": null,
   "metadata": {},
   "outputs": [],
   "source": [
    "%%time\n",
    "sipm_data, pmt_data = VectorizeEvents(h5, database)"
   ]
  },
  {
   "cell_type": "code",
   "execution_count": null,
   "metadata": {},
   "outputs": [],
   "source": [
    "%%time\n",
    "sipm_data, pmt_data = Vectorize()"
   ]
  },
  {
   "cell_type": "code",
   "execution_count": null,
   "metadata": {},
   "outputs": [],
   "source": [
    "%%time\n",
    "sipm_data, pmt_data = BruteForce()"
   ]
  },
  {
   "cell_type": "code",
   "execution_count": null,
   "metadata": {},
   "outputs": [],
   "source": [
    "mem_usage = memory_usage(BruteForce)\n",
    "print('Maximum memory usage: %s' % max(mem_usage))"
   ]
  },
  {
   "cell_type": "code",
   "execution_count": null,
   "metadata": {},
   "outputs": [],
   "source": [
    "mem_usage = memory_usage(Vectorize)\n",
    "print('Maximum memory usage: %s' % max(mem_usage))"
   ]
  },
  {
   "cell_type": "code",
   "execution_count": null,
   "metadata": {},
   "outputs": [],
   "source": [
    "mem_usage = memory_usage(VectorizeEvents(h5, database))\n",
    "print('Maximum memory usage: %s' % max(mem_usage))"
   ]
  },
  {
   "cell_type": "code",
   "execution_count": null,
   "metadata": {},
   "outputs": [],
   "source": [
    "mem_usage = memory_usage(VectorizeAll)\n",
    "#print('Memory usage (in chunks of .1 seconds): %s' % mem_usage)\n",
    "print('Maximum memory usage: %s' % max(mem_usage))"
   ]
  },
  {
   "cell_type": "code",
   "execution_count": null,
   "metadata": {},
   "outputs": [],
   "source": [
    "# From tests on cluster iwth s1.3mmp15mm sim\n",
    "funcs_time = [44, 17, 22, 22, 60*2+45]\n",
    "funcs_mem = [1.36*1000, 5.8, 5.8, 6.23, 142.75]\n",
    "funcs = ['VectorizeAll', 'VectorizeEvents', 'VectorizeLessMem', 'Vectorize', 'BruteForce']\n",
    "for f in range(0,len(funcs)):\n",
    "    plt.plot(funcs_time[f], funcs_mem[f], 'o', label=funcs[f])\n",
    "plt.xlabel('Run time')\n",
    "plt.ylabel('Memory used [MB]')\n",
    "plt.legend()\n",
    "plt.show()\n",
    "for f in range(1,len(funcs)-1):\n",
    "    plt.plot(funcs_time[f], funcs_mem[f], 'o', label=funcs[f])\n",
    "plt.xlabel('Run time')\n",
    "plt.ylabel('Memory used [MB]')\n",
    "plt.legend()\n",
    "plt.show()"
   ]
  },
  {
   "cell_type": "markdown",
   "metadata": {},
   "source": [
    "# Fixing VectorizeEvents"
   ]
  },
  {
   "cell_type": "code",
   "execution_count": null,
   "metadata": {},
   "outputs": [],
   "source": [
    "def VectorizePerEvent(sipm_event, pmt_event, event_id, database):\n",
    "    sipm_charge = np.sum(sipm_event, axis=1)\n",
    "    pmt_charge = np.sum(pmt_event, axis=1) \n",
    "    nsipms = np.shape(sipm_charge)[0]\n",
    "    npmts = np.shape(pmt_charge)[0]\n",
    "    sipm_charge = sipm_charge.ravel()\n",
    "    pmt_charge = pmt_charge.ravel()\n",
    "    sens = 1000\n",
    "    # Make sensor and event id numbers, SiPMs start at 1000\n",
    "    ids = np.arange(sens, sens+nsipms)\n",
    "    pmt_ids = np.arange(0, npmts)\n",
    "\n",
    "    # Get sensor positions from the database based on sensor id\n",
    "    xs = database[database.SensorID.isin(ids)].X.values\n",
    "    ys = database[database.SensorID.isin(ids)].Y.values\n",
    "\n",
    "    # Get time (z pos) of event based on sensor time bins\n",
    "    zs = np.apply_along_axis(first_nonzero, axis=1, arr=sipm_event).ravel() - 100\n",
    "\n",
    "    # Repeat event ids for number of sensors\n",
    "    event_ids = [event_id]\n",
    "    pmt_events = np.repeat(event_ids, npmts)\n",
    "    event_ids = np.repeat(event_ids, nsipms)\n",
    "\n",
    "    # Remove sensors with zero charge in an event\n",
    "    nonzero_entries = np.where(sipm_charge>0)\n",
    "    ids = np.array(ids[nonzero_entries])\n",
    "    sipm_charge = np.array(sipm_charge[nonzero_entries])\n",
    "    xs = np.array(xs[nonzero_entries])\n",
    "    ys = np.array(ys[nonzero_entries])\n",
    "    zs = np.array(zs[nonzero_entries])\n",
    "    event_ids = np.array(event_ids[nonzero_entries])\n",
    "    \n",
    "    return event_ids, sipm_charge, xs, ys, zs, ids, pmt_events, pmt_charge, pmt_ids\n",
    "    \n",
    "def VectorizeEvents(h5, database):\n",
    "    nevents = 100\n",
    "    event_ids = np.arange(0, nevents)\n",
    "    sipm_events = h5.root.sipmrd\n",
    "    pmt_events = h5.root.pmtrd\n",
    "\n",
    "    event_ids, sipm_charge, xs, ys, zs, ids, pmt_eids, pmt_charge, pmt_ids = np.array([]), np.array([]), np.array([]), np.array([]), np.array([]), np.array([]), np.array([]), np.array([]), np.array([])\n",
    "    for event in range(0,nevents):\n",
    "        sipm_data = sipm_events[event]\n",
    "        pmt_data = pmt_events[event]\n",
    "        events, s_charge, x, y, z, i, pmt_event, pmt_c, pmt_id = VectorizePerEvent(sipm_data, pmt_data, event, database)\n",
    "        event_ids = np.concatenate((event_ids,events))\n",
    "        sipm_charge = np.concatenate((sipm_charge,s_charge))\n",
    "        xs = np.concatenate((xs,x))\n",
    "        ys = np.concatenate((ys,y))\n",
    "        zs = np.concatenate((zs,z))\n",
    "        ids = np.concatenate((ids,i))\n",
    "        pmt_eids = np.concatenate((pmt_eids,pmt_event))\n",
    "        pmt_charge = np.concatenate((pmt_charge,pmt_c))\n",
    "        pmt_ids = np.concatenate((pmt_ids,pmt_id))\n",
    "        \n",
    "    sipmtable = {'event_id': event_ids,\n",
    "         'charge': sipm_charge,\n",
    "          'X':xs,\n",
    "          'Y':ys,\n",
    "          'Z':zs,\n",
    "          'sensor_id': ids}\n",
    "\n",
    "    sipmtable_df = pd.DataFrame(sipmtable)\n",
    "\n",
    "    pmttable = {'event_id': pmt_eids,\n",
    "                'charge': pmt_charge,\n",
    "              'sensor_id': pmt_ids}\n",
    "\n",
    "    return sipmtable_df, pmttable_df"
   ]
  },
  {
   "cell_type": "code",
   "execution_count": null,
   "metadata": {},
   "outputs": [],
   "source": [
    "import invisible_cities.database.load_db as db\n",
    "sipmtable_df, pmttable_df = VectorizeEvents(h5, db.DataSiPM('s13mmp15mm'))"
   ]
  },
  {
   "cell_type": "code",
   "execution_count": null,
   "metadata": {},
   "outputs": [],
   "source": [
    "plt.hist(sipmtable_df.X)\n",
    "plt.show()\n",
    "\n",
    "plt.hist(sipmtable_df.Y)\n",
    "plt.show()\n",
    "\n",
    "plt.hist(sipmtable_df.Z)\n",
    "plt.show()"
   ]
  },
  {
   "cell_type": "code",
   "execution_count": null,
   "metadata": {},
   "outputs": [],
   "source": []
  },
  {
   "cell_type": "code",
   "execution_count": null,
   "metadata": {},
   "outputs": [],
   "source": []
  },
  {
   "cell_type": "code",
   "execution_count": null,
   "metadata": {},
   "outputs": [],
   "source": []
  },
  {
   "cell_type": "code",
   "execution_count": 25,
   "metadata": {},
   "outputs": [],
   "source": [
    "import numpy  as np\n",
    "import tables as tb\n",
    "import pandas as pd\n",
    "import sys\n",
    "\n",
    "from invisible_cities.io.dst_io import df_writer\n",
    "import invisible_cities.database.load_db as db\n",
    "import invisible_cities.io.mcinfo_io as mcio\n",
    "\n",
    "def first_nonzero(arr, axis=0, invalid_val=-1):\n",
    "    # Function to find the first nonzero entry\n",
    "    # in a given array, returning invalid_val if none\n",
    "    mask = arr!=0\n",
    "    return np.where(mask.any(axis=axis), mask.argmax(axis=axis), invalid_val)\n",
    "\n",
    "def GetMaxR(particles):\n",
    "    # Get r_max position based on true particles position\n",
    "    return np.sqrt(particles.initial_x**2 + particles.initial_y**2).max()\n",
    "\n",
    "def VectorizePerEvent(sipm_event, pmt_event, event_id, database):\n",
    "    sipm_charge = np.sum(sipm_event, axis=1)\n",
    "    pmt_charge = np.sum(pmt_event, axis=1) \n",
    "    nsipms = np.shape(sipm_charge)[0]\n",
    "    npmts = np.shape(pmt_charge)[0]\n",
    "    sipm_charge = sipm_charge.ravel()\n",
    "    pmt_charge = pmt_charge.ravel()\n",
    "    sens = 1000\n",
    "    # Make sensor and event id numbers, SiPMs start at 1000\n",
    "    ids = np.arange(sens, sens+nsipms)\n",
    "    pmt_ids = np.arange(0, npmts)\n",
    "\n",
    "    # Get sensor positions from the database based on sensor id\n",
    "    xs = database[database.SensorID.isin(ids)].X.values\n",
    "    ys = database[database.SensorID.isin(ids)].Y.values\n",
    "    \n",
    "    # Get time (z pos) of event based on sensor time bins\n",
    "    zs = np.apply_along_axis(first_nonzero, axis=1, arr=sipm_event).ravel() - 100\n",
    "\n",
    "    # Repeat event ids for number of sensors\n",
    "    event_ids = [event_id]\n",
    "    pmt_events = np.repeat(event_ids, npmts)\n",
    "    event_ids = np.repeat(event_ids, nsipms)\n",
    "\n",
    "    # Remove sensors with zero charge in an event\n",
    "    nonzero_entries = np.where(sipm_charge>0)\n",
    "    ids = np.array(ids[nonzero_entries])\n",
    "    sipm_charge = np.array(sipm_charge[nonzero_entries])\n",
    "    xs = np.array(xs[nonzero_entries])\n",
    "    ys = np.array(ys[nonzero_entries])\n",
    "    zs = np.array(zs[nonzero_entries])\n",
    "    event_ids = np.array(event_ids[nonzero_entries])\n",
    "    \n",
    "    return event_ids, sipm_charge, xs, ys, zs, ids, pmt_events, pmt_charge, pmt_ids\n",
    "    \n",
    "def ReduceWaveforms(h5file, outname, dbname, fnum, nevents=100):\n",
    "    event_start = fnum * nevents\n",
    "    h5 = tb.open_file(h5file)\n",
    "    database = db.DataSiPM(dbname)\n",
    "    sipm_events = h5.root.sipmrd\n",
    "    pmt_events = h5.root.pmtrd\n",
    "    \n",
    "    particles = mcio.load_mcparticles_df(h5file).reset_index()\n",
    "    rs = particles.groupby('event_id').apply(lambda grp: np.sqrt(grp.initial_x**2 + grp.initial_y**2).max())\n",
    "\n",
    "    event_ids, sipm_charge, xs, ys, zs, ids, pmt_eids, pmt_charge, pmt_ids = np.array([]), np.array([]), np.array([]), np.array([]), np.array([]), np.array([]), np.array([]), np.array([]), np.array([])\n",
    "    for event in range(0,nevents):\n",
    "        print('Event: ',event)\n",
    "        sipm_data = sipm_events[event]\n",
    "        pmt_data = pmt_events[event]\n",
    "        events, s_charge, x, y, z, i, pmt_event, pmt_c, pmt_id = VectorizePerEvent(sipm_data, pmt_data, event, database)\n",
    "        \n",
    "        events = events + event_start\n",
    "        event_ids = np.concatenate((event_ids,events))\n",
    "        sipm_charge = np.concatenate((sipm_charge,s_charge))\n",
    "        xs = np.concatenate((xs,x))\n",
    "        ys = np.concatenate((ys,y))\n",
    "        zs = np.concatenate((zs,z))\n",
    "        ids = np.concatenate((ids,i))\n",
    "        pmt_eids = pmt_eids + event_start\n",
    "        pmt_eids = np.concatenate((pmt_eids,pmt_event))\n",
    "        pmt_charge = np.concatenate((pmt_charge,pmt_c))\n",
    "        pmt_ids = np.concatenate((pmt_ids,pmt_id))\n",
    "    \n",
    "    print('Event_ids', event_ids)\n",
    "    sipmtable = {'event_id': event_ids,\n",
    "         'charge': sipm_charge,\n",
    "          'X':xs,\n",
    "          'Y':ys,\n",
    "          'Z':zs,\n",
    "          'sensor_id': ids}\n",
    "    sipmtable_df = pd.DataFrame(sipmtable)\n",
    "\n",
    "    pmttable = {'event_id': pmt_eids,\n",
    "                'charge': pmt_charge,\n",
    "              'sensor_id': pmt_ids}\n",
    "    pmttable_df = pd.DataFrame(pmttable)\n",
    "    \n",
    "    rtable = {'r_max':rs, 'event_id':particles.event_id.unique()}\n",
    "    rtable_df = pd.DataFrame(rtable)\n",
    "\n",
    "    print(f'Out {outname}')\n",
    "    h5out = tb.open_file(outname, 'w')\n",
    "\n",
    "    df_writer(h5out, sipmtable_df, 'SiPM',  'Waveforms')\n",
    "    df_writer(h5out, pmttable_df, 'PMT', 'Waveforms')\n",
    "    df_writer(h5out, rtable_df, 'particles', 'r_max')\n",
    "\n",
    "    h5out.close()\n",
    "\n",
    "    return"
   ]
  },
  {
   "cell_type": "code",
   "execution_count": 7,
   "metadata": {},
   "outputs": [],
   "source": [
    "import invisible_cities.io.mcinfo_io as mcio\n",
    "particles = mcio.load_mcparticles_df(h5file).reset_index()\n",
    "#evtmap = mcio.load_eventnumbermap(h5file).set_index('nexus_evt')\n",
    "#particles.event_id = particles.event_id.map(evtmap.evt_number)\n",
    "particles = particles[particles.primary==True]"
   ]
  },
  {
   "cell_type": "code",
   "execution_count": null,
   "metadata": {},
   "outputs": [],
   "source": [
    "event = particles[particles.event_id == 0]\n",
    "r = np.sqrt(event.initial_x**2 + event.initial_y**2)\n",
    "r_max = r.max()\n",
    "r_max"
   ]
  },
  {
   "cell_type": "code",
   "execution_count": null,
   "metadata": {},
   "outputs": [],
   "source": [
    "r_max = particles.groupby('event_id').apply(lambda grp: np.sqrt(grp.initial_x**2 + grp.initial_y**2).max())"
   ]
  },
  {
   "cell_type": "code",
   "execution_count": 8,
   "metadata": {},
   "outputs": [
    {
     "data": {
      "text/plain": [
       "array([0, 1, 2, 3, 4, 5, 6, 7, 8, 9])"
      ]
     },
     "execution_count": 8,
     "metadata": {},
     "output_type": "execute_result"
    }
   ],
   "source": [
    "particles.event_id.unique()"
   ]
  },
  {
   "cell_type": "code",
   "execution_count": null,
   "metadata": {},
   "outputs": [],
   "source": []
  },
  {
   "cell_type": "code",
   "execution_count": null,
   "metadata": {},
   "outputs": [],
   "source": []
  },
  {
   "cell_type": "code",
   "execution_count": 2,
   "metadata": {},
   "outputs": [],
   "source": [
    "data_dir = '/Users/taylorcontreras/Development/Research/trackingplane/data/test_12082022/'\n",
    "h5file = data_dir + 'flex.0vbb.0.buffy.s1.3mmp2.4mm.h5'\n",
    "outname = data_dir + 'test.h5'\n",
    "dbname = 's13mmp24mm'\n",
    "fnum = 999\n",
    "nevents = 10"
   ]
  },
  {
   "cell_type": "code",
   "execution_count": 3,
   "metadata": {},
   "outputs": [
    {
     "data": {
      "text/plain": [
       "'/Users/taylorcontreras/Development/Research/trackingplane/data/test_12082022/flex.0vbb.0.buffy.s1.3mmp2.4mm.h5'"
      ]
     },
     "execution_count": 3,
     "metadata": {},
     "output_type": "execute_result"
    }
   ],
   "source": [
    "h5file"
   ]
  },
  {
   "cell_type": "code",
   "execution_count": 26,
   "metadata": {},
   "outputs": [
    {
     "name": "stderr",
     "output_type": "stream",
     "text": [
      "/Users/taylorcontreras/anaconda3/envs/IC-3.7-2020-06-16/lib/python3.7/site-packages/tables/leaf.py:410: PerformanceWarning: The Leaf ``/sipmrd`` is exceeding the maximum recommended rowsize (104857600 bytes);\n",
      "be ready to see PyTables asking for *lots* of memory and possibly slow\n",
      "I/O.  You may want to reduce the rowsize by trimming the value of\n",
      "dimensions that are orthogonal (and preferably close) to the *main*\n",
      "dimension of this leave.  Alternatively, in case you have specified a\n",
      "very small/large chunksize, you may want to increase/decrease it.\n",
      "  PerformanceWarning)\n"
     ]
    },
    {
     "name": "stdout",
     "output_type": "stream",
     "text": [
      "Event:  0\n",
      "Event:  1\n",
      "Event:  2\n",
      "Event:  3\n",
      "Event:  4\n",
      "Event:  5\n",
      "Event:  6\n",
      "Event:  7\n",
      "Event:  8\n",
      "Event:  9\n",
      "Event_ids [9990. 9990. 9990. ... 9999. 9999. 9999.]\n",
      "Out /Users/taylorcontreras/Development/Research/trackingplane/data/test_12082022/test.h5\n"
     ]
    }
   ],
   "source": [
    "ReduceWaveforms(h5file, outname, dbname, fnum, nevents=10)"
   ]
  },
  {
   "cell_type": "code",
   "execution_count": 23,
   "metadata": {},
   "outputs": [],
   "source": [
    "test_out = pd.read_hdf(outname, 'particles/r_max')"
   ]
  },
  {
   "cell_type": "code",
   "execution_count": 24,
   "metadata": {},
   "outputs": [
    {
     "data": {
      "text/html": [
       "<div>\n",
       "<style scoped>\n",
       "    .dataframe tbody tr th:only-of-type {\n",
       "        vertical-align: middle;\n",
       "    }\n",
       "\n",
       "    .dataframe tbody tr th {\n",
       "        vertical-align: top;\n",
       "    }\n",
       "\n",
       "    .dataframe thead th {\n",
       "        text-align: right;\n",
       "    }\n",
       "</style>\n",
       "<table border=\"1\" class=\"dataframe\">\n",
       "  <thead>\n",
       "    <tr style=\"text-align: right;\">\n",
       "      <th></th>\n",
       "      <th>r_max</th>\n",
       "      <th>event_id</th>\n",
       "    </tr>\n",
       "  </thead>\n",
       "  <tbody>\n",
       "    <tr>\n",
       "      <th>0</th>\n",
       "      <td>337.972107</td>\n",
       "      <td>0</td>\n",
       "    </tr>\n",
       "    <tr>\n",
       "      <th>1</th>\n",
       "      <td>430.106934</td>\n",
       "      <td>1</td>\n",
       "    </tr>\n",
       "    <tr>\n",
       "      <th>2</th>\n",
       "      <td>477.085541</td>\n",
       "      <td>2</td>\n",
       "    </tr>\n",
       "    <tr>\n",
       "      <th>3</th>\n",
       "      <td>391.834381</td>\n",
       "      <td>3</td>\n",
       "    </tr>\n",
       "    <tr>\n",
       "      <th>4</th>\n",
       "      <td>314.805878</td>\n",
       "      <td>4</td>\n",
       "    </tr>\n",
       "    <tr>\n",
       "      <th>5</th>\n",
       "      <td>481.418823</td>\n",
       "      <td>5</td>\n",
       "    </tr>\n",
       "    <tr>\n",
       "      <th>6</th>\n",
       "      <td>562.020203</td>\n",
       "      <td>6</td>\n",
       "    </tr>\n",
       "    <tr>\n",
       "      <th>7</th>\n",
       "      <td>371.372437</td>\n",
       "      <td>7</td>\n",
       "    </tr>\n",
       "    <tr>\n",
       "      <th>8</th>\n",
       "      <td>305.493134</td>\n",
       "      <td>8</td>\n",
       "    </tr>\n",
       "    <tr>\n",
       "      <th>9</th>\n",
       "      <td>559.332153</td>\n",
       "      <td>9</td>\n",
       "    </tr>\n",
       "  </tbody>\n",
       "</table>\n",
       "</div>"
      ],
      "text/plain": [
       "        r_max  event_id\n",
       "0  337.972107         0\n",
       "1  430.106934         1\n",
       "2  477.085541         2\n",
       "3  391.834381         3\n",
       "4  314.805878         4\n",
       "5  481.418823         5\n",
       "6  562.020203         6\n",
       "7  371.372437         7\n",
       "8  305.493134         8\n",
       "9  559.332153         9"
      ]
     },
     "execution_count": 24,
     "metadata": {},
     "output_type": "execute_result"
    }
   ],
   "source": [
    "test_out"
   ]
  },
  {
   "cell_type": "code",
   "execution_count": null,
   "metadata": {},
   "outputs": [],
   "source": []
  }
 ],
 "metadata": {
  "kernelspec": {
   "display_name": "Python 3",
   "language": "python",
   "name": "python3"
  },
  "language_info": {
   "codemirror_mode": {
    "name": "ipython",
    "version": 3
   },
   "file_extension": ".py",
   "mimetype": "text/x-python",
   "name": "python",
   "nbconvert_exporter": "python",
   "pygments_lexer": "ipython3",
   "version": "3.7.9"
  }
 },
 "nbformat": 4,
 "nbformat_minor": 4
}
